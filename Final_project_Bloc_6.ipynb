{
 "cells": [
  {
   "cell_type": "markdown",
   "metadata": {},
   "source": [
    "# IMPORTATIONS "
   ]
  },
  {
   "cell_type": "code",
   "execution_count": 1,
   "metadata": {},
   "outputs": [],
   "source": [
    "# Import libraries :\n",
    "\n",
    "import pandas as pd\n",
    "import numpy as np\n",
    "import matplotlib.pyplot as plt\n",
    "import seaborn as sns\n",
    "import os\n",
    "import plotly.express as px\n",
    "import matplotlib.pyplot as plt\n",
    "import plotly.graph_objects as go\n",
    "import plotly.figure_factory as ff\n",
    "import plotly.io as pio\n",
    "import plotly.offline as py\n",
    "from plotly.subplots import make_subplots\n",
    "import plotly.figure_factory as ff\n",
    "import plotly.graph_objects as go\n",
    "\n",
    "from sklearn.compose import ColumnTransformer\n",
    "from sklearn.linear_model import LinearRegression\n",
    "from sklearn.ensemble import RandomForestRegressor\n",
    "from sklearn.tree import DecisionTreeRegressor\n",
    "from sklearn.metrics import r2_score\n",
    "from sklearn.model_selection import train_test_split\n",
    "from sklearn.pipeline import Pipeline\n",
    "from sklearn.impute import SimpleImputer\n",
    "from sklearn.preprocessing import StandardScaler\n",
    "from sklearn.preprocessing import OneHotEncoder, LabelEncoder\n",
    "from sklearn.cluster import KMeans, DBSCAN\n",
    "from sklearn.metrics import  silhouette_score\n",
    "\n",
    "from sklearn.model_selection import GridSearchCV\n",
    "from sklearn.metrics import (\n",
    "    accuracy_score,\n",
    "    f1_score,\n",
    "    ConfusionMatrixDisplay,\n",
    "    RocCurveDisplay,\n",
    ")\n",
    "import matplotlib.pyplot as plt\n",
    "import warnings"
   ]
  },
  {
   "cell_type": "code",
   "execution_count": 2,
   "metadata": {},
   "outputs": [
    {
     "data": {
      "text/html": [
       "<div>\n",
       "<style scoped>\n",
       "    .dataframe tbody tr th:only-of-type {\n",
       "        vertical-align: middle;\n",
       "    }\n",
       "\n",
       "    .dataframe tbody tr th {\n",
       "        vertical-align: top;\n",
       "    }\n",
       "\n",
       "    .dataframe thead th {\n",
       "        text-align: right;\n",
       "    }\n",
       "</style>\n",
       "<table border=\"1\" class=\"dataframe\">\n",
       "  <thead>\n",
       "    <tr style=\"text-align: right;\">\n",
       "      <th></th>\n",
       "      <th>id</th>\n",
       "      <th>company_name</th>\n",
       "      <th>establishment_name</th>\n",
       "      <th>ein</th>\n",
       "      <th>street_address</th>\n",
       "      <th>city</th>\n",
       "      <th>state</th>\n",
       "      <th>zip_code</th>\n",
       "      <th>naics_code</th>\n",
       "      <th>industry_description</th>\n",
       "      <th>...</th>\n",
       "      <th>total_hearing_loss</th>\n",
       "      <th>total_other_illnesses</th>\n",
       "      <th>establishment_id</th>\n",
       "      <th>establishment_type</th>\n",
       "      <th>size</th>\n",
       "      <th>year_filing_for</th>\n",
       "      <th>created_timestamp</th>\n",
       "      <th>change_reason</th>\n",
       "      <th>source</th>\n",
       "      <th>delete</th>\n",
       "    </tr>\n",
       "  </thead>\n",
       "  <tbody>\n",
       "    <tr>\n",
       "      <th>0</th>\n",
       "      <td>4</td>\n",
       "      <td>McKamish, Inc.</td>\n",
       "      <td>McKamish, Inc.</td>\n",
       "      <td>NaN</td>\n",
       "      <td>50 55th Street</td>\n",
       "      <td>Pittsburgh</td>\n",
       "      <td>PA</td>\n",
       "      <td>15201.0</td>\n",
       "      <td>238220</td>\n",
       "      <td>Heating, ventilation and air-conditioning (HVA...</td>\n",
       "      <td>...</td>\n",
       "      <td>0</td>\n",
       "      <td>0</td>\n",
       "      <td>41920</td>\n",
       "      <td>1.0</td>\n",
       "      <td>3</td>\n",
       "      <td>2016</td>\n",
       "      <td>8/1/2017 6:12:00</td>\n",
       "      <td>NaN</td>\n",
       "      <td>ITA Data CY 2016.csv</td>\n",
       "      <td>NaN</td>\n",
       "    </tr>\n",
       "    <tr>\n",
       "      <th>1</th>\n",
       "      <td>5</td>\n",
       "      <td>The Talaria Company, LLC</td>\n",
       "      <td>The Hinckley Company</td>\n",
       "      <td>NaN</td>\n",
       "      <td>40 Industrial Way</td>\n",
       "      <td>Trenton</td>\n",
       "      <td>ME</td>\n",
       "      <td>4605.0</td>\n",
       "      <td>336612</td>\n",
       "      <td>Pleasure boats manufacturing</td>\n",
       "      <td>...</td>\n",
       "      <td>0</td>\n",
       "      <td>0</td>\n",
       "      <td>41922</td>\n",
       "      <td>1.0</td>\n",
       "      <td>3</td>\n",
       "      <td>2016</td>\n",
       "      <td>8/1/2017 6:23:00</td>\n",
       "      <td>NaN</td>\n",
       "      <td>ITA Data CY 2016.csv</td>\n",
       "      <td>NaN</td>\n",
       "    </tr>\n",
       "    <tr>\n",
       "      <th>2</th>\n",
       "      <td>6</td>\n",
       "      <td>Williamsburg Manufacturing</td>\n",
       "      <td>Williamsburg Manufacturing</td>\n",
       "      <td>NaN</td>\n",
       "      <td>408 Maplewood Ave</td>\n",
       "      <td>Williamsburg</td>\n",
       "      <td>IA</td>\n",
       "      <td>52361.0</td>\n",
       "      <td>336370</td>\n",
       "      <td>Motor vehicle metal parts stamping</td>\n",
       "      <td>...</td>\n",
       "      <td>0</td>\n",
       "      <td>0</td>\n",
       "      <td>41923</td>\n",
       "      <td>1.0</td>\n",
       "      <td>3</td>\n",
       "      <td>2016</td>\n",
       "      <td>8/1/2017 6:27:00</td>\n",
       "      <td>NaN</td>\n",
       "      <td>ITA Data CY 2016.csv</td>\n",
       "      <td>NaN</td>\n",
       "    </tr>\n",
       "    <tr>\n",
       "      <th>3</th>\n",
       "      <td>7</td>\n",
       "      <td>The Talaria Company, LLC</td>\n",
       "      <td>Morris Yachts, LLC</td>\n",
       "      <td>NaN</td>\n",
       "      <td>27 Ramp Road</td>\n",
       "      <td>Trenton</td>\n",
       "      <td>ME</td>\n",
       "      <td>4605.0</td>\n",
       "      <td>336612</td>\n",
       "      <td>Pleasure boats manufacturing</td>\n",
       "      <td>...</td>\n",
       "      <td>0</td>\n",
       "      <td>0</td>\n",
       "      <td>41925</td>\n",
       "      <td>1.0</td>\n",
       "      <td>2</td>\n",
       "      <td>2016</td>\n",
       "      <td>8/1/2017 6:36:00</td>\n",
       "      <td>Hit wrong hyperlink</td>\n",
       "      <td>ITA Data CY 2016.csv</td>\n",
       "      <td>NaN</td>\n",
       "    </tr>\n",
       "    <tr>\n",
       "      <th>4</th>\n",
       "      <td>8</td>\n",
       "      <td>The Talaria Company, LLC</td>\n",
       "      <td>Hunt Yachts, LLC</td>\n",
       "      <td>NaN</td>\n",
       "      <td>1909 Alden Landing</td>\n",
       "      <td>Portsmouth</td>\n",
       "      <td>RI</td>\n",
       "      <td>2871.0</td>\n",
       "      <td>336612</td>\n",
       "      <td>Pleasure boats manufacturing</td>\n",
       "      <td>...</td>\n",
       "      <td>0</td>\n",
       "      <td>0</td>\n",
       "      <td>41926</td>\n",
       "      <td>1.0</td>\n",
       "      <td>2</td>\n",
       "      <td>2016</td>\n",
       "      <td>8/1/2017 6:35:00</td>\n",
       "      <td>NaN</td>\n",
       "      <td>ITA Data CY 2016.csv</td>\n",
       "      <td>NaN</td>\n",
       "    </tr>\n",
       "  </tbody>\n",
       "</table>\n",
       "<p>5 rows × 33 columns</p>\n",
       "</div>"
      ],
      "text/plain": [
       "   id                company_name          establishment_name  ein  \\\n",
       "0   4              McKamish, Inc.              McKamish, Inc.  NaN   \n",
       "1   5    The Talaria Company, LLC        The Hinckley Company  NaN   \n",
       "2   6  Williamsburg Manufacturing  Williamsburg Manufacturing  NaN   \n",
       "3   7    The Talaria Company, LLC          Morris Yachts, LLC  NaN   \n",
       "4   8    The Talaria Company, LLC            Hunt Yachts, LLC  NaN   \n",
       "\n",
       "       street_address          city state  zip_code  naics_code  \\\n",
       "0      50 55th Street    Pittsburgh    PA   15201.0      238220   \n",
       "1   40 Industrial Way       Trenton    ME    4605.0      336612   \n",
       "2   408 Maplewood Ave  Williamsburg    IA   52361.0      336370   \n",
       "3        27 Ramp Road       Trenton    ME    4605.0      336612   \n",
       "4  1909 Alden Landing    Portsmouth    RI    2871.0      336612   \n",
       "\n",
       "                                industry_description  ...  total_hearing_loss  \\\n",
       "0  Heating, ventilation and air-conditioning (HVA...  ...                   0   \n",
       "1                       Pleasure boats manufacturing  ...                   0   \n",
       "2                 Motor vehicle metal parts stamping  ...                   0   \n",
       "3                       Pleasure boats manufacturing  ...                   0   \n",
       "4                       Pleasure boats manufacturing  ...                   0   \n",
       "\n",
       "   total_other_illnesses  establishment_id  establishment_type  size  \\\n",
       "0                      0             41920                 1.0     3   \n",
       "1                      0             41922                 1.0     3   \n",
       "2                      0             41923                 1.0     3   \n",
       "3                      0             41925                 1.0     2   \n",
       "4                      0             41926                 1.0     2   \n",
       "\n",
       "   year_filing_for  created_timestamp        change_reason  \\\n",
       "0             2016   8/1/2017 6:12:00                  NaN   \n",
       "1             2016   8/1/2017 6:23:00                  NaN   \n",
       "2             2016   8/1/2017 6:27:00                  NaN   \n",
       "3             2016   8/1/2017 6:36:00  Hit wrong hyperlink   \n",
       "4             2016   8/1/2017 6:35:00                  NaN   \n",
       "\n",
       "                 source  delete  \n",
       "0  ITA Data CY 2016.csv     NaN  \n",
       "1  ITA Data CY 2016.csv     NaN  \n",
       "2  ITA Data CY 2016.csv     NaN  \n",
       "3  ITA Data CY 2016.csv     NaN  \n",
       "4  ITA Data CY 2016.csv     NaN  \n",
       "\n",
       "[5 rows x 33 columns]"
      ]
     },
     "execution_count": 2,
     "metadata": {},
     "output_type": "execute_result"
    }
   ],
   "source": [
    "# Import dataset :\n",
    "\n",
    "dataset = pd.read_csv(\"ITA_OSHA_Combined.csv\", low_memory=False)\n",
    "dataset.head()"
   ]
  },
  {
   "cell_type": "code",
   "execution_count": 3,
   "metadata": {},
   "outputs": [
    {
     "data": {
      "text/html": [
       "<div>\n",
       "<style scoped>\n",
       "    .dataframe tbody tr th:only-of-type {\n",
       "        vertical-align: middle;\n",
       "    }\n",
       "\n",
       "    .dataframe tbody tr th {\n",
       "        vertical-align: top;\n",
       "    }\n",
       "\n",
       "    .dataframe thead th {\n",
       "        text-align: right;\n",
       "    }\n",
       "</style>\n",
       "<table border=\"1\" class=\"dataframe\">\n",
       "  <thead>\n",
       "    <tr style=\"text-align: right;\">\n",
       "      <th></th>\n",
       "      <th>id</th>\n",
       "      <th>company_name</th>\n",
       "      <th>establishment_name</th>\n",
       "      <th>ein</th>\n",
       "      <th>street_address</th>\n",
       "      <th>city</th>\n",
       "      <th>state</th>\n",
       "      <th>zip_code</th>\n",
       "      <th>naics_code</th>\n",
       "      <th>industry_description</th>\n",
       "      <th>...</th>\n",
       "      <th>total_hearing_loss</th>\n",
       "      <th>total_other_illnesses</th>\n",
       "      <th>establishment_id</th>\n",
       "      <th>establishment_type</th>\n",
       "      <th>size</th>\n",
       "      <th>year_filing_for</th>\n",
       "      <th>created_timestamp</th>\n",
       "      <th>change_reason</th>\n",
       "      <th>source</th>\n",
       "      <th>delete</th>\n",
       "    </tr>\n",
       "  </thead>\n",
       "  <tbody>\n",
       "    <tr>\n",
       "      <th>794987</th>\n",
       "      <td>1090429</td>\n",
       "      <td>CCL Tube (Wilkes-Barre), Inc.</td>\n",
       "      <td>CCL Tube</td>\n",
       "      <td>NaN</td>\n",
       "      <td>1 Lasley Avenue</td>\n",
       "      <td>Wilkes Barre</td>\n",
       "      <td>PA</td>\n",
       "      <td>18706.0</td>\n",
       "      <td>561910</td>\n",
       "      <td>Labeling services</td>\n",
       "      <td>...</td>\n",
       "      <td>0</td>\n",
       "      <td>0</td>\n",
       "      <td>93030</td>\n",
       "      <td>1.0</td>\n",
       "      <td>2</td>\n",
       "      <td>2020</td>\n",
       "      <td>1/1/2021 13:57:57</td>\n",
       "      <td>NaN</td>\n",
       "      <td>ITA Data CY 2020.csv</td>\n",
       "      <td>NaN</td>\n",
       "    </tr>\n",
       "    <tr>\n",
       "      <th>794988</th>\n",
       "      <td>1090430</td>\n",
       "      <td>Del-Co Water Company, Inc.</td>\n",
       "      <td>All Locations</td>\n",
       "      <td>310749383.0</td>\n",
       "      <td>6658 Olentangy River Rd</td>\n",
       "      <td>Delaware</td>\n",
       "      <td>OH</td>\n",
       "      <td>43015.0</td>\n",
       "      <td>221310</td>\n",
       "      <td>Water treatment and distribution</td>\n",
       "      <td>...</td>\n",
       "      <td>0</td>\n",
       "      <td>0</td>\n",
       "      <td>85507</td>\n",
       "      <td>1.0</td>\n",
       "      <td>2</td>\n",
       "      <td>2020</td>\n",
       "      <td>1/1/2021 14:35:40</td>\n",
       "      <td>NaN</td>\n",
       "      <td>ITA Data CY 2020.csv</td>\n",
       "      <td>NaN</td>\n",
       "    </tr>\n",
       "    <tr>\n",
       "      <th>794989</th>\n",
       "      <td>1090431</td>\n",
       "      <td>DURATECH INDUSTRIES INTERNATIONAL INC</td>\n",
       "      <td>DURATECH INDUSTRIES INTERNATIONAL INC</td>\n",
       "      <td>450283636.0</td>\n",
       "      <td>3780 HIGHWAY 281 SE</td>\n",
       "      <td>JAMESTOWN</td>\n",
       "      <td>ND</td>\n",
       "      <td>584019421.0</td>\n",
       "      <td>333111</td>\n",
       "      <td>Bale throwers manufacturing</td>\n",
       "      <td>...</td>\n",
       "      <td>0</td>\n",
       "      <td>0</td>\n",
       "      <td>649852</td>\n",
       "      <td>1.0</td>\n",
       "      <td>2</td>\n",
       "      <td>2020</td>\n",
       "      <td>1/1/2021 16:04:06</td>\n",
       "      <td>NaN</td>\n",
       "      <td>ITA Data CY 2020.csv</td>\n",
       "      <td>NaN</td>\n",
       "    </tr>\n",
       "    <tr>\n",
       "      <th>794990</th>\n",
       "      <td>1090432</td>\n",
       "      <td>Fred Wahl Marine Construction</td>\n",
       "      <td>Fred Wahl Marine Construction</td>\n",
       "      <td>931029886.0</td>\n",
       "      <td>135 Shipyard Way</td>\n",
       "      <td>Reedsport</td>\n",
       "      <td>OR</td>\n",
       "      <td>97467.0</td>\n",
       "      <td>336611</td>\n",
       "      <td>Naval ship building</td>\n",
       "      <td>...</td>\n",
       "      <td>0</td>\n",
       "      <td>0</td>\n",
       "      <td>541133</td>\n",
       "      <td>1.0</td>\n",
       "      <td>2</td>\n",
       "      <td>2020</td>\n",
       "      <td>1/1/2021 17:11:02</td>\n",
       "      <td>NaN</td>\n",
       "      <td>ITA Data CY 2020.csv</td>\n",
       "      <td>NaN</td>\n",
       "    </tr>\n",
       "    <tr>\n",
       "      <th>794991</th>\n",
       "      <td>1090433</td>\n",
       "      <td>J.R. Johnson, LLC</td>\n",
       "      <td>J.R. Johnson, LLC</td>\n",
       "      <td>931153731.0</td>\n",
       "      <td>9425 N. Burrage Ave</td>\n",
       "      <td>Portland</td>\n",
       "      <td>OR</td>\n",
       "      <td>97217.0</td>\n",
       "      <td>236116</td>\n",
       "      <td>Construction management, multifamily building</td>\n",
       "      <td>...</td>\n",
       "      <td>0</td>\n",
       "      <td>0</td>\n",
       "      <td>407708</td>\n",
       "      <td>1.0</td>\n",
       "      <td>2</td>\n",
       "      <td>2020</td>\n",
       "      <td>1/1/2021 17:11:19</td>\n",
       "      <td>NaN</td>\n",
       "      <td>ITA Data CY 2020.csv</td>\n",
       "      <td>NaN</td>\n",
       "    </tr>\n",
       "  </tbody>\n",
       "</table>\n",
       "<p>5 rows × 33 columns</p>\n",
       "</div>"
      ],
      "text/plain": [
       "             id                           company_name  \\\n",
       "794987  1090429          CCL Tube (Wilkes-Barre), Inc.   \n",
       "794988  1090430             Del-Co Water Company, Inc.   \n",
       "794989  1090431  DURATECH INDUSTRIES INTERNATIONAL INC   \n",
       "794990  1090432          Fred Wahl Marine Construction   \n",
       "794991  1090433                      J.R. Johnson, LLC   \n",
       "\n",
       "                           establishment_name          ein  \\\n",
       "794987                               CCL Tube          NaN   \n",
       "794988                         All Locations   310749383.0   \n",
       "794989  DURATECH INDUSTRIES INTERNATIONAL INC  450283636.0   \n",
       "794990          Fred Wahl Marine Construction  931029886.0   \n",
       "794991                      J.R. Johnson, LLC  931153731.0   \n",
       "\n",
       "                 street_address          city state     zip_code  naics_code  \\\n",
       "794987          1 Lasley Avenue  Wilkes Barre    PA      18706.0      561910   \n",
       "794988  6658 Olentangy River Rd      Delaware    OH      43015.0      221310   \n",
       "794989     3780 HIGHWAY 281 SE      JAMESTOWN    ND  584019421.0      333111   \n",
       "794990         135 Shipyard Way     Reedsport    OR      97467.0      336611   \n",
       "794991      9425 N. Burrage Ave      Portland    OR      97217.0      236116   \n",
       "\n",
       "                                   industry_description  ...  \\\n",
       "794987                               Labeling services   ...   \n",
       "794988                Water treatment and distribution   ...   \n",
       "794989                     Bale throwers manufacturing   ...   \n",
       "794990                             Naval ship building   ...   \n",
       "794991   Construction management, multifamily building   ...   \n",
       "\n",
       "        total_hearing_loss  total_other_illnesses  establishment_id  \\\n",
       "794987                   0                      0             93030   \n",
       "794988                   0                      0             85507   \n",
       "794989                   0                      0            649852   \n",
       "794990                   0                      0            541133   \n",
       "794991                   0                      0            407708   \n",
       "\n",
       "        establishment_type  size  year_filing_for  created_timestamp  \\\n",
       "794987                 1.0     2             2020  1/1/2021 13:57:57   \n",
       "794988                 1.0     2             2020  1/1/2021 14:35:40   \n",
       "794989                 1.0     2             2020  1/1/2021 16:04:06   \n",
       "794990                 1.0     2             2020  1/1/2021 17:11:02   \n",
       "794991                 1.0     2             2020  1/1/2021 17:11:19   \n",
       "\n",
       "        change_reason                source  delete  \n",
       "794987            NaN  ITA Data CY 2020.csv     NaN  \n",
       "794988            NaN  ITA Data CY 2020.csv     NaN  \n",
       "794989            NaN  ITA Data CY 2020.csv     NaN  \n",
       "794990            NaN  ITA Data CY 2020.csv     NaN  \n",
       "794991            NaN  ITA Data CY 2020.csv     NaN  \n",
       "\n",
       "[5 rows x 33 columns]"
      ]
     },
     "execution_count": 3,
     "metadata": {},
     "output_type": "execute_result"
    }
   ],
   "source": [
    "# Filter the dataset \n",
    "# We will only use the informations of the year 2020 :\n",
    "\n",
    "dataset_2020 = dataset[dataset['year_filing_for'].isin([2020])]\n",
    "dataset_2020.head()\n",
    "\n"
   ]
  },
  {
   "cell_type": "markdown",
   "metadata": {},
   "source": [
    "# STATISTICS "
   ]
  },
  {
   "cell_type": "code",
   "execution_count": 4,
   "metadata": {},
   "outputs": [
    {
     "name": "stdout",
     "output_type": "stream",
     "text": [
      "Number of rows : 293391\n",
      "\n",
      "Number of columns : 33\n",
      "\n",
      "Display of dataset: \n"
     ]
    },
    {
     "data": {
      "text/html": [
       "<div>\n",
       "<style scoped>\n",
       "    .dataframe tbody tr th:only-of-type {\n",
       "        vertical-align: middle;\n",
       "    }\n",
       "\n",
       "    .dataframe tbody tr th {\n",
       "        vertical-align: top;\n",
       "    }\n",
       "\n",
       "    .dataframe thead th {\n",
       "        text-align: right;\n",
       "    }\n",
       "</style>\n",
       "<table border=\"1\" class=\"dataframe\">\n",
       "  <thead>\n",
       "    <tr style=\"text-align: right;\">\n",
       "      <th></th>\n",
       "      <th>id</th>\n",
       "      <th>company_name</th>\n",
       "      <th>establishment_name</th>\n",
       "      <th>ein</th>\n",
       "      <th>street_address</th>\n",
       "      <th>city</th>\n",
       "      <th>state</th>\n",
       "      <th>zip_code</th>\n",
       "      <th>naics_code</th>\n",
       "      <th>industry_description</th>\n",
       "      <th>...</th>\n",
       "      <th>total_hearing_loss</th>\n",
       "      <th>total_other_illnesses</th>\n",
       "      <th>establishment_id</th>\n",
       "      <th>establishment_type</th>\n",
       "      <th>size</th>\n",
       "      <th>year_filing_for</th>\n",
       "      <th>created_timestamp</th>\n",
       "      <th>change_reason</th>\n",
       "      <th>source</th>\n",
       "      <th>delete</th>\n",
       "    </tr>\n",
       "  </thead>\n",
       "  <tbody>\n",
       "    <tr>\n",
       "      <th>794987</th>\n",
       "      <td>1090429</td>\n",
       "      <td>CCL Tube (Wilkes-Barre), Inc.</td>\n",
       "      <td>CCL Tube</td>\n",
       "      <td>NaN</td>\n",
       "      <td>1 Lasley Avenue</td>\n",
       "      <td>Wilkes Barre</td>\n",
       "      <td>PA</td>\n",
       "      <td>18706.0</td>\n",
       "      <td>561910</td>\n",
       "      <td>Labeling services</td>\n",
       "      <td>...</td>\n",
       "      <td>0</td>\n",
       "      <td>0</td>\n",
       "      <td>93030</td>\n",
       "      <td>1.0</td>\n",
       "      <td>2</td>\n",
       "      <td>2020</td>\n",
       "      <td>1/1/2021 13:57:57</td>\n",
       "      <td>NaN</td>\n",
       "      <td>ITA Data CY 2020.csv</td>\n",
       "      <td>NaN</td>\n",
       "    </tr>\n",
       "    <tr>\n",
       "      <th>794988</th>\n",
       "      <td>1090430</td>\n",
       "      <td>Del-Co Water Company, Inc.</td>\n",
       "      <td>All Locations</td>\n",
       "      <td>310749383.0</td>\n",
       "      <td>6658 Olentangy River Rd</td>\n",
       "      <td>Delaware</td>\n",
       "      <td>OH</td>\n",
       "      <td>43015.0</td>\n",
       "      <td>221310</td>\n",
       "      <td>Water treatment and distribution</td>\n",
       "      <td>...</td>\n",
       "      <td>0</td>\n",
       "      <td>0</td>\n",
       "      <td>85507</td>\n",
       "      <td>1.0</td>\n",
       "      <td>2</td>\n",
       "      <td>2020</td>\n",
       "      <td>1/1/2021 14:35:40</td>\n",
       "      <td>NaN</td>\n",
       "      <td>ITA Data CY 2020.csv</td>\n",
       "      <td>NaN</td>\n",
       "    </tr>\n",
       "    <tr>\n",
       "      <th>794989</th>\n",
       "      <td>1090431</td>\n",
       "      <td>DURATECH INDUSTRIES INTERNATIONAL INC</td>\n",
       "      <td>DURATECH INDUSTRIES INTERNATIONAL INC</td>\n",
       "      <td>450283636.0</td>\n",
       "      <td>3780 HIGHWAY 281 SE</td>\n",
       "      <td>JAMESTOWN</td>\n",
       "      <td>ND</td>\n",
       "      <td>584019421.0</td>\n",
       "      <td>333111</td>\n",
       "      <td>Bale throwers manufacturing</td>\n",
       "      <td>...</td>\n",
       "      <td>0</td>\n",
       "      <td>0</td>\n",
       "      <td>649852</td>\n",
       "      <td>1.0</td>\n",
       "      <td>2</td>\n",
       "      <td>2020</td>\n",
       "      <td>1/1/2021 16:04:06</td>\n",
       "      <td>NaN</td>\n",
       "      <td>ITA Data CY 2020.csv</td>\n",
       "      <td>NaN</td>\n",
       "    </tr>\n",
       "    <tr>\n",
       "      <th>794990</th>\n",
       "      <td>1090432</td>\n",
       "      <td>Fred Wahl Marine Construction</td>\n",
       "      <td>Fred Wahl Marine Construction</td>\n",
       "      <td>931029886.0</td>\n",
       "      <td>135 Shipyard Way</td>\n",
       "      <td>Reedsport</td>\n",
       "      <td>OR</td>\n",
       "      <td>97467.0</td>\n",
       "      <td>336611</td>\n",
       "      <td>Naval ship building</td>\n",
       "      <td>...</td>\n",
       "      <td>0</td>\n",
       "      <td>0</td>\n",
       "      <td>541133</td>\n",
       "      <td>1.0</td>\n",
       "      <td>2</td>\n",
       "      <td>2020</td>\n",
       "      <td>1/1/2021 17:11:02</td>\n",
       "      <td>NaN</td>\n",
       "      <td>ITA Data CY 2020.csv</td>\n",
       "      <td>NaN</td>\n",
       "    </tr>\n",
       "    <tr>\n",
       "      <th>794991</th>\n",
       "      <td>1090433</td>\n",
       "      <td>J.R. Johnson, LLC</td>\n",
       "      <td>J.R. Johnson, LLC</td>\n",
       "      <td>931153731.0</td>\n",
       "      <td>9425 N. Burrage Ave</td>\n",
       "      <td>Portland</td>\n",
       "      <td>OR</td>\n",
       "      <td>97217.0</td>\n",
       "      <td>236116</td>\n",
       "      <td>Construction management, multifamily building</td>\n",
       "      <td>...</td>\n",
       "      <td>0</td>\n",
       "      <td>0</td>\n",
       "      <td>407708</td>\n",
       "      <td>1.0</td>\n",
       "      <td>2</td>\n",
       "      <td>2020</td>\n",
       "      <td>1/1/2021 17:11:19</td>\n",
       "      <td>NaN</td>\n",
       "      <td>ITA Data CY 2020.csv</td>\n",
       "      <td>NaN</td>\n",
       "    </tr>\n",
       "  </tbody>\n",
       "</table>\n",
       "<p>5 rows × 33 columns</p>\n",
       "</div>"
      ],
      "text/plain": [
       "             id                           company_name  \\\n",
       "794987  1090429          CCL Tube (Wilkes-Barre), Inc.   \n",
       "794988  1090430             Del-Co Water Company, Inc.   \n",
       "794989  1090431  DURATECH INDUSTRIES INTERNATIONAL INC   \n",
       "794990  1090432          Fred Wahl Marine Construction   \n",
       "794991  1090433                      J.R. Johnson, LLC   \n",
       "\n",
       "                           establishment_name          ein  \\\n",
       "794987                               CCL Tube          NaN   \n",
       "794988                         All Locations   310749383.0   \n",
       "794989  DURATECH INDUSTRIES INTERNATIONAL INC  450283636.0   \n",
       "794990          Fred Wahl Marine Construction  931029886.0   \n",
       "794991                      J.R. Johnson, LLC  931153731.0   \n",
       "\n",
       "                 street_address          city state     zip_code  naics_code  \\\n",
       "794987          1 Lasley Avenue  Wilkes Barre    PA      18706.0      561910   \n",
       "794988  6658 Olentangy River Rd      Delaware    OH      43015.0      221310   \n",
       "794989     3780 HIGHWAY 281 SE      JAMESTOWN    ND  584019421.0      333111   \n",
       "794990         135 Shipyard Way     Reedsport    OR      97467.0      336611   \n",
       "794991      9425 N. Burrage Ave      Portland    OR      97217.0      236116   \n",
       "\n",
       "                                   industry_description  ...  \\\n",
       "794987                               Labeling services   ...   \n",
       "794988                Water treatment and distribution   ...   \n",
       "794989                     Bale throwers manufacturing   ...   \n",
       "794990                             Naval ship building   ...   \n",
       "794991   Construction management, multifamily building   ...   \n",
       "\n",
       "        total_hearing_loss  total_other_illnesses  establishment_id  \\\n",
       "794987                   0                      0             93030   \n",
       "794988                   0                      0             85507   \n",
       "794989                   0                      0            649852   \n",
       "794990                   0                      0            541133   \n",
       "794991                   0                      0            407708   \n",
       "\n",
       "        establishment_type  size  year_filing_for  created_timestamp  \\\n",
       "794987                 1.0     2             2020  1/1/2021 13:57:57   \n",
       "794988                 1.0     2             2020  1/1/2021 14:35:40   \n",
       "794989                 1.0     2             2020  1/1/2021 16:04:06   \n",
       "794990                 1.0     2             2020  1/1/2021 17:11:02   \n",
       "794991                 1.0     2             2020  1/1/2021 17:11:19   \n",
       "\n",
       "        change_reason                source  delete  \n",
       "794987            NaN  ITA Data CY 2020.csv     NaN  \n",
       "794988            NaN  ITA Data CY 2020.csv     NaN  \n",
       "794989            NaN  ITA Data CY 2020.csv     NaN  \n",
       "794990            NaN  ITA Data CY 2020.csv     NaN  \n",
       "794991            NaN  ITA Data CY 2020.csv     NaN  \n",
       "\n",
       "[5 rows x 33 columns]"
      ]
     },
     "metadata": {},
     "output_type": "display_data"
    },
    {
     "name": "stdout",
     "output_type": "stream",
     "text": [
      "\n",
      "Basics statistics: \n"
     ]
    },
    {
     "data": {
      "text/html": [
       "<div>\n",
       "<style scoped>\n",
       "    .dataframe tbody tr th:only-of-type {\n",
       "        vertical-align: middle;\n",
       "    }\n",
       "\n",
       "    .dataframe tbody tr th {\n",
       "        vertical-align: top;\n",
       "    }\n",
       "\n",
       "    .dataframe thead th {\n",
       "        text-align: right;\n",
       "    }\n",
       "</style>\n",
       "<table border=\"1\" class=\"dataframe\">\n",
       "  <thead>\n",
       "    <tr style=\"text-align: right;\">\n",
       "      <th></th>\n",
       "      <th>id</th>\n",
       "      <th>company_name</th>\n",
       "      <th>establishment_name</th>\n",
       "      <th>ein</th>\n",
       "      <th>street_address</th>\n",
       "      <th>city</th>\n",
       "      <th>state</th>\n",
       "      <th>zip_code</th>\n",
       "      <th>naics_code</th>\n",
       "      <th>industry_description</th>\n",
       "      <th>...</th>\n",
       "      <th>total_hearing_loss</th>\n",
       "      <th>total_other_illnesses</th>\n",
       "      <th>establishment_id</th>\n",
       "      <th>establishment_type</th>\n",
       "      <th>size</th>\n",
       "      <th>year_filing_for</th>\n",
       "      <th>created_timestamp</th>\n",
       "      <th>change_reason</th>\n",
       "      <th>source</th>\n",
       "      <th>delete</th>\n",
       "    </tr>\n",
       "  </thead>\n",
       "  <tbody>\n",
       "    <tr>\n",
       "      <th>count</th>\n",
       "      <td>2.933910e+05</td>\n",
       "      <td>264357</td>\n",
       "      <td>293386</td>\n",
       "      <td>2.614900e+05</td>\n",
       "      <td>293389</td>\n",
       "      <td>293389</td>\n",
       "      <td>293391</td>\n",
       "      <td>2.933910e+05</td>\n",
       "      <td>293391.000000</td>\n",
       "      <td>273314</td>\n",
       "      <td>...</td>\n",
       "      <td>293391.000000</td>\n",
       "      <td>293391.000000</td>\n",
       "      <td>293391.000000</td>\n",
       "      <td>291512</td>\n",
       "      <td>293391.000000</td>\n",
       "      <td>293391.0</td>\n",
       "      <td>293391</td>\n",
       "      <td>16710</td>\n",
       "      <td>293391</td>\n",
       "      <td>0.0</td>\n",
       "    </tr>\n",
       "    <tr>\n",
       "      <th>unique</th>\n",
       "      <td>NaN</td>\n",
       "      <td>94335</td>\n",
       "      <td>278199</td>\n",
       "      <td>NaN</td>\n",
       "      <td>270987</td>\n",
       "      <td>27510</td>\n",
       "      <td>74</td>\n",
       "      <td>NaN</td>\n",
       "      <td>NaN</td>\n",
       "      <td>13975</td>\n",
       "      <td>...</td>\n",
       "      <td>NaN</td>\n",
       "      <td>NaN</td>\n",
       "      <td>NaN</td>\n",
       "      <td>3</td>\n",
       "      <td>NaN</td>\n",
       "      <td>NaN</td>\n",
       "      <td>218732</td>\n",
       "      <td>3246</td>\n",
       "      <td>1</td>\n",
       "      <td>NaN</td>\n",
       "    </tr>\n",
       "    <tr>\n",
       "      <th>top</th>\n",
       "      <td>NaN</td>\n",
       "      <td>USPS</td>\n",
       "      <td>Main Office</td>\n",
       "      <td>NaN</td>\n",
       "      <td>VIRTUAL</td>\n",
       "      <td>Houston</td>\n",
       "      <td>CA</td>\n",
       "      <td>NaN</td>\n",
       "      <td>NaN</td>\n",
       "      <td>Mail and Parcel Delivery</td>\n",
       "      <td>...</td>\n",
       "      <td>NaN</td>\n",
       "      <td>NaN</td>\n",
       "      <td>NaN</td>\n",
       "      <td>1.0</td>\n",
       "      <td>NaN</td>\n",
       "      <td>NaN</td>\n",
       "      <td>2/2/2021 22:35:39</td>\n",
       "      <td>0</td>\n",
       "      <td>ITA Data CY 2020.csv</td>\n",
       "      <td>NaN</td>\n",
       "    </tr>\n",
       "    <tr>\n",
       "      <th>freq</th>\n",
       "      <td>NaN</td>\n",
       "      <td>7644</td>\n",
       "      <td>177</td>\n",
       "      <td>NaN</td>\n",
       "      <td>1783</td>\n",
       "      <td>2169</td>\n",
       "      <td>32020</td>\n",
       "      <td>NaN</td>\n",
       "      <td>NaN</td>\n",
       "      <td>7644</td>\n",
       "      <td>...</td>\n",
       "      <td>NaN</td>\n",
       "      <td>NaN</td>\n",
       "      <td>NaN</td>\n",
       "      <td>277772</td>\n",
       "      <td>NaN</td>\n",
       "      <td>NaN</td>\n",
       "      <td>31</td>\n",
       "      <td>9138</td>\n",
       "      <td>293391</td>\n",
       "      <td>NaN</td>\n",
       "    </tr>\n",
       "    <tr>\n",
       "      <th>mean</th>\n",
       "      <td>1.237531e+06</td>\n",
       "      <td>NaN</td>\n",
       "      <td>NaN</td>\n",
       "      <td>4.899436e+08</td>\n",
       "      <td>NaN</td>\n",
       "      <td>NaN</td>\n",
       "      <td>NaN</td>\n",
       "      <td>1.571896e+07</td>\n",
       "      <td>459619.258382</td>\n",
       "      <td>NaN</td>\n",
       "      <td>...</td>\n",
       "      <td>0.026460</td>\n",
       "      <td>0.429795</td>\n",
       "      <td>461717.495298</td>\n",
       "      <td>NaN</td>\n",
       "      <td>1.937561</td>\n",
       "      <td>2020.0</td>\n",
       "      <td>NaN</td>\n",
       "      <td>NaN</td>\n",
       "      <td>NaN</td>\n",
       "      <td>NaN</td>\n",
       "    </tr>\n",
       "    <tr>\n",
       "      <th>std</th>\n",
       "      <td>8.509156e+04</td>\n",
       "      <td>NaN</td>\n",
       "      <td>NaN</td>\n",
       "      <td>2.527222e+08</td>\n",
       "      <td>NaN</td>\n",
       "      <td>NaN</td>\n",
       "      <td>NaN</td>\n",
       "      <td>1.034832e+08</td>\n",
       "      <td>160142.747597</td>\n",
       "      <td>NaN</td>\n",
       "      <td>...</td>\n",
       "      <td>0.490899</td>\n",
       "      <td>5.507237</td>\n",
       "      <td>219909.359407</td>\n",
       "      <td>NaN</td>\n",
       "      <td>0.526846</td>\n",
       "      <td>0.0</td>\n",
       "      <td>NaN</td>\n",
       "      <td>NaN</td>\n",
       "      <td>NaN</td>\n",
       "      <td>NaN</td>\n",
       "    </tr>\n",
       "    <tr>\n",
       "      <th>min</th>\n",
       "      <td>1.090429e+06</td>\n",
       "      <td>NaN</td>\n",
       "      <td>NaN</td>\n",
       "      <td>4.533000e+03</td>\n",
       "      <td>NaN</td>\n",
       "      <td>NaN</td>\n",
       "      <td>NaN</td>\n",
       "      <td>0.000000e+00</td>\n",
       "      <td>111100.000000</td>\n",
       "      <td>NaN</td>\n",
       "      <td>...</td>\n",
       "      <td>0.000000</td>\n",
       "      <td>0.000000</td>\n",
       "      <td>41924.000000</td>\n",
       "      <td>NaN</td>\n",
       "      <td>1.000000</td>\n",
       "      <td>2020.0</td>\n",
       "      <td>NaN</td>\n",
       "      <td>NaN</td>\n",
       "      <td>NaN</td>\n",
       "      <td>NaN</td>\n",
       "    </tr>\n",
       "    <tr>\n",
       "      <th>25%</th>\n",
       "      <td>1.163784e+06</td>\n",
       "      <td>NaN</td>\n",
       "      <td>NaN</td>\n",
       "      <td>2.748292e+08</td>\n",
       "      <td>NaN</td>\n",
       "      <td>NaN</td>\n",
       "      <td>NaN</td>\n",
       "      <td>2.946100e+04</td>\n",
       "      <td>332722.000000</td>\n",
       "      <td>NaN</td>\n",
       "      <td>...</td>\n",
       "      <td>0.000000</td>\n",
       "      <td>0.000000</td>\n",
       "      <td>279845.500000</td>\n",
       "      <td>NaN</td>\n",
       "      <td>2.000000</td>\n",
       "      <td>2020.0</td>\n",
       "      <td>NaN</td>\n",
       "      <td>NaN</td>\n",
       "      <td>NaN</td>\n",
       "      <td>NaN</td>\n",
       "    </tr>\n",
       "    <tr>\n",
       "      <th>50%</th>\n",
       "      <td>1.237655e+06</td>\n",
       "      <td>NaN</td>\n",
       "      <td>NaN</td>\n",
       "      <td>4.537712e+08</td>\n",
       "      <td>NaN</td>\n",
       "      <td>NaN</td>\n",
       "      <td>NaN</td>\n",
       "      <td>5.032300e+04</td>\n",
       "      <td>445110.000000</td>\n",
       "      <td>NaN</td>\n",
       "      <td>...</td>\n",
       "      <td>0.000000</td>\n",
       "      <td>0.000000</td>\n",
       "      <td>494951.000000</td>\n",
       "      <td>NaN</td>\n",
       "      <td>2.000000</td>\n",
       "      <td>2020.0</td>\n",
       "      <td>NaN</td>\n",
       "      <td>NaN</td>\n",
       "      <td>NaN</td>\n",
       "      <td>NaN</td>\n",
       "    </tr>\n",
       "    <tr>\n",
       "      <th>75%</th>\n",
       "      <td>1.311120e+06</td>\n",
       "      <td>NaN</td>\n",
       "      <td>NaN</td>\n",
       "      <td>7.105620e+08</td>\n",
       "      <td>NaN</td>\n",
       "      <td>NaN</td>\n",
       "      <td>NaN</td>\n",
       "      <td>7.872400e+04</td>\n",
       "      <td>561320.000000</td>\n",
       "      <td>NaN</td>\n",
       "      <td>...</td>\n",
       "      <td>0.000000</td>\n",
       "      <td>0.000000</td>\n",
       "      <td>668177.500000</td>\n",
       "      <td>NaN</td>\n",
       "      <td>2.000000</td>\n",
       "      <td>2020.0</td>\n",
       "      <td>NaN</td>\n",
       "      <td>NaN</td>\n",
       "      <td>NaN</td>\n",
       "      <td>NaN</td>\n",
       "    </tr>\n",
       "    <tr>\n",
       "      <th>max</th>\n",
       "      <td>1.426058e+06</td>\n",
       "      <td>NaN</td>\n",
       "      <td>NaN</td>\n",
       "      <td>1.000000e+09</td>\n",
       "      <td>NaN</td>\n",
       "      <td>NaN</td>\n",
       "      <td>NaN</td>\n",
       "      <td>9.970942e+08</td>\n",
       "      <td>999999.000000</td>\n",
       "      <td>NaN</td>\n",
       "      <td>...</td>\n",
       "      <td>73.000000</td>\n",
       "      <td>1067.000000</td>\n",
       "      <td>795136.000000</td>\n",
       "      <td>NaN</td>\n",
       "      <td>3.000000</td>\n",
       "      <td>2020.0</td>\n",
       "      <td>NaN</td>\n",
       "      <td>NaN</td>\n",
       "      <td>NaN</td>\n",
       "      <td>NaN</td>\n",
       "    </tr>\n",
       "  </tbody>\n",
       "</table>\n",
       "<p>11 rows × 33 columns</p>\n",
       "</div>"
      ],
      "text/plain": [
       "                  id company_name establishment_name           ein  \\\n",
       "count   2.933910e+05       264357             293386  2.614900e+05   \n",
       "unique           NaN        94335             278199           NaN   \n",
       "top              NaN         USPS        Main Office           NaN   \n",
       "freq             NaN         7644                177           NaN   \n",
       "mean    1.237531e+06          NaN                NaN  4.899436e+08   \n",
       "std     8.509156e+04          NaN                NaN  2.527222e+08   \n",
       "min     1.090429e+06          NaN                NaN  4.533000e+03   \n",
       "25%     1.163784e+06          NaN                NaN  2.748292e+08   \n",
       "50%     1.237655e+06          NaN                NaN  4.537712e+08   \n",
       "75%     1.311120e+06          NaN                NaN  7.105620e+08   \n",
       "max     1.426058e+06          NaN                NaN  1.000000e+09   \n",
       "\n",
       "       street_address     city   state      zip_code     naics_code  \\\n",
       "count          293389   293389  293391  2.933910e+05  293391.000000   \n",
       "unique         270987    27510      74           NaN            NaN   \n",
       "top           VIRTUAL  Houston      CA           NaN            NaN   \n",
       "freq             1783     2169   32020           NaN            NaN   \n",
       "mean              NaN      NaN     NaN  1.571896e+07  459619.258382   \n",
       "std               NaN      NaN     NaN  1.034832e+08  160142.747597   \n",
       "min               NaN      NaN     NaN  0.000000e+00  111100.000000   \n",
       "25%               NaN      NaN     NaN  2.946100e+04  332722.000000   \n",
       "50%               NaN      NaN     NaN  5.032300e+04  445110.000000   \n",
       "75%               NaN      NaN     NaN  7.872400e+04  561320.000000   \n",
       "max               NaN      NaN     NaN  9.970942e+08  999999.000000   \n",
       "\n",
       "            industry_description  ...  total_hearing_loss  \\\n",
       "count                     273314  ...       293391.000000   \n",
       "unique                     13975  ...                 NaN   \n",
       "top     Mail and Parcel Delivery  ...                 NaN   \n",
       "freq                        7644  ...                 NaN   \n",
       "mean                         NaN  ...            0.026460   \n",
       "std                          NaN  ...            0.490899   \n",
       "min                          NaN  ...            0.000000   \n",
       "25%                          NaN  ...            0.000000   \n",
       "50%                          NaN  ...            0.000000   \n",
       "75%                          NaN  ...            0.000000   \n",
       "max                          NaN  ...           73.000000   \n",
       "\n",
       "        total_other_illnesses  establishment_id  establishment_type  \\\n",
       "count           293391.000000     293391.000000              291512   \n",
       "unique                    NaN               NaN                   3   \n",
       "top                       NaN               NaN                 1.0   \n",
       "freq                      NaN               NaN              277772   \n",
       "mean                 0.429795     461717.495298                 NaN   \n",
       "std                  5.507237     219909.359407                 NaN   \n",
       "min                  0.000000      41924.000000                 NaN   \n",
       "25%                  0.000000     279845.500000                 NaN   \n",
       "50%                  0.000000     494951.000000                 NaN   \n",
       "75%                  0.000000     668177.500000                 NaN   \n",
       "max               1067.000000     795136.000000                 NaN   \n",
       "\n",
       "                 size  year_filing_for  created_timestamp  change_reason  \\\n",
       "count   293391.000000         293391.0             293391          16710   \n",
       "unique            NaN              NaN             218732           3246   \n",
       "top               NaN              NaN  2/2/2021 22:35:39              0   \n",
       "freq              NaN              NaN                 31           9138   \n",
       "mean         1.937561           2020.0                NaN            NaN   \n",
       "std          0.526846              0.0                NaN            NaN   \n",
       "min          1.000000           2020.0                NaN            NaN   \n",
       "25%          2.000000           2020.0                NaN            NaN   \n",
       "50%          2.000000           2020.0                NaN            NaN   \n",
       "75%          2.000000           2020.0                NaN            NaN   \n",
       "max          3.000000           2020.0                NaN            NaN   \n",
       "\n",
       "                      source  delete  \n",
       "count                 293391     0.0  \n",
       "unique                     1     NaN  \n",
       "top     ITA Data CY 2020.csv     NaN  \n",
       "freq                  293391     NaN  \n",
       "mean                     NaN     NaN  \n",
       "std                      NaN     NaN  \n",
       "min                      NaN     NaN  \n",
       "25%                      NaN     NaN  \n",
       "50%                      NaN     NaN  \n",
       "75%                      NaN     NaN  \n",
       "max                      NaN     NaN  \n",
       "\n",
       "[11 rows x 33 columns]"
      ]
     },
     "metadata": {},
     "output_type": "display_data"
    },
    {
     "name": "stdout",
     "output_type": "stream",
     "text": [
      "\n",
      "Percentage of missing values: \n"
     ]
    },
    {
     "data": {
      "text/plain": [
       "id                               0.000000\n",
       "company_name                     1.775602\n",
       "establishment_name               0.000306\n",
       "ein                              1.950936\n",
       "street_address                   0.000122\n",
       "city                             0.000122\n",
       "state                            0.000000\n",
       "zip_code                         0.000000\n",
       "naics_code                       0.000000\n",
       "industry_description             1.227828\n",
       "annual_average_employees         0.000000\n",
       "total_hours_worked               0.000000\n",
       "no_injuries_illnesses            0.000000\n",
       "total_deaths                     0.000000\n",
       "total_dafw_cases                 0.000000\n",
       "total_djtr_cases                 0.000000\n",
       "total_other_cases                0.000000\n",
       "total_dafw_days                  0.000000\n",
       "total_djtr_days                  0.000000\n",
       "total_injuries                   0.000000\n",
       "total_poisonings                 0.000000\n",
       "total_respiratory_conditions     0.000000\n",
       "total_skin_disorders             0.000000\n",
       "total_hearing_loss               0.000000\n",
       "total_other_illnesses            0.000000\n",
       "establishment_id                 0.000000\n",
       "establishment_type               0.114912\n",
       "size                             0.000000\n",
       "year_filing_for                  0.000000\n",
       "created_timestamp                0.000000\n",
       "change_reason                   16.920688\n",
       "source                           0.000000\n",
       "delete                          17.942604\n",
       "dtype: float64"
      ]
     },
     "metadata": {},
     "output_type": "display_data"
    }
   ],
   "source": [
    "# Basic stats\n",
    "\n",
    "print(\"Number of rows : {}\".format(dataset_2020.shape[0]))\n",
    "print()\n",
    "\n",
    "print(\"Number of columns : {}\".format(dataset_2020.shape[1]))\n",
    "print()\n",
    "\n",
    "print(\"Display of dataset: \")\n",
    "display(dataset_2020.head())\n",
    "print()\n",
    "\n",
    "print(\"Basics statistics: \")\n",
    "data_desc = dataset_2020.describe(include='all')\n",
    "display(data_desc)\n",
    "print()\n",
    "\n",
    "print(\"Percentage of missing values: \")\n",
    "display(100*dataset_2020.isnull().sum()/dataset.shape[0])"
   ]
  },
  {
   "cell_type": "markdown",
   "metadata": {},
   "source": [
    "# DATA CLEANING "
   ]
  },
  {
   "cell_type": "markdown",
   "metadata": {},
   "source": [
    "### Choose the columns to keep "
   ]
  },
  {
   "cell_type": "code",
   "execution_count": 5,
   "metadata": {},
   "outputs": [
    {
     "data": {
      "text/html": [
       "<div>\n",
       "<style scoped>\n",
       "    .dataframe tbody tr th:only-of-type {\n",
       "        vertical-align: middle;\n",
       "    }\n",
       "\n",
       "    .dataframe tbody tr th {\n",
       "        vertical-align: top;\n",
       "    }\n",
       "\n",
       "    .dataframe thead th {\n",
       "        text-align: right;\n",
       "    }\n",
       "</style>\n",
       "<table border=\"1\" class=\"dataframe\">\n",
       "  <thead>\n",
       "    <tr style=\"text-align: right;\">\n",
       "      <th></th>\n",
       "      <th>establishment_name</th>\n",
       "      <th>city</th>\n",
       "      <th>state</th>\n",
       "      <th>industry_description</th>\n",
       "      <th>naics_code</th>\n",
       "      <th>annual_average_employees</th>\n",
       "      <th>establishment_type</th>\n",
       "      <th>year_filing_for</th>\n",
       "      <th>created_timestamp</th>\n",
       "      <th>total_hours_worked</th>\n",
       "      <th>total_deaths</th>\n",
       "      <th>total_dafw_cases</th>\n",
       "      <th>total_djtr_cases</th>\n",
       "      <th>total_other_cases</th>\n",
       "      <th>total_injuries</th>\n",
       "    </tr>\n",
       "  </thead>\n",
       "  <tbody>\n",
       "    <tr>\n",
       "      <th>794987</th>\n",
       "      <td>CCL Tube</td>\n",
       "      <td>Wilkes Barre</td>\n",
       "      <td>PA</td>\n",
       "      <td>Labeling services</td>\n",
       "      <td>561910</td>\n",
       "      <td>185</td>\n",
       "      <td>1.0</td>\n",
       "      <td>2020</td>\n",
       "      <td>1/1/2021 13:57:57</td>\n",
       "      <td>386835.0</td>\n",
       "      <td>0</td>\n",
       "      <td>0</td>\n",
       "      <td>2</td>\n",
       "      <td>2</td>\n",
       "      <td>4</td>\n",
       "    </tr>\n",
       "    <tr>\n",
       "      <th>794988</th>\n",
       "      <td>All Locations</td>\n",
       "      <td>Delaware</td>\n",
       "      <td>OH</td>\n",
       "      <td>Water treatment and distribution</td>\n",
       "      <td>221310</td>\n",
       "      <td>104</td>\n",
       "      <td>1.0</td>\n",
       "      <td>2020</td>\n",
       "      <td>1/1/2021 14:35:40</td>\n",
       "      <td>216320.0</td>\n",
       "      <td>0</td>\n",
       "      <td>2</td>\n",
       "      <td>0</td>\n",
       "      <td>0</td>\n",
       "      <td>2</td>\n",
       "    </tr>\n",
       "    <tr>\n",
       "      <th>794989</th>\n",
       "      <td>DURATECH INDUSTRIES INTERNATIONAL INC</td>\n",
       "      <td>JAMESTOWN</td>\n",
       "      <td>ND</td>\n",
       "      <td>Bale throwers manufacturing</td>\n",
       "      <td>333111</td>\n",
       "      <td>87</td>\n",
       "      <td>1.0</td>\n",
       "      <td>2020</td>\n",
       "      <td>1/1/2021 16:04:06</td>\n",
       "      <td>206200.0</td>\n",
       "      <td>0</td>\n",
       "      <td>1</td>\n",
       "      <td>1</td>\n",
       "      <td>3</td>\n",
       "      <td>5</td>\n",
       "    </tr>\n",
       "    <tr>\n",
       "      <th>794990</th>\n",
       "      <td>Fred Wahl Marine Construction</td>\n",
       "      <td>Reedsport</td>\n",
       "      <td>OR</td>\n",
       "      <td>Naval ship building</td>\n",
       "      <td>336611</td>\n",
       "      <td>109</td>\n",
       "      <td>1.0</td>\n",
       "      <td>2020</td>\n",
       "      <td>1/1/2021 17:11:02</td>\n",
       "      <td>215620.0</td>\n",
       "      <td>0</td>\n",
       "      <td>6</td>\n",
       "      <td>4</td>\n",
       "      <td>5</td>\n",
       "      <td>15</td>\n",
       "    </tr>\n",
       "    <tr>\n",
       "      <th>794991</th>\n",
       "      <td>J.R. Johnson, LLC</td>\n",
       "      <td>Portland</td>\n",
       "      <td>OR</td>\n",
       "      <td>Construction management, multifamily building</td>\n",
       "      <td>236116</td>\n",
       "      <td>142</td>\n",
       "      <td>1.0</td>\n",
       "      <td>2020</td>\n",
       "      <td>1/1/2021 17:11:19</td>\n",
       "      <td>268700.0</td>\n",
       "      <td>0</td>\n",
       "      <td>4</td>\n",
       "      <td>2</td>\n",
       "      <td>9</td>\n",
       "      <td>15</td>\n",
       "    </tr>\n",
       "  </tbody>\n",
       "</table>\n",
       "</div>"
      ],
      "text/plain": [
       "                           establishment_name          city state  \\\n",
       "794987                               CCL Tube  Wilkes Barre    PA   \n",
       "794988                         All Locations       Delaware    OH   \n",
       "794989  DURATECH INDUSTRIES INTERNATIONAL INC     JAMESTOWN    ND   \n",
       "794990          Fred Wahl Marine Construction     Reedsport    OR   \n",
       "794991                      J.R. Johnson, LLC      Portland    OR   \n",
       "\n",
       "                                   industry_description  naics_code  \\\n",
       "794987                               Labeling services       561910   \n",
       "794988                Water treatment and distribution       221310   \n",
       "794989                     Bale throwers manufacturing       333111   \n",
       "794990                             Naval ship building       336611   \n",
       "794991   Construction management, multifamily building       236116   \n",
       "\n",
       "        annual_average_employees establishment_type  year_filing_for  \\\n",
       "794987                       185                1.0             2020   \n",
       "794988                       104                1.0             2020   \n",
       "794989                        87                1.0             2020   \n",
       "794990                       109                1.0             2020   \n",
       "794991                       142                1.0             2020   \n",
       "\n",
       "        created_timestamp  total_hours_worked  total_deaths  total_dafw_cases  \\\n",
       "794987  1/1/2021 13:57:57            386835.0             0                 0   \n",
       "794988  1/1/2021 14:35:40            216320.0             0                 2   \n",
       "794989  1/1/2021 16:04:06            206200.0             0                 1   \n",
       "794990  1/1/2021 17:11:02            215620.0             0                 6   \n",
       "794991  1/1/2021 17:11:19            268700.0             0                 4   \n",
       "\n",
       "        total_djtr_cases  total_other_cases  total_injuries  \n",
       "794987                 2                  2               4  \n",
       "794988                 0                  0               2  \n",
       "794989                 1                  3               5  \n",
       "794990                 4                  5              15  \n",
       "794991                 2                  9              15  "
      ]
     },
     "execution_count": 5,
     "metadata": {},
     "output_type": "execute_result"
    }
   ],
   "source": [
    "# Filter dataset by keeping the columns needed only :\n",
    "\n",
    "cols_to_keep = ['establishment_name', 'city','state', 'industry_description', 'naics_code', 'annual_average_employees', 'establishment_type', 'year_filing_for','created_timestamp','total_hours_worked', 'total_deaths','total_dafw_cases','total_djtr_cases','total_other_cases', 'total_injuries']\n",
    "dataset_2020=dataset_2020[cols_to_keep]\n",
    "dataset_2020.head()"
   ]
  },
  {
   "cell_type": "code",
   "execution_count": 6,
   "metadata": {},
   "outputs": [
    {
     "data": {
      "text/plain": [
       "(293391, 15)"
      ]
     },
     "execution_count": 6,
     "metadata": {},
     "output_type": "execute_result"
    }
   ],
   "source": [
    "dataset_2020.shape"
   ]
  },
  {
   "cell_type": "markdown",
   "metadata": {},
   "source": [
    "### Identify and clean missing values "
   ]
  },
  {
   "cell_type": "code",
   "execution_count": 7,
   "metadata": {},
   "outputs": [
    {
     "name": "stdout",
     "output_type": "stream",
     "text": [
      "Percentage of missing values: \n"
     ]
    },
    {
     "data": {
      "text/plain": [
       "establishment_name          0.001704\n",
       "city                        0.000682\n",
       "state                       0.000000\n",
       "industry_description        6.843087\n",
       "naics_code                  0.000000\n",
       "annual_average_employees    0.000000\n",
       "establishment_type          0.640442\n",
       "year_filing_for             0.000000\n",
       "created_timestamp           0.000000\n",
       "total_hours_worked          0.000000\n",
       "total_deaths                0.000000\n",
       "total_dafw_cases            0.000000\n",
       "total_djtr_cases            0.000000\n",
       "total_other_cases           0.000000\n",
       "total_injuries              0.000000\n",
       "dtype: float64"
      ]
     },
     "metadata": {},
     "output_type": "display_data"
    }
   ],
   "source": [
    "# Identifying the missing values : \n",
    "\n",
    "print(\"Percentage of missing values: \")\n",
    "display(100*dataset_2020.isnull().sum()/dataset_2020.shape[0])"
   ]
  },
  {
   "cell_type": "code",
   "execution_count": 8,
   "metadata": {},
   "outputs": [],
   "source": [
    "dataset_2020.reset_index(drop=True, inplace=True)"
   ]
  },
  {
   "cell_type": "code",
   "execution_count": 9,
   "metadata": {},
   "outputs": [],
   "source": [
    "# Deleting the missing values in the whole dataset :\n",
    "\n",
    "dataset_2020 = dataset_2020.dropna()"
   ]
  },
  {
   "cell_type": "code",
   "execution_count": 10,
   "metadata": {},
   "outputs": [
    {
     "data": {
      "text/plain": [
       "(271626, 15)"
      ]
     },
     "execution_count": 10,
     "metadata": {},
     "output_type": "execute_result"
    }
   ],
   "source": [
    "dataset_2020.shape"
   ]
  },
  {
   "cell_type": "markdown",
   "metadata": {},
   "source": [
    "# EDA"
   ]
  },
  {
   "cell_type": "markdown",
   "metadata": {},
   "source": [
    "### Exploring the column created_timestamp"
   ]
  },
  {
   "cell_type": "markdown",
   "metadata": {},
   "source": [
    "This column contains the date and time the reporting was done, normally the year after the accident"
   ]
  },
  {
   "cell_type": "code",
   "execution_count": 11,
   "metadata": {},
   "outputs": [],
   "source": [
    "# Converting the column into datetime type :\n",
    "\n",
    "dataset_2020['created_timestamp']=pd.to_datetime(dataset_2020['created_timestamp'])"
   ]
  },
  {
   "cell_type": "markdown",
   "metadata": {},
   "source": [
    "### Exploring the establishment type column "
   ]
  },
  {
   "cell_type": "code",
   "execution_count": 12,
   "metadata": {},
   "outputs": [
    {
     "data": {
      "text/plain": [
       "dtype('O')"
      ]
     },
     "execution_count": 12,
     "metadata": {},
     "output_type": "execute_result"
    }
   ],
   "source": [
    "dataset_2020['establishment_type'].dtype"
   ]
  },
  {
   "cell_type": "markdown",
   "metadata": {},
   "source": [
    "This column should contain numbers 1, 2 or 3"
   ]
  },
  {
   "cell_type": "code",
   "execution_count": 13,
   "metadata": {},
   "outputs": [
    {
     "data": {
      "text/plain": [
       "dtype('float64')"
      ]
     },
     "execution_count": 13,
     "metadata": {},
     "output_type": "execute_result"
    }
   ],
   "source": [
    "# Converting the column into numeric type :\n",
    "\n",
    "dataset_2020['establishment_type'] = pd.to_numeric(dataset_2020['establishment_type'], errors='coerce')\n",
    "dataset_2020['establishment_type'].dtype"
   ]
  },
  {
   "cell_type": "code",
   "execution_count": 14,
   "metadata": {},
   "outputs": [
    {
     "name": "stdout",
     "output_type": "stream",
     "text": [
      "[1. 3. 2.]\n"
     ]
    }
   ],
   "source": [
    "# Verifying the unique values of our column :\n",
    "\n",
    "print(dataset_2020['establishment_type'].unique())"
   ]
  },
  {
   "cell_type": "markdown",
   "metadata": {},
   "source": [
    "### Exploring the establishment_name column "
   ]
  },
  {
   "cell_type": "code",
   "execution_count": 15,
   "metadata": {},
   "outputs": [
    {
     "data": {
      "text/plain": [
       "dtype('O')"
      ]
     },
     "execution_count": 15,
     "metadata": {},
     "output_type": "execute_result"
    }
   ],
   "source": [
    "dataset_2020['establishment_name'].dtype"
   ]
  },
  {
   "cell_type": "code",
   "execution_count": 16,
   "metadata": {},
   "outputs": [
    {
     "name": "stdout",
     "output_type": "stream",
     "text": [
      "Number of unique establishments : 257404\n"
     ]
    }
   ],
   "source": [
    "# Calculating unique values :\n",
    "\n",
    "print(\"Number of unique establishments :\", dataset_2020['establishment_name'].nunique())"
   ]
  },
  {
   "cell_type": "code",
   "execution_count": 17,
   "metadata": {},
   "outputs": [
    {
     "name": "stdout",
     "output_type": "stream",
     "text": [
      "Number of duplicates of establishment name : 6748\n",
      "Number of duplicate values and their count : establishment_name\n",
      "Main Office         176\n",
      "Corporate           110\n",
      "Corporate Office    108\n",
      "Headquarters         82\n",
      "Construction         76\n",
      "                   ... \n",
      "69930018-000012       2\n",
      "Store 0622            2\n",
      "Store 1206            2\n",
      "Parkdale              2\n",
      "69930018-000013       2\n",
      "Name: count, Length: 6748, dtype: int64\n"
     ]
    }
   ],
   "source": [
    "# Calculating duplicates :\n",
    "\n",
    "print(\"Number of duplicates of establishment name :\", dataset_2020[dataset_2020.duplicated(['establishment_name'], keep=False)]['establishment_name'].nunique())\n",
    "\n",
    "print('Number of duplicate values and their count :', dataset_2020['establishment_name'].value_counts()[dataset_2020['establishment_name'].value_counts() > 1])"
   ]
  },
  {
   "cell_type": "code",
   "execution_count": 18,
   "metadata": {},
   "outputs": [],
   "source": [
    "# Deleting duplicates with the same establishment name, the same state, the same establishment type and the same created timestamp :\n",
    "\n",
    "dataset_2020 = dataset_2020.drop_duplicates(subset=[\"establishment_name\", \"state\", \"establishment_type\", 'created_timestamp'])"
   ]
  },
  {
   "cell_type": "code",
   "execution_count": 19,
   "metadata": {},
   "outputs": [
    {
     "data": {
      "text/html": [
       "<div>\n",
       "<style scoped>\n",
       "    .dataframe tbody tr th:only-of-type {\n",
       "        vertical-align: middle;\n",
       "    }\n",
       "\n",
       "    .dataframe tbody tr th {\n",
       "        vertical-align: top;\n",
       "    }\n",
       "\n",
       "    .dataframe thead th {\n",
       "        text-align: right;\n",
       "    }\n",
       "</style>\n",
       "<table border=\"1\" class=\"dataframe\">\n",
       "  <thead>\n",
       "    <tr style=\"text-align: right;\">\n",
       "      <th></th>\n",
       "      <th>establishment_name</th>\n",
       "      <th>city</th>\n",
       "      <th>state</th>\n",
       "      <th>establishment_type</th>\n",
       "      <th>created_timestamp</th>\n",
       "      <th>naics_code</th>\n",
       "      <th>industry_description</th>\n",
       "      <th>annual_average_employees</th>\n",
       "      <th>total_hours_worked</th>\n",
       "      <th>total_deaths</th>\n",
       "      <th>total_dafw_cases</th>\n",
       "      <th>total_djtr_cases</th>\n",
       "      <th>total_other_cases</th>\n",
       "      <th>total_injuries</th>\n",
       "    </tr>\n",
       "  </thead>\n",
       "  <tbody>\n",
       "    <tr>\n",
       "      <th>0</th>\n",
       "      <td>\\t CA001PHM</td>\n",
       "      <td>City of Industry</td>\n",
       "      <td>CA</td>\n",
       "      <td>1.0</td>\n",
       "      <td>2021-03-09 02:08:34</td>\n",
       "      <td>713950</td>\n",
       "      <td>Bowling alleys</td>\n",
       "      <td>67</td>\n",
       "      <td>19131.0</td>\n",
       "      <td>0</td>\n",
       "      <td>0</td>\n",
       "      <td>0</td>\n",
       "      <td>0</td>\n",
       "      <td>0</td>\n",
       "    </tr>\n",
       "    <tr>\n",
       "      <th>1</th>\n",
       "      <td>\\t CA002MVM</td>\n",
       "      <td>Moreno Valley</td>\n",
       "      <td>CA</td>\n",
       "      <td>1.0</td>\n",
       "      <td>2021-03-09 02:14:31</td>\n",
       "      <td>713950</td>\n",
       "      <td>Bowling centers</td>\n",
       "      <td>39</td>\n",
       "      <td>14611.0</td>\n",
       "      <td>0</td>\n",
       "      <td>0</td>\n",
       "      <td>0</td>\n",
       "      <td>0</td>\n",
       "      <td>0</td>\n",
       "    </tr>\n",
       "    <tr>\n",
       "      <th>2</th>\n",
       "      <td>\\t CA031TMP</td>\n",
       "      <td>Temecula</td>\n",
       "      <td>CA</td>\n",
       "      <td>1.0</td>\n",
       "      <td>2021-03-09 06:12:32</td>\n",
       "      <td>713950</td>\n",
       "      <td>Bowling centers</td>\n",
       "      <td>56</td>\n",
       "      <td>19647.0</td>\n",
       "      <td>0</td>\n",
       "      <td>0</td>\n",
       "      <td>0</td>\n",
       "      <td>2</td>\n",
       "      <td>2</td>\n",
       "    </tr>\n",
       "    <tr>\n",
       "      <th>3</th>\n",
       "      <td>\\t CO013SWP</td>\n",
       "      <td>Littleton</td>\n",
       "      <td>CO</td>\n",
       "      <td>1.0</td>\n",
       "      <td>2021-03-09 06:12:31</td>\n",
       "      <td>713950</td>\n",
       "      <td>Bowling centers</td>\n",
       "      <td>34</td>\n",
       "      <td>18180.0</td>\n",
       "      <td>0</td>\n",
       "      <td>0</td>\n",
       "      <td>0</td>\n",
       "      <td>1</td>\n",
       "      <td>1</td>\n",
       "    </tr>\n",
       "    <tr>\n",
       "      <th>4</th>\n",
       "      <td>\\t KS042TES</td>\n",
       "      <td>Wichita</td>\n",
       "      <td>KS</td>\n",
       "      <td>1.0</td>\n",
       "      <td>2021-03-09 05:47:34</td>\n",
       "      <td>713950</td>\n",
       "      <td>Bowling centers</td>\n",
       "      <td>48</td>\n",
       "      <td>297335.0</td>\n",
       "      <td>0</td>\n",
       "      <td>0</td>\n",
       "      <td>0</td>\n",
       "      <td>1</td>\n",
       "      <td>1</td>\n",
       "    </tr>\n",
       "    <tr>\n",
       "      <th>...</th>\n",
       "      <td>...</td>\n",
       "      <td>...</td>\n",
       "      <td>...</td>\n",
       "      <td>...</td>\n",
       "      <td>...</td>\n",
       "      <td>...</td>\n",
       "      <td>...</td>\n",
       "      <td>...</td>\n",
       "      <td>...</td>\n",
       "      <td>...</td>\n",
       "      <td>...</td>\n",
       "      <td>...</td>\n",
       "      <td>...</td>\n",
       "      <td>...</td>\n",
       "    </tr>\n",
       "    <tr>\n",
       "      <th>267638</th>\n",
       "      <td>witman ranch inc</td>\n",
       "      <td>escondido</td>\n",
       "      <td>CA</td>\n",
       "      <td>1.0</td>\n",
       "      <td>2021-01-28 16:18:07</td>\n",
       "      <td>115115</td>\n",
       "      <td>Agriculture production or harvesting crews</td>\n",
       "      <td>45</td>\n",
       "      <td>82652.0</td>\n",
       "      <td>0</td>\n",
       "      <td>3</td>\n",
       "      <td>0</td>\n",
       "      <td>0</td>\n",
       "      <td>3</td>\n",
       "    </tr>\n",
       "    <tr>\n",
       "      <th>267639</th>\n",
       "      <td>woodcrest rehabilitation</td>\n",
       "      <td>flushing</td>\n",
       "      <td>NY</td>\n",
       "      <td>1.0</td>\n",
       "      <td>2021-02-12 16:26:13</td>\n",
       "      <td>623110</td>\n",
       "      <td>Skilled nursing facilities</td>\n",
       "      <td>266</td>\n",
       "      <td>281254.0</td>\n",
       "      <td>0</td>\n",
       "      <td>42</td>\n",
       "      <td>0</td>\n",
       "      <td>0</td>\n",
       "      <td>2</td>\n",
       "    </tr>\n",
       "    <tr>\n",
       "      <th>267640</th>\n",
       "      <td>wrights health care</td>\n",
       "      <td>seminole</td>\n",
       "      <td>FL</td>\n",
       "      <td>1.0</td>\n",
       "      <td>2021-02-01 18:33:28</td>\n",
       "      <td>623110</td>\n",
       "      <td>Nursing homes</td>\n",
       "      <td>62</td>\n",
       "      <td>94648.0</td>\n",
       "      <td>0</td>\n",
       "      <td>16</td>\n",
       "      <td>0</td>\n",
       "      <td>0</td>\n",
       "      <td>0</td>\n",
       "    </tr>\n",
       "    <tr>\n",
       "      <th>267641</th>\n",
       "      <td>yard</td>\n",
       "      <td>Fort Worth</td>\n",
       "      <td>TX</td>\n",
       "      <td>1.0</td>\n",
       "      <td>2021-02-25 15:27:37</td>\n",
       "      <td>238320</td>\n",
       "      <td>Painting and wallpapering</td>\n",
       "      <td>20</td>\n",
       "      <td>38766.0</td>\n",
       "      <td>0</td>\n",
       "      <td>0</td>\n",
       "      <td>0</td>\n",
       "      <td>0</td>\n",
       "      <td>0</td>\n",
       "    </tr>\n",
       "    <tr>\n",
       "      <th>267642</th>\n",
       "      <td>zulily</td>\n",
       "      <td>Gahanna</td>\n",
       "      <td>OH</td>\n",
       "      <td>1.0</td>\n",
       "      <td>2021-03-08 19:45:15</td>\n",
       "      <td>454113</td>\n",
       "      <td>Mail-order houses</td>\n",
       "      <td>543</td>\n",
       "      <td>587658.0</td>\n",
       "      <td>0</td>\n",
       "      <td>0</td>\n",
       "      <td>0</td>\n",
       "      <td>0</td>\n",
       "      <td>0</td>\n",
       "    </tr>\n",
       "  </tbody>\n",
       "</table>\n",
       "<p>267643 rows × 14 columns</p>\n",
       "</div>"
      ],
      "text/plain": [
       "               establishment_name              city state  establishment_type  \\\n",
       "0                     \\t CA001PHM  City of Industry    CA                 1.0   \n",
       "1                     \\t CA002MVM     Moreno Valley    CA                 1.0   \n",
       "2                     \\t CA031TMP          Temecula    CA                 1.0   \n",
       "3                     \\t CO013SWP         Littleton    CO                 1.0   \n",
       "4                     \\t KS042TES           Wichita    KS                 1.0   \n",
       "...                           ...               ...   ...                 ...   \n",
       "267638           witman ranch inc         escondido    CA                 1.0   \n",
       "267639  woodcrest rehabilitation          flushing     NY                 1.0   \n",
       "267640        wrights health care          seminole    FL                 1.0   \n",
       "267641                       yard        Fort Worth    TX                 1.0   \n",
       "267642                     zulily           Gahanna    OH                 1.0   \n",
       "\n",
       "         created_timestamp  naics_code  \\\n",
       "0      2021-03-09 02:08:34      713950   \n",
       "1      2021-03-09 02:14:31      713950   \n",
       "2      2021-03-09 06:12:32      713950   \n",
       "3      2021-03-09 06:12:31      713950   \n",
       "4      2021-03-09 05:47:34      713950   \n",
       "...                    ...         ...   \n",
       "267638 2021-01-28 16:18:07      115115   \n",
       "267639 2021-02-12 16:26:13      623110   \n",
       "267640 2021-02-01 18:33:28      623110   \n",
       "267641 2021-02-25 15:27:37      238320   \n",
       "267642 2021-03-08 19:45:15      454113   \n",
       "\n",
       "                                industry_description  \\\n",
       "0                                    Bowling alleys    \n",
       "1                                   Bowling centers    \n",
       "2                                   Bowling centers    \n",
       "3                                   Bowling centers    \n",
       "4                                   Bowling centers    \n",
       "...                                              ...   \n",
       "267638   Agriculture production or harvesting crews    \n",
       "267639                   Skilled nursing facilities    \n",
       "267640                                Nursing homes    \n",
       "267641                    Painting and wallpapering    \n",
       "267642                            Mail-order houses    \n",
       "\n",
       "        annual_average_employees  total_hours_worked  total_deaths  \\\n",
       "0                             67             19131.0             0   \n",
       "1                             39             14611.0             0   \n",
       "2                             56             19647.0             0   \n",
       "3                             34             18180.0             0   \n",
       "4                             48            297335.0             0   \n",
       "...                          ...                 ...           ...   \n",
       "267638                        45             82652.0             0   \n",
       "267639                       266            281254.0             0   \n",
       "267640                        62             94648.0             0   \n",
       "267641                        20             38766.0             0   \n",
       "267642                       543            587658.0             0   \n",
       "\n",
       "        total_dafw_cases  total_djtr_cases  total_other_cases  total_injuries  \n",
       "0                      0                 0                  0               0  \n",
       "1                      0                 0                  0               0  \n",
       "2                      0                 0                  2               2  \n",
       "3                      0                 0                  1               1  \n",
       "4                      0                 0                  1               1  \n",
       "...                  ...               ...                ...             ...  \n",
       "267638                 3                 0                  0               3  \n",
       "267639                42                 0                  0               2  \n",
       "267640                16                 0                  0               0  \n",
       "267641                 0                 0                  0               0  \n",
       "267642                 0                 0                  0               0  \n",
       "\n",
       "[267643 rows x 14 columns]"
      ]
     },
     "metadata": {},
     "output_type": "display_data"
    }
   ],
   "source": [
    "# Grouping the rows where the establishment name, state, city and establishment time are the same :\n",
    "dataset_2020 = dataset_2020.groupby(\n",
    "    ['establishment_name', 'city', 'state', 'establishment_type'],\n",
    "    as_index=False\n",
    ").agg({\n",
    "    'created_timestamp':'first',\n",
    "    'naics_code':'first',\n",
    "    'industry_description':'first',\n",
    "    'annual_average_employees': 'sum',\n",
    "    'total_hours_worked': 'sum',\n",
    "    'total_deaths': 'sum',\n",
    "    'total_dafw_cases': 'sum',\n",
    "    'total_djtr_cases': 'sum',\n",
    "    'total_other_cases': 'sum',\n",
    "    'total_injuries': 'sum'\n",
    "})\n",
    "\n",
    "# Afficher le dataframe regroupé\n",
    "display(dataset_2020)"
   ]
  },
  {
   "cell_type": "code",
   "execution_count": 20,
   "metadata": {},
   "outputs": [
    {
     "name": "stdout",
     "output_type": "stream",
     "text": [
      "Number of duplicates of establishment name : 5384\n",
      "Number of duplicates values and their count : establishment_name\n",
      "Main Office         163\n",
      "Corporate           101\n",
      "Corporate Office     99\n",
      "Headquarters         79\n",
      "Construction         76\n",
      "                   ... \n",
      "Store 1247            2\n",
      "5700                  2\n",
      "Store 0480            2\n",
      "Providence            2\n",
      "Store 1233            2\n",
      "Name: count, Length: 5384, dtype: int64\n"
     ]
    }
   ],
   "source": [
    "# Recalculating duplicates :\n",
    "\n",
    "print(\"Number of duplicates of establishment name :\", dataset_2020[dataset_2020.duplicated(['establishment_name'], keep=False)]['establishment_name'].nunique())\n",
    "\n",
    "print('Number of duplicates values and their count :', dataset_2020['establishment_name'].value_counts()[dataset_2020['establishment_name'].value_counts() > 1])"
   ]
  },
  {
   "cell_type": "code",
   "execution_count": 21,
   "metadata": {},
   "outputs": [
    {
     "name": "stdout",
     "output_type": "stream",
     "text": [
      "Number of duplicate values and their count : establishment_name\n",
      "Main Office               163\n",
      "Corporate                 101\n",
      "Corporate Office           99\n",
      "Headquarters               79\n",
      "Construction               76\n",
      "Fire Department            56\n",
      "Public Works               53\n",
      "Police Department          53\n",
      "Main                       47\n",
      "Office                     45\n",
      "City Hall                  41\n",
      "48forty Solutions          37\n",
      "Transportation             37\n",
      "Administration             36\n",
      "Home Office                34\n",
      "Manufacturing              28\n",
      "Corporate Headquarters     28\n",
      "Town Hall                  27\n",
      "Main Office - 01           25\n",
      "Warehouse                  24\n",
      "Name: count, dtype: int64\n"
     ]
    }
   ],
   "source": [
    "# Showing the top 10 duplicates :\n",
    " \n",
    "duplicates= dataset_2020['establishment_name'].value_counts()[dataset_2020['establishment_name'].value_counts() > 22]\n",
    "print('Number of duplicate values and their count :', duplicates)"
   ]
  },
  {
   "cell_type": "code",
   "execution_count": 22,
   "metadata": {},
   "outputs": [
    {
     "data": {
      "image/png": "[encoded data removed]",
      "text/plain": [
       "<Figure size 1000x500 with 1 Axes>"
      ]
     },
     "metadata": {},
     "output_type": "display_data"
    }
   ],
   "source": [
    "# Plot in a bar graph :\n",
    "\n",
    "plt.figure(figsize=(10, 5))\n",
    "duplicates.plot(kind='bar', color='skyblue')\n",
    "plt.title('Top 20 Duplicate Establishment names')\n",
    "plt.xlabel('Establishment name')\n",
    "plt.ylabel('Count')\n",
    "plt.xticks(rotation=45, ha='right')\n",
    "plt.grid(axis='y', linestyle='--', alpha=0.7)\n",
    "plt.show()"
   ]
  },
  {
   "cell_type": "markdown",
   "metadata": {},
   "source": [
    "### Exploring the column state"
   ]
  },
  {
   "cell_type": "code",
   "execution_count": 23,
   "metadata": {},
   "outputs": [
    {
     "name": "stdout",
     "output_type": "stream",
     "text": [
      "Number of unique states : 73\n"
     ]
    }
   ],
   "source": [
    "# Calculating unique values :\n",
    "\n",
    "print(\"Number of unique states :\", dataset_2020['state'].nunique())"
   ]
  },
  {
   "cell_type": "markdown",
   "metadata": {},
   "source": [
    "The US has only 50 states so there must be an error."
   ]
  },
  {
   "cell_type": "code",
   "execution_count": 24,
   "metadata": {},
   "outputs": [
    {
     "name": "stdout",
     "output_type": "stream",
     "text": [
      "Number of unique states : 60\n"
     ]
    }
   ],
   "source": [
    "# Tranforming the whole column state into capital letters and recalculating the unique values :\n",
    "\n",
    "dataset_2020['state']=dataset_2020['state'].str.upper()\n",
    "print(\"Number of unique states :\", dataset_2020['state'].nunique())"
   ]
  },
  {
   "cell_type": "markdown",
   "metadata": {},
   "source": [
    "We have less states than before but it is still more than 50, so let's have a look what are those values to identify those who doesn't represent a state."
   ]
  },
  {
   "cell_type": "code",
   "execution_count": 25,
   "metadata": {},
   "outputs": [
    {
     "data": {
      "image/png": "[encoded data removed]",
      "text/plain": [
       "<Figure size 1000x600 with 1 Axes>"
      ]
     },
     "metadata": {},
     "output_type": "display_data"
    }
   ],
   "source": [
    "# Showing the 60 values in a histogram :\n",
    "\n",
    "plt.figure(figsize=(10, 6))\n",
    "dataset_2020['state'].value_counts().plot(kind='bar', color='skyblue')\n",
    "plt.title('Distirubution of states')\n",
    "plt.xlabel('State')\n",
    "plt.ylabel('Count')\n",
    "plt.xticks(rotation=90)\n",
    "plt.grid(axis='y', linestyle='--', alpha=0.7)\n",
    "plt.show()"
   ]
  },
  {
   "cell_type": "markdown",
   "metadata": {},
   "source": [
    "The last 10 values are not states and don't represent much in ou dataset, so let's remove them."
   ]
  },
  {
   "cell_type": "code",
   "execution_count": 26,
   "metadata": {},
   "outputs": [],
   "source": [
    "# Creating a list with the 50 real US States :\n",
    "us_states = ['AL', 'AK', 'AZ', 'AR', 'CA', 'CO', 'CT', 'DE', 'FL', 'GA', 'HI', 'ID', 'IL', 'IN', 'IA', 'KS', 'KY', 'LA', 'ME', 'MD', 'MA', 'MI', 'MN', 'MS', 'MO', 'MT', 'NE', 'NV', 'NH', 'NJ', 'NM', 'NY', 'NC', 'ND', 'OH', 'OK', 'OR', 'PA', 'RI', 'SC', 'SD', 'TN', 'TX', 'UT', 'VT', 'VA', 'WA', 'WV', 'WI', 'WY']\n",
    "\n",
    "# Cleaning the dataset by deleting the rows that don't have one of the values in the list :\n",
    "\n",
    "dataset_2020 = dataset_2020[dataset_2020['state'].isin(us_states)]"
   ]
  },
  {
   "cell_type": "code",
   "execution_count": 27,
   "metadata": {},
   "outputs": [
    {
     "name": "stdout",
     "output_type": "stream",
     "text": [
      "Number of unique states : 50\n"
     ]
    }
   ],
   "source": [
    "# Recalculating unique values :\n",
    "\n",
    "print(\"Number of unique states :\", dataset_2020['state'].nunique())"
   ]
  },
  {
   "cell_type": "markdown",
   "metadata": {},
   "source": [
    "### Exploring the columns total_injuries, total_deaths, total_dafw_cases, total_djtr_cases and total_other_cases"
   ]
  },
  {
   "cell_type": "code",
   "execution_count": 29,
   "metadata": {},
   "outputs": [
    {
     "data": {
      "text/plain": [
       "total_injuries       int64\n",
       "total_deaths         int64\n",
       "total_dafw_cases     int64\n",
       "total_djtr_cases     int64\n",
       "total_other_cases    int64\n",
       "dtype: object"
      ]
     },
     "execution_count": 29,
     "metadata": {},
     "output_type": "execute_result"
    }
   ],
   "source": [
    "# Verifying the columns type :\n",
    "\n",
    "columns = ['total_injuries','total_deaths','total_dafw_cases','total_djtr_cases','total_other_cases']\n",
    "dataset_2020[columns].dtypes"
   ]
  },
  {
   "cell_type": "code",
   "execution_count": 30,
   "metadata": {},
   "outputs": [
    {
     "data": {
      "text/html": [
       "<div>\n",
       "<style scoped>\n",
       "    .dataframe tbody tr th:only-of-type {\n",
       "        vertical-align: middle;\n",
       "    }\n",
       "\n",
       "    .dataframe tbody tr th {\n",
       "        vertical-align: top;\n",
       "    }\n",
       "\n",
       "    .dataframe thead th {\n",
       "        text-align: right;\n",
       "    }\n",
       "</style>\n",
       "<table border=\"1\" class=\"dataframe\">\n",
       "  <thead>\n",
       "    <tr style=\"text-align: right;\">\n",
       "      <th></th>\n",
       "      <th>establishment_name</th>\n",
       "      <th>city</th>\n",
       "      <th>state</th>\n",
       "      <th>establishment_type</th>\n",
       "      <th>created_timestamp</th>\n",
       "      <th>naics_code</th>\n",
       "      <th>industry_description</th>\n",
       "      <th>annual_average_employees</th>\n",
       "      <th>total_hours_worked</th>\n",
       "      <th>total_deaths</th>\n",
       "      <th>total_dafw_cases</th>\n",
       "      <th>total_djtr_cases</th>\n",
       "      <th>total_other_cases</th>\n",
       "      <th>total_injuries</th>\n",
       "      <th>lat</th>\n",
       "      <th>lon</th>\n",
       "      <th>total_cases</th>\n",
       "      <th>is_correct</th>\n",
       "    </tr>\n",
       "  </thead>\n",
       "  <tbody>\n",
       "    <tr>\n",
       "      <th>0</th>\n",
       "      <td>\\t CA001PHM</td>\n",
       "      <td>City of Industry</td>\n",
       "      <td>California</td>\n",
       "      <td>1.0</td>\n",
       "      <td>2021-03-09 02:08:34</td>\n",
       "      <td>713950</td>\n",
       "      <td>Bowling alleys</td>\n",
       "      <td>67</td>\n",
       "      <td>19131.0</td>\n",
       "      <td>0</td>\n",
       "      <td>0</td>\n",
       "      <td>0</td>\n",
       "      <td>0</td>\n",
       "      <td>0</td>\n",
       "      <td>36.116203</td>\n",
       "      <td>-119.681564</td>\n",
       "      <td>0</td>\n",
       "      <td>True</td>\n",
       "    </tr>\n",
       "    <tr>\n",
       "      <th>1</th>\n",
       "      <td>\\t CA002MVM</td>\n",
       "      <td>Moreno Valley</td>\n",
       "      <td>California</td>\n",
       "      <td>1.0</td>\n",
       "      <td>2021-03-09 02:14:31</td>\n",
       "      <td>713950</td>\n",
       "      <td>Bowling centers</td>\n",
       "      <td>39</td>\n",
       "      <td>14611.0</td>\n",
       "      <td>0</td>\n",
       "      <td>0</td>\n",
       "      <td>0</td>\n",
       "      <td>0</td>\n",
       "      <td>0</td>\n",
       "      <td>36.116203</td>\n",
       "      <td>-119.681564</td>\n",
       "      <td>0</td>\n",
       "      <td>True</td>\n",
       "    </tr>\n",
       "    <tr>\n",
       "      <th>2</th>\n",
       "      <td>\\t CA031TMP</td>\n",
       "      <td>Temecula</td>\n",
       "      <td>California</td>\n",
       "      <td>1.0</td>\n",
       "      <td>2021-03-09 06:12:32</td>\n",
       "      <td>713950</td>\n",
       "      <td>Bowling centers</td>\n",
       "      <td>56</td>\n",
       "      <td>19647.0</td>\n",
       "      <td>0</td>\n",
       "      <td>0</td>\n",
       "      <td>0</td>\n",
       "      <td>2</td>\n",
       "      <td>2</td>\n",
       "      <td>36.116203</td>\n",
       "      <td>-119.681564</td>\n",
       "      <td>2</td>\n",
       "      <td>True</td>\n",
       "    </tr>\n",
       "    <tr>\n",
       "      <th>3</th>\n",
       "      <td>\\t CO013SWP</td>\n",
       "      <td>Littleton</td>\n",
       "      <td>Colorado</td>\n",
       "      <td>1.0</td>\n",
       "      <td>2021-03-09 06:12:31</td>\n",
       "      <td>713950</td>\n",
       "      <td>Bowling centers</td>\n",
       "      <td>34</td>\n",
       "      <td>18180.0</td>\n",
       "      <td>0</td>\n",
       "      <td>0</td>\n",
       "      <td>0</td>\n",
       "      <td>1</td>\n",
       "      <td>1</td>\n",
       "      <td>39.059811</td>\n",
       "      <td>-105.311104</td>\n",
       "      <td>1</td>\n",
       "      <td>True</td>\n",
       "    </tr>\n",
       "    <tr>\n",
       "      <th>4</th>\n",
       "      <td>\\t KS042TES</td>\n",
       "      <td>Wichita</td>\n",
       "      <td>Kansas</td>\n",
       "      <td>1.0</td>\n",
       "      <td>2021-03-09 05:47:34</td>\n",
       "      <td>713950</td>\n",
       "      <td>Bowling centers</td>\n",
       "      <td>48</td>\n",
       "      <td>297335.0</td>\n",
       "      <td>0</td>\n",
       "      <td>0</td>\n",
       "      <td>0</td>\n",
       "      <td>1</td>\n",
       "      <td>1</td>\n",
       "      <td>38.526600</td>\n",
       "      <td>-96.726486</td>\n",
       "      <td>1</td>\n",
       "      <td>True</td>\n",
       "    </tr>\n",
       "    <tr>\n",
       "      <th>...</th>\n",
       "      <td>...</td>\n",
       "      <td>...</td>\n",
       "      <td>...</td>\n",
       "      <td>...</td>\n",
       "      <td>...</td>\n",
       "      <td>...</td>\n",
       "      <td>...</td>\n",
       "      <td>...</td>\n",
       "      <td>...</td>\n",
       "      <td>...</td>\n",
       "      <td>...</td>\n",
       "      <td>...</td>\n",
       "      <td>...</td>\n",
       "      <td>...</td>\n",
       "      <td>...</td>\n",
       "      <td>...</td>\n",
       "      <td>...</td>\n",
       "      <td>...</td>\n",
       "    </tr>\n",
       "    <tr>\n",
       "      <th>267638</th>\n",
       "      <td>witman ranch inc</td>\n",
       "      <td>escondido</td>\n",
       "      <td>California</td>\n",
       "      <td>1.0</td>\n",
       "      <td>2021-01-28 16:18:07</td>\n",
       "      <td>115115</td>\n",
       "      <td>Agriculture production or harvesting crews</td>\n",
       "      <td>45</td>\n",
       "      <td>82652.0</td>\n",
       "      <td>0</td>\n",
       "      <td>3</td>\n",
       "      <td>0</td>\n",
       "      <td>0</td>\n",
       "      <td>3</td>\n",
       "      <td>36.116203</td>\n",
       "      <td>-119.681564</td>\n",
       "      <td>3</td>\n",
       "      <td>True</td>\n",
       "    </tr>\n",
       "    <tr>\n",
       "      <th>267639</th>\n",
       "      <td>woodcrest rehabilitation</td>\n",
       "      <td>flushing</td>\n",
       "      <td>New York</td>\n",
       "      <td>1.0</td>\n",
       "      <td>2021-02-12 16:26:13</td>\n",
       "      <td>623110</td>\n",
       "      <td>Skilled nursing facilities</td>\n",
       "      <td>266</td>\n",
       "      <td>281254.0</td>\n",
       "      <td>0</td>\n",
       "      <td>42</td>\n",
       "      <td>0</td>\n",
       "      <td>0</td>\n",
       "      <td>2</td>\n",
       "      <td>42.165726</td>\n",
       "      <td>-74.948051</td>\n",
       "      <td>42</td>\n",
       "      <td>False</td>\n",
       "    </tr>\n",
       "    <tr>\n",
       "      <th>267640</th>\n",
       "      <td>wrights health care</td>\n",
       "      <td>seminole</td>\n",
       "      <td>Florida</td>\n",
       "      <td>1.0</td>\n",
       "      <td>2021-02-01 18:33:28</td>\n",
       "      <td>623110</td>\n",
       "      <td>Nursing homes</td>\n",
       "      <td>62</td>\n",
       "      <td>94648.0</td>\n",
       "      <td>0</td>\n",
       "      <td>16</td>\n",
       "      <td>0</td>\n",
       "      <td>0</td>\n",
       "      <td>0</td>\n",
       "      <td>27.766279</td>\n",
       "      <td>-81.686783</td>\n",
       "      <td>16</td>\n",
       "      <td>False</td>\n",
       "    </tr>\n",
       "    <tr>\n",
       "      <th>267641</th>\n",
       "      <td>yard</td>\n",
       "      <td>Fort Worth</td>\n",
       "      <td>Texas</td>\n",
       "      <td>1.0</td>\n",
       "      <td>2021-02-25 15:27:37</td>\n",
       "      <td>238320</td>\n",
       "      <td>Painting and wallpapering</td>\n",
       "      <td>20</td>\n",
       "      <td>38766.0</td>\n",
       "      <td>0</td>\n",
       "      <td>0</td>\n",
       "      <td>0</td>\n",
       "      <td>0</td>\n",
       "      <td>0</td>\n",
       "      <td>31.054487</td>\n",
       "      <td>-97.563461</td>\n",
       "      <td>0</td>\n",
       "      <td>True</td>\n",
       "    </tr>\n",
       "    <tr>\n",
       "      <th>267642</th>\n",
       "      <td>zulily</td>\n",
       "      <td>Gahanna</td>\n",
       "      <td>Ohio</td>\n",
       "      <td>1.0</td>\n",
       "      <td>2021-03-08 19:45:15</td>\n",
       "      <td>454113</td>\n",
       "      <td>Mail-order houses</td>\n",
       "      <td>543</td>\n",
       "      <td>587658.0</td>\n",
       "      <td>0</td>\n",
       "      <td>0</td>\n",
       "      <td>0</td>\n",
       "      <td>0</td>\n",
       "      <td>0</td>\n",
       "      <td>40.388783</td>\n",
       "      <td>-82.764915</td>\n",
       "      <td>0</td>\n",
       "      <td>True</td>\n",
       "    </tr>\n",
       "  </tbody>\n",
       "</table>\n",
       "<p>265718 rows × 18 columns</p>\n",
       "</div>"
      ],
      "text/plain": [
       "               establishment_name              city       state  \\\n",
       "0                     \\t CA001PHM  City of Industry  California   \n",
       "1                     \\t CA002MVM     Moreno Valley  California   \n",
       "2                     \\t CA031TMP          Temecula  California   \n",
       "3                     \\t CO013SWP         Littleton    Colorado   \n",
       "4                     \\t KS042TES           Wichita      Kansas   \n",
       "...                           ...               ...         ...   \n",
       "267638           witman ranch inc         escondido  California   \n",
       "267639  woodcrest rehabilitation          flushing     New York   \n",
       "267640        wrights health care          seminole     Florida   \n",
       "267641                       yard        Fort Worth       Texas   \n",
       "267642                     zulily           Gahanna        Ohio   \n",
       "\n",
       "        establishment_type   created_timestamp  naics_code  \\\n",
       "0                      1.0 2021-03-09 02:08:34      713950   \n",
       "1                      1.0 2021-03-09 02:14:31      713950   \n",
       "2                      1.0 2021-03-09 06:12:32      713950   \n",
       "3                      1.0 2021-03-09 06:12:31      713950   \n",
       "4                      1.0 2021-03-09 05:47:34      713950   \n",
       "...                    ...                 ...         ...   \n",
       "267638                 1.0 2021-01-28 16:18:07      115115   \n",
       "267639                 1.0 2021-02-12 16:26:13      623110   \n",
       "267640                 1.0 2021-02-01 18:33:28      623110   \n",
       "267641                 1.0 2021-02-25 15:27:37      238320   \n",
       "267642                 1.0 2021-03-08 19:45:15      454113   \n",
       "\n",
       "                                industry_description  \\\n",
       "0                                    Bowling alleys    \n",
       "1                                   Bowling centers    \n",
       "2                                   Bowling centers    \n",
       "3                                   Bowling centers    \n",
       "4                                   Bowling centers    \n",
       "...                                              ...   \n",
       "267638   Agriculture production or harvesting crews    \n",
       "267639                   Skilled nursing facilities    \n",
       "267640                                Nursing homes    \n",
       "267641                    Painting and wallpapering    \n",
       "267642                            Mail-order houses    \n",
       "\n",
       "        annual_average_employees  total_hours_worked  total_deaths  \\\n",
       "0                             67             19131.0             0   \n",
       "1                             39             14611.0             0   \n",
       "2                             56             19647.0             0   \n",
       "3                             34             18180.0             0   \n",
       "4                             48            297335.0             0   \n",
       "...                          ...                 ...           ...   \n",
       "267638                        45             82652.0             0   \n",
       "267639                       266            281254.0             0   \n",
       "267640                        62             94648.0             0   \n",
       "267641                        20             38766.0             0   \n",
       "267642                       543            587658.0             0   \n",
       "\n",
       "        total_dafw_cases  total_djtr_cases  total_other_cases  total_injuries  \\\n",
       "0                      0                 0                  0               0   \n",
       "1                      0                 0                  0               0   \n",
       "2                      0                 0                  2               2   \n",
       "3                      0                 0                  1               1   \n",
       "4                      0                 0                  1               1   \n",
       "...                  ...               ...                ...             ...   \n",
       "267638                 3                 0                  0               3   \n",
       "267639                42                 0                  0               2   \n",
       "267640                16                 0                  0               0   \n",
       "267641                 0                 0                  0               0   \n",
       "267642                 0                 0                  0               0   \n",
       "\n",
       "              lat         lon  total_cases  is_correct  \n",
       "0       36.116203 -119.681564            0        True  \n",
       "1       36.116203 -119.681564            0        True  \n",
       "2       36.116203 -119.681564            2        True  \n",
       "3       39.059811 -105.311104            1        True  \n",
       "4       38.526600  -96.726486            1        True  \n",
       "...           ...         ...          ...         ...  \n",
       "267638  36.116203 -119.681564            3        True  \n",
       "267639  42.165726  -74.948051           42       False  \n",
       "267640  27.766279  -81.686783           16       False  \n",
       "267641  31.054487  -97.563461            0        True  \n",
       "267642  40.388783  -82.764915            0        True  \n",
       "\n",
       "[265718 rows x 18 columns]"
      ]
     },
     "metadata": {},
     "output_type": "display_data"
    },
    {
     "data": {
      "text/html": [
       "<div>\n",
       "<style scoped>\n",
       "    .dataframe tbody tr th:only-of-type {\n",
       "        vertical-align: middle;\n",
       "    }\n",
       "\n",
       "    .dataframe tbody tr th {\n",
       "        vertical-align: top;\n",
       "    }\n",
       "\n",
       "    .dataframe thead th {\n",
       "        text-align: right;\n",
       "    }\n",
       "</style>\n",
       "<table border=\"1\" class=\"dataframe\">\n",
       "  <thead>\n",
       "    <tr style=\"text-align: right;\">\n",
       "      <th></th>\n",
       "      <th>establishment_name</th>\n",
       "      <th>city</th>\n",
       "      <th>state</th>\n",
       "      <th>establishment_type</th>\n",
       "      <th>created_timestamp</th>\n",
       "      <th>naics_code</th>\n",
       "      <th>industry_description</th>\n",
       "      <th>annual_average_employees</th>\n",
       "      <th>total_hours_worked</th>\n",
       "      <th>total_deaths</th>\n",
       "      <th>total_dafw_cases</th>\n",
       "      <th>total_djtr_cases</th>\n",
       "      <th>total_other_cases</th>\n",
       "      <th>total_injuries</th>\n",
       "      <th>lat</th>\n",
       "      <th>lon</th>\n",
       "      <th>total_cases</th>\n",
       "      <th>is_correct</th>\n",
       "    </tr>\n",
       "  </thead>\n",
       "  <tbody>\n",
       "    <tr>\n",
       "      <th>28</th>\n",
       "      <td>ARP - 1760</td>\n",
       "      <td>Santa Paula</td>\n",
       "      <td>California</td>\n",
       "      <td>1.0</td>\n",
       "      <td>2021-02-08 22:37:32</td>\n",
       "      <td>332722</td>\n",
       "      <td>Bolts, metal, manufacturing</td>\n",
       "      <td>117</td>\n",
       "      <td>250260.0</td>\n",
       "      <td>0</td>\n",
       "      <td>2</td>\n",
       "      <td>1</td>\n",
       "      <td>1</td>\n",
       "      <td>3</td>\n",
       "      <td>36.116203</td>\n",
       "      <td>-119.681564</td>\n",
       "      <td>4</td>\n",
       "      <td>False</td>\n",
       "    </tr>\n",
       "    <tr>\n",
       "      <th>42</th>\n",
       "      <td>Board of County Road Commissioners of the Cou...</td>\n",
       "      <td>Kalamazoo</td>\n",
       "      <td>Michigan</td>\n",
       "      <td>3.0</td>\n",
       "      <td>2021-04-30 20:12:41</td>\n",
       "      <td>237310</td>\n",
       "      <td>Repair, highway, road, street, bridge or airp...</td>\n",
       "      <td>47</td>\n",
       "      <td>107524.0</td>\n",
       "      <td>0</td>\n",
       "      <td>2</td>\n",
       "      <td>1</td>\n",
       "      <td>3</td>\n",
       "      <td>4</td>\n",
       "      <td>43.326618</td>\n",
       "      <td>-84.536095</td>\n",
       "      <td>6</td>\n",
       "      <td>False</td>\n",
       "    </tr>\n",
       "    <tr>\n",
       "      <th>43</th>\n",
       "      <td>Brester Construction, Inc.</td>\n",
       "      <td>Lincoln</td>\n",
       "      <td>Nebraska</td>\n",
       "      <td>1.0</td>\n",
       "      <td>2021-01-28 18:06:22</td>\n",
       "      <td>236220</td>\n",
       "      <td>Addition, alteration and renovation for-sale ...</td>\n",
       "      <td>68</td>\n",
       "      <td>152430.0</td>\n",
       "      <td>0</td>\n",
       "      <td>0</td>\n",
       "      <td>2</td>\n",
       "      <td>3</td>\n",
       "      <td>4</td>\n",
       "      <td>41.125370</td>\n",
       "      <td>-98.268082</td>\n",
       "      <td>5</td>\n",
       "      <td>False</td>\n",
       "    </tr>\n",
       "    <tr>\n",
       "      <th>73</th>\n",
       "      <td>California Department of TransportationFacili...</td>\n",
       "      <td>LEMOORE</td>\n",
       "      <td>California</td>\n",
       "      <td>2.0</td>\n",
       "      <td>2021-03-09 22:40:51</td>\n",
       "      <td>237310</td>\n",
       "      <td>Repair, highway, road, street, bridge or airpo...</td>\n",
       "      <td>1499</td>\n",
       "      <td>3117920.0</td>\n",
       "      <td>0</td>\n",
       "      <td>0</td>\n",
       "      <td>0</td>\n",
       "      <td>1</td>\n",
       "      <td>0</td>\n",
       "      <td>36.116203</td>\n",
       "      <td>-119.681564</td>\n",
       "      <td>1</td>\n",
       "      <td>False</td>\n",
       "    </tr>\n",
       "    <tr>\n",
       "      <th>87</th>\n",
       "      <td>Construction machinery and equipment rental o...</td>\n",
       "      <td>San Marcos</td>\n",
       "      <td>Texas</td>\n",
       "      <td>1.0</td>\n",
       "      <td>2021-02-26 19:26:52</td>\n",
       "      <td>532412</td>\n",
       "      <td>Construction machinery and equipment rental o...</td>\n",
       "      <td>119</td>\n",
       "      <td>321953.0</td>\n",
       "      <td>0</td>\n",
       "      <td>0</td>\n",
       "      <td>8</td>\n",
       "      <td>0</td>\n",
       "      <td>7</td>\n",
       "      <td>31.054487</td>\n",
       "      <td>-97.563461</td>\n",
       "      <td>8</td>\n",
       "      <td>False</td>\n",
       "    </tr>\n",
       "    <tr>\n",
       "      <th>...</th>\n",
       "      <td>...</td>\n",
       "      <td>...</td>\n",
       "      <td>...</td>\n",
       "      <td>...</td>\n",
       "      <td>...</td>\n",
       "      <td>...</td>\n",
       "      <td>...</td>\n",
       "      <td>...</td>\n",
       "      <td>...</td>\n",
       "      <td>...</td>\n",
       "      <td>...</td>\n",
       "      <td>...</td>\n",
       "      <td>...</td>\n",
       "      <td>...</td>\n",
       "      <td>...</td>\n",
       "      <td>...</td>\n",
       "      <td>...</td>\n",
       "      <td>...</td>\n",
       "    </tr>\n",
       "    <tr>\n",
       "      <th>267632</th>\n",
       "      <td>willow care rehabilitation and health care center</td>\n",
       "      <td>hannibal</td>\n",
       "      <td>Missouri</td>\n",
       "      <td>1.0</td>\n",
       "      <td>2021-03-09 18:57:31</td>\n",
       "      <td>623110</td>\n",
       "      <td>Skilled nursing facilities</td>\n",
       "      <td>45</td>\n",
       "      <td>43570.0</td>\n",
       "      <td>1</td>\n",
       "      <td>6</td>\n",
       "      <td>0</td>\n",
       "      <td>0</td>\n",
       "      <td>1</td>\n",
       "      <td>38.456085</td>\n",
       "      <td>-92.288368</td>\n",
       "      <td>7</td>\n",
       "      <td>False</td>\n",
       "    </tr>\n",
       "    <tr>\n",
       "      <th>267633</th>\n",
       "      <td>willow manor</td>\n",
       "      <td>lowell</td>\n",
       "      <td>Massachusetts</td>\n",
       "      <td>2.0</td>\n",
       "      <td>2021-02-03 14:28:53</td>\n",
       "      <td>623110</td>\n",
       "      <td>Nursing homes</td>\n",
       "      <td>78</td>\n",
       "      <td>162444.0</td>\n",
       "      <td>0</td>\n",
       "      <td>13</td>\n",
       "      <td>0</td>\n",
       "      <td>0</td>\n",
       "      <td>0</td>\n",
       "      <td>42.230171</td>\n",
       "      <td>-71.530106</td>\n",
       "      <td>13</td>\n",
       "      <td>False</td>\n",
       "    </tr>\n",
       "    <tr>\n",
       "      <th>267635</th>\n",
       "      <td>wilson case inc</td>\n",
       "      <td>hastings</td>\n",
       "      <td>Nebraska</td>\n",
       "      <td>1.0</td>\n",
       "      <td>2021-01-14 19:57:40</td>\n",
       "      <td>321920</td>\n",
       "      <td>Cases, wood shipping, nailed or lock corner, ...</td>\n",
       "      <td>25</td>\n",
       "      <td>1000.0</td>\n",
       "      <td>0</td>\n",
       "      <td>1</td>\n",
       "      <td>1</td>\n",
       "      <td>1</td>\n",
       "      <td>2</td>\n",
       "      <td>41.125370</td>\n",
       "      <td>-98.268082</td>\n",
       "      <td>3</td>\n",
       "      <td>False</td>\n",
       "    </tr>\n",
       "    <tr>\n",
       "      <th>267639</th>\n",
       "      <td>woodcrest rehabilitation</td>\n",
       "      <td>flushing</td>\n",
       "      <td>New York</td>\n",
       "      <td>1.0</td>\n",
       "      <td>2021-02-12 16:26:13</td>\n",
       "      <td>623110</td>\n",
       "      <td>Skilled nursing facilities</td>\n",
       "      <td>266</td>\n",
       "      <td>281254.0</td>\n",
       "      <td>0</td>\n",
       "      <td>42</td>\n",
       "      <td>0</td>\n",
       "      <td>0</td>\n",
       "      <td>2</td>\n",
       "      <td>42.165726</td>\n",
       "      <td>-74.948051</td>\n",
       "      <td>42</td>\n",
       "      <td>False</td>\n",
       "    </tr>\n",
       "    <tr>\n",
       "      <th>267640</th>\n",
       "      <td>wrights health care</td>\n",
       "      <td>seminole</td>\n",
       "      <td>Florida</td>\n",
       "      <td>1.0</td>\n",
       "      <td>2021-02-01 18:33:28</td>\n",
       "      <td>623110</td>\n",
       "      <td>Nursing homes</td>\n",
       "      <td>62</td>\n",
       "      <td>94648.0</td>\n",
       "      <td>0</td>\n",
       "      <td>16</td>\n",
       "      <td>0</td>\n",
       "      <td>0</td>\n",
       "      <td>0</td>\n",
       "      <td>27.766279</td>\n",
       "      <td>-81.686783</td>\n",
       "      <td>16</td>\n",
       "      <td>False</td>\n",
       "    </tr>\n",
       "  </tbody>\n",
       "</table>\n",
       "<p>39996 rows × 18 columns</p>\n",
       "</div>"
      ],
      "text/plain": [
       "                                       establishment_name         city  \\\n",
       "28                                             ARP - 1760  Santa Paula   \n",
       "42       Board of County Road Commissioners of the Cou...    Kalamazoo   \n",
       "43                             Brester Construction, Inc.      Lincoln   \n",
       "73       California Department of TransportationFacili...      LEMOORE   \n",
       "87       Construction machinery and equipment rental o...   San Marcos   \n",
       "...                                                   ...          ...   \n",
       "267632  willow care rehabilitation and health care center     hannibal   \n",
       "267633                                       willow manor       lowell   \n",
       "267635                                    wilson case inc     hastings   \n",
       "267639                          woodcrest rehabilitation     flushing    \n",
       "267640                                wrights health care     seminole   \n",
       "\n",
       "                state  establishment_type   created_timestamp  naics_code  \\\n",
       "28         California                 1.0 2021-02-08 22:37:32      332722   \n",
       "42           Michigan                 3.0 2021-04-30 20:12:41      237310   \n",
       "43           Nebraska                 1.0 2021-01-28 18:06:22      236220   \n",
       "73         California                 2.0 2021-03-09 22:40:51      237310   \n",
       "87              Texas                 1.0 2021-02-26 19:26:52      532412   \n",
       "...               ...                 ...                 ...         ...   \n",
       "267632       Missouri                 1.0 2021-03-09 18:57:31      623110   \n",
       "267633  Massachusetts                 2.0 2021-02-03 14:28:53      623110   \n",
       "267635       Nebraska                 1.0 2021-01-14 19:57:40      321920   \n",
       "267639       New York                 1.0 2021-02-12 16:26:13      623110   \n",
       "267640        Florida                 1.0 2021-02-01 18:33:28      623110   \n",
       "\n",
       "                                     industry_description  \\\n",
       "28                           Bolts, metal, manufacturing    \n",
       "42       Repair, highway, road, street, bridge or airp...   \n",
       "43       Addition, alteration and renovation for-sale ...   \n",
       "73      Repair, highway, road, street, bridge or airpo...   \n",
       "87       Construction machinery and equipment rental o...   \n",
       "...                                                   ...   \n",
       "267632                        Skilled nursing facilities    \n",
       "267633                                     Nursing homes    \n",
       "267635   Cases, wood shipping, nailed or lock corner, ...   \n",
       "267639                        Skilled nursing facilities    \n",
       "267640                                     Nursing homes    \n",
       "\n",
       "        annual_average_employees  total_hours_worked  total_deaths  \\\n",
       "28                           117            250260.0             0   \n",
       "42                            47            107524.0             0   \n",
       "43                            68            152430.0             0   \n",
       "73                          1499           3117920.0             0   \n",
       "87                           119            321953.0             0   \n",
       "...                          ...                 ...           ...   \n",
       "267632                        45             43570.0             1   \n",
       "267633                        78            162444.0             0   \n",
       "267635                        25              1000.0             0   \n",
       "267639                       266            281254.0             0   \n",
       "267640                        62             94648.0             0   \n",
       "\n",
       "        total_dafw_cases  total_djtr_cases  total_other_cases  total_injuries  \\\n",
       "28                     2                 1                  1               3   \n",
       "42                     2                 1                  3               4   \n",
       "43                     0                 2                  3               4   \n",
       "73                     0                 0                  1               0   \n",
       "87                     0                 8                  0               7   \n",
       "...                  ...               ...                ...             ...   \n",
       "267632                 6                 0                  0               1   \n",
       "267633                13                 0                  0               0   \n",
       "267635                 1                 1                  1               2   \n",
       "267639                42                 0                  0               2   \n",
       "267640                16                 0                  0               0   \n",
       "\n",
       "              lat         lon  total_cases  is_correct  \n",
       "28      36.116203 -119.681564            4       False  \n",
       "42      43.326618  -84.536095            6       False  \n",
       "43      41.125370  -98.268082            5       False  \n",
       "73      36.116203 -119.681564            1       False  \n",
       "87      31.054487  -97.563461            8       False  \n",
       "...           ...         ...          ...         ...  \n",
       "267632  38.456085  -92.288368            7       False  \n",
       "267633  42.230171  -71.530106           13       False  \n",
       "267635  41.125370  -98.268082            3       False  \n",
       "267639  42.165726  -74.948051           42       False  \n",
       "267640  27.766279  -81.686783           16       False  \n",
       "\n",
       "[39996 rows x 18 columns]"
      ]
     },
     "metadata": {},
     "output_type": "display_data"
    }
   ],
   "source": [
    "# Verifying if the column total_injuries is the sum of total_deaths, total_dafw_cases, total_djtr_cases and total_other_cases :\n",
    "\n",
    "dataset_2020['total_cases']= dataset_2020['total_deaths']+dataset_2020['total_dafw_cases']+dataset_2020['total_other_cases'] +dataset_2020['total_djtr_cases']\n",
    "dataset_2020['is_correct']= dataset_2020['total_injuries']==dataset_2020['total_cases']\n",
    "\n",
    "display(dataset_2020)\n",
    "\n",
    "errors = dataset_2020[dataset_2020['is_correct']==False]\n",
    "\n",
    "display(errors)\n"
   ]
  },
  {
   "cell_type": "markdown",
   "metadata": {},
   "source": [
    "15%  of the dataset contains a total_injuries value that is not the sum of the 4 other columns which get us thinking if this column really means the total number of accidents or it represent the injuries only. "
   ]
  },
  {
   "cell_type": "markdown",
   "metadata": {},
   "source": [
    "We decided then to not predict this column since we are not sure and instead predict the column total_cases that we created."
   ]
  },
  {
   "cell_type": "code",
   "execution_count": 31,
   "metadata": {},
   "outputs": [
    {
     "data": {
      "application/vnd.plotly.v1+json": {
       "config": {
        "plotlyServerURL": "https://plot.ly"
       },
       "data": [
        {
         "type": "bar",
         "x": [
          "total_deaths",
          "total_dafw_cases",
          "total_djtr_cases",
          "total_other_cases"
         ],
         "y": [
          1442,
          612705,
          327747,
          408312
         ]
        }
       ],
       "layout": {
        "annotations": [
         {
          "arrowhead": 1,
          "showarrow": true,
          "text": "1442",
          "x": "total_deaths",
          "y": 1442
         },
         {
          "arrowhead": 1,
          "showarrow": true,
          "text": "612705",
          "x": "total_dafw_cases",
          "y": 612705
         },
         {
          "arrowhead": 1,
          "showarrow": true,
          "text": "327747",
          "x": "total_djtr_cases",
          "y": 327747
         },
         {
          "arrowhead": 1,
          "showarrow": true,
          "text": "408312",
          "x": "total_other_cases",
          "y": 408312
         }
        ],
        "template": {
         "data": {
          "bar": [
           {
            "error_x": {
             "color": "#2a3f5f"
            },
            "error_y": {
             "color": "#2a3f5f"
            },
            "marker": {
             "line": {
              "color": "#E5ECF6",
              "width": 0.5
             },
             "pattern": {
              "fillmode": "overlay",
              "size": 10,
              "solidity": 0.2
             }
            },
            "type": "bar"
           }
          ],
          "barpolar": [
           {
            "marker": {
             "line": {
              "color": "#E5ECF6",
              "width": 0.5
             },
             "pattern": {
              "fillmode": "overlay",
              "size": 10,
              "solidity": 0.2
             }
            },
            "type": "barpolar"
           }
          ],
          "carpet": [
           {
            "aaxis": {
             "endlinecolor": "#2a3f5f",
             "gridcolor": "white",
             "linecolor": "white",
             "minorgridcolor": "white",
             "startlinecolor": "#2a3f5f"
            },
            "baxis": {
             "endlinecolor": "#2a3f5f",
             "gridcolor": "white",
             "linecolor": "white",
             "minorgridcolor": "white",
             "startlinecolor": "#2a3f5f"
            },
            "type": "carpet"
           }
          ],
          "choropleth": [
           {
            "colorbar": {
             "outlinewidth": 0,
             "ticks": ""
            },
            "type": "choropleth"
           }
          ],
          "contour": [
           {
            "colorbar": {
             "outlinewidth": 0,
             "ticks": ""
            },
            "colorscale": [
             [
              0,
              "#0d0887"
             ],
             [
              0.1111111111111111,
              "#46039f"
             ],
             [
              0.2222222222222222,
              "#7201a8"
             ],
             [
              0.3333333333333333,
              "#9c179e"
             ],
             [
              0.4444444444444444,
              "#bd3786"
             ],
             [
              0.5555555555555556,
              "#d8576b"
             ],
             [
              0.6666666666666666,
              "#ed7953"
             ],
             [
              0.7777777777777778,
              "#fb9f3a"
             ],
             [
              0.8888888888888888,
              "#fdca26"
             ],
             [
              1,
              "#f0f921"
             ]
            ],
            "type": "contour"
           }
          ],
          "contourcarpet": [
           {
            "colorbar": {
             "outlinewidth": 0,
             "ticks": ""
            },
            "type": "contourcarpet"
           }
          ],
          "heatmap": [
           {
            "colorbar": {
             "outlinewidth": 0,
             "ticks": ""
            },
            "colorscale": [
             [
              0,
              "#0d0887"
             ],
             [
              0.1111111111111111,
              "#46039f"
             ],
             [
              0.2222222222222222,
              "#7201a8"
             ],
             [
              0.3333333333333333,
              "#9c179e"
             ],
             [
              0.4444444444444444,
              "#bd3786"
             ],
             [
              0.5555555555555556,
              "#d8576b"
             ],
             [
              0.6666666666666666,
              "#ed7953"
             ],
             [
              0.7777777777777778,
              "#fb9f3a"
             ],
             [
              0.8888888888888888,
              "#fdca26"
             ],
             [
              1,
              "#f0f921"
             ]
            ],
            "type": "heatmap"
           }
          ],
          "heatmapgl": [
           {
            "colorbar": {
             "outlinewidth": 0,
             "ticks": ""
            },
            "colorscale": [
             [
              0,
              "#0d0887"
             ],
             [
              0.1111111111111111,
              "#46039f"
             ],
             [
              0.2222222222222222,
              "#7201a8"
             ],
             [
              0.3333333333333333,
              "#9c179e"
             ],
             [
              0.4444444444444444,
              "#bd3786"
             ],
             [
              0.5555555555555556,
              "#d8576b"
             ],
             [
              0.6666666666666666,
              "#ed7953"
             ],
             [
              0.7777777777777778,
              "#fb9f3a"
             ],
             [
              0.8888888888888888,
              "#fdca26"
             ],
             [
              1,
              "#f0f921"
             ]
            ],
            "type": "heatmapgl"
           }
          ],
          "histogram": [
           {
            "marker": {
             "pattern": {
              "fillmode": "overlay",
              "size": 10,
              "solidity": 0.2
             }
            },
            "type": "histogram"
           }
          ],
          "histogram2d": [
           {
            "colorbar": {
             "outlinewidth": 0,
             "ticks": ""
            },
            "colorscale": [
             [
              0,
              "#0d0887"
             ],
             [
              0.1111111111111111,
              "#46039f"
             ],
             [
              0.2222222222222222,
              "#7201a8"
             ],
             [
              0.3333333333333333,
              "#9c179e"
             ],
             [
              0.4444444444444444,
              "#bd3786"
             ],
             [
              0.5555555555555556,
              "#d8576b"
             ],
             [
              0.6666666666666666,
              "#ed7953"
             ],
             [
              0.7777777777777778,
              "#fb9f3a"
             ],
             [
              0.8888888888888888,
              "#fdca26"
             ],
             [
              1,
              "#f0f921"
             ]
            ],
            "type": "histogram2d"
           }
          ],
          "histogram2dcontour": [
           {
            "colorbar": {
             "outlinewidth": 0,
             "ticks": ""
            },
            "colorscale": [
             [
              0,
              "#0d0887"
             ],
             [
              0.1111111111111111,
              "#46039f"
             ],
             [
              0.2222222222222222,
              "#7201a8"
             ],
             [
              0.3333333333333333,
              "#9c179e"
             ],
             [
              0.4444444444444444,
              "#bd3786"
             ],
             [
              0.5555555555555556,
              "#d8576b"
             ],
             [
              0.6666666666666666,
              "#ed7953"
             ],
             [
              0.7777777777777778,
              "#fb9f3a"
             ],
             [
              0.8888888888888888,
              "#fdca26"
             ],
             [
              1,
              "#f0f921"
             ]
            ],
            "type": "histogram2dcontour"
           }
          ],
          "mesh3d": [
           {
            "colorbar": {
             "outlinewidth": 0,
             "ticks": ""
            },
            "type": "mesh3d"
           }
          ],
          "parcoords": [
           {
            "line": {
             "colorbar": {
              "outlinewidth": 0,
              "ticks": ""
             }
            },
            "type": "parcoords"
           }
          ],
          "pie": [
           {
            "automargin": true,
            "type": "pie"
           }
          ],
          "scatter": [
           {
            "fillpattern": {
             "fillmode": "overlay",
             "size": 10,
             "solidity": 0.2
            },
            "type": "scatter"
           }
          ],
          "scatter3d": [
           {
            "line": {
             "colorbar": {
              "outlinewidth": 0,
              "ticks": ""
             }
            },
            "marker": {
             "colorbar": {
              "outlinewidth": 0,
              "ticks": ""
             }
            },
            "type": "scatter3d"
           }
          ],
          "scattercarpet": [
           {
            "marker": {
             "colorbar": {
              "outlinewidth": 0,
              "ticks": ""
             }
            },
            "type": "scattercarpet"
           }
          ],
          "scattergeo": [
           {
            "marker": {
             "colorbar": {
              "outlinewidth": 0,
              "ticks": ""
             }
            },
            "type": "scattergeo"
           }
          ],
          "scattergl": [
           {
            "marker": {
             "colorbar": {
              "outlinewidth": 0,
              "ticks": ""
             }
            },
            "type": "scattergl"
           }
          ],
          "scattermapbox": [
           {
            "marker": {
             "colorbar": {
              "outlinewidth": 0,
              "ticks": ""
             }
            },
            "type": "scattermapbox"
           }
          ],
          "scatterpolar": [
           {
            "marker": {
             "colorbar": {
              "outlinewidth": 0,
              "ticks": ""
             }
            },
            "type": "scatterpolar"
           }
          ],
          "scatterpolargl": [
           {
            "marker": {
             "colorbar": {
              "outlinewidth": 0,
              "ticks": ""
             }
            },
            "type": "scatterpolargl"
           }
          ],
          "scatterternary": [
           {
            "marker": {
             "colorbar": {
              "outlinewidth": 0,
              "ticks": ""
             }
            },
            "type": "scatterternary"
           }
          ],
          "surface": [
           {
            "colorbar": {
             "outlinewidth": 0,
             "ticks": ""
            },
            "colorscale": [
             [
              0,
              "#0d0887"
             ],
             [
              0.1111111111111111,
              "#46039f"
             ],
             [
              0.2222222222222222,
              "#7201a8"
             ],
             [
              0.3333333333333333,
              "#9c179e"
             ],
             [
              0.4444444444444444,
              "#bd3786"
             ],
             [
              0.5555555555555556,
              "#d8576b"
             ],
             [
              0.6666666666666666,
              "#ed7953"
             ],
             [
              0.7777777777777778,
              "#fb9f3a"
             ],
             [
              0.8888888888888888,
              "#fdca26"
             ],
             [
              1,
              "#f0f921"
             ]
            ],
            "type": "surface"
           }
          ],
          "table": [
           {
            "cells": {
             "fill": {
              "color": "#EBF0F8"
             },
             "line": {
              "color": "white"
             }
            },
            "header": {
             "fill": {
              "color": "#C8D4E3"
             },
             "line": {
              "color": "white"
             }
            },
            "type": "table"
           }
          ]
         },
         "layout": {
          "annotationdefaults": {
           "arrowcolor": "#2a3f5f",
           "arrowhead": 0,
           "arrowwidth": 1
          },
          "autotypenumbers": "strict",
          "coloraxis": {
           "colorbar": {
            "outlinewidth": 0,
            "ticks": ""
           }
          },
          "colorscale": {
           "diverging": [
            [
             0,
             "#8e0152"
            ],
            [
             0.1,
             "#c51b7d"
            ],
            [
             0.2,
             "#de77ae"
            ],
            [
             0.3,
             "#f1b6da"
            ],
            [
             0.4,
             "#fde0ef"
            ],
            [
             0.5,
             "#f7f7f7"
            ],
            [
             0.6,
             "#e6f5d0"
            ],
            [
             0.7,
             "#b8e186"
            ],
            [
             0.8,
             "#7fbc41"
            ],
            [
             0.9,
             "#4d9221"
            ],
            [
             1,
             "#276419"
            ]
           ],
           "sequential": [
            [
             0,
             "#0d0887"
            ],
            [
             0.1111111111111111,
             "#46039f"
            ],
            [
             0.2222222222222222,
             "#7201a8"
            ],
            [
             0.3333333333333333,
             "#9c179e"
            ],
            [
             0.4444444444444444,
             "#bd3786"
            ],
            [
             0.5555555555555556,
             "#d8576b"
            ],
            [
             0.6666666666666666,
             "#ed7953"
            ],
            [
             0.7777777777777778,
             "#fb9f3a"
            ],
            [
             0.8888888888888888,
             "#fdca26"
            ],
            [
             1,
             "#f0f921"
            ]
           ],
           "sequentialminus": [
            [
             0,
             "#0d0887"
            ],
            [
             0.1111111111111111,
             "#46039f"
            ],
            [
             0.2222222222222222,
             "#7201a8"
            ],
            [
             0.3333333333333333,
             "#9c179e"
            ],
            [
             0.4444444444444444,
             "#bd3786"
            ],
            [
             0.5555555555555556,
             "#d8576b"
            ],
            [
             0.6666666666666666,
             "#ed7953"
            ],
            [
             0.7777777777777778,
             "#fb9f3a"
            ],
            [
             0.8888888888888888,
             "#fdca26"
            ],
            [
             1,
             "#f0f921"
            ]
           ]
          },
          "colorway": [
           "#636efa",
           "#EF553B",
           "#00cc96",
           "#ab63fa",
           "#FFA15A",
           "#19d3f3",
           "#FF6692",
           "#B6E880",
           "#FF97FF",
           "#FECB52"
          ],
          "font": {
           "color": "#2a3f5f"
          },
          "geo": {
           "bgcolor": "white",
           "lakecolor": "white",
           "landcolor": "#E5ECF6",
           "showlakes": true,
           "showland": true,
           "subunitcolor": "white"
          },
          "hoverlabel": {
           "align": "left"
          },
          "hovermode": "closest",
          "mapbox": {
           "style": "light"
          },
          "paper_bgcolor": "white",
          "plot_bgcolor": "#E5ECF6",
          "polar": {
           "angularaxis": {
            "gridcolor": "white",
            "linecolor": "white",
            "ticks": ""
           },
           "bgcolor": "#E5ECF6",
           "radialaxis": {
            "gridcolor": "white",
            "linecolor": "white",
            "ticks": ""
           }
          },
          "scene": {
           "xaxis": {
            "backgroundcolor": "#E5ECF6",
            "gridcolor": "white",
            "gridwidth": 2,
            "linecolor": "white",
            "showbackground": true,
            "ticks": "",
            "zerolinecolor": "white"
           },
           "yaxis": {
            "backgroundcolor": "#E5ECF6",
            "gridcolor": "white",
            "gridwidth": 2,
            "linecolor": "white",
            "showbackground": true,
            "ticks": "",
            "zerolinecolor": "white"
           },
           "zaxis": {
            "backgroundcolor": "#E5ECF6",
            "gridcolor": "white",
            "gridwidth": 2,
            "linecolor": "white",
            "showbackground": true,
            "ticks": "",
            "zerolinecolor": "white"
           }
          },
          "shapedefaults": {
           "line": {
            "color": "#2a3f5f"
           }
          },
          "ternary": {
           "aaxis": {
            "gridcolor": "white",
            "linecolor": "white",
            "ticks": ""
           },
           "baxis": {
            "gridcolor": "white",
            "linecolor": "white",
            "ticks": ""
           },
           "bgcolor": "#E5ECF6",
           "caxis": {
            "gridcolor": "white",
            "linecolor": "white",
            "ticks": ""
           }
          },
          "title": {
           "x": 0.05
          },
          "xaxis": {
           "automargin": true,
           "gridcolor": "white",
           "linecolor": "white",
           "ticks": "",
           "title": {
            "standoff": 15
           },
           "zerolinecolor": "white",
           "zerolinewidth": 2
          },
          "yaxis": {
           "automargin": true,
           "gridcolor": "white",
           "linecolor": "white",
           "ticks": "",
           "title": {
            "standoff": 15
           },
           "zerolinecolor": "white",
           "zerolinewidth": 2
          }
         }
        },
        "title": {
         "text": "Distribution of the different accidents in 2020"
        },
        "xaxis": {
         "title": {
          "text": "Accidents"
         }
        },
        "yaxis": {
         "title": {
          "text": "Count"
         }
        }
       }
      }
     },
     "metadata": {},
     "output_type": "display_data"
    }
   ],
   "source": [
    "# Visualizing the distribution of the different accidents in 2020 :\n",
    "\n",
    "accident_columns=['total_deaths','total_dafw_cases','total_djtr_cases','total_other_cases']\n",
    "accidents = dataset_2020[accident_columns]\n",
    "# Calculate sums \n",
    "sums_2020 = [dataset_2020[col].sum() for col in accident_columns]\n",
    "\n",
    "fig_2020 = go.Figure()\n",
    "fig_2020.add_trace(go.Bar(x=accidents.columns, y=sums_2020))  \n",
    "fig_2020.update_layout(title='Distribution of the different accidents in 2020', xaxis_title='Accidents', yaxis_title='Count')\n",
    "\n",
    "# Add annotations for each bar\n",
    "for i, value in enumerate(sums_2020):\n",
    "    fig_2020.add_annotation(x=accidents.columns[i], y=value, text=str(value), showarrow=True, arrowhead=1)\n",
    "\n",
    "    # Show the figures\n",
    "fig_2020.show()"
   ]
  },
  {
   "cell_type": "markdown",
   "metadata": {},
   "source": [
    "### Exploring the column industry_description "
   ]
  },
  {
   "cell_type": "code",
   "execution_count": 32,
   "metadata": {},
   "outputs": [
    {
     "name": "stdout",
     "output_type": "stream",
     "text": [
      "Number of unique industry description : 13826\n"
     ]
    }
   ],
   "source": [
    "# Calculating unique values :\n",
    "\n",
    "print(\"Number of unique industry description :\", dataset_2020['industry_description'].nunique())"
   ]
  },
  {
   "cell_type": "code",
   "execution_count": 33,
   "metadata": {},
   "outputs": [
    {
     "name": "stdout",
     "output_type": "stream",
     "text": [
      "Number of duplicates idustry description : 8668\n",
      "Number of duplicate values and their count : industry_description\n",
      "Mail and Parcel Delivery                                      7604\n",
      "Office Equipment                                              4397\n",
      "Warehouse Clubs and Supercenters                              4150\n",
      " Skilled nursing facilities                                   3507\n",
      "Supermarkets and Other Grocery (except Convenience) Stores    3351\n",
      "                                                              ... \n",
      "GENERAL LINE GROCERY MERCHANT WHOLESALERS                        2\n",
      " Preparatory schools, elementary or secondary                    2\n",
      "General-line industrial supplies merchant wholesalers            2\n",
      " Scheduled air freight carriers                                  2\n",
      " Subdividing real estate                                         2\n",
      "Name: count, Length: 8668, dtype: int64\n"
     ]
    }
   ],
   "source": [
    "# Calculating duplicates : \n",
    "\n",
    "print(\"Number of duplicates idustry description :\", dataset_2020[dataset_2020.duplicated(['industry_description'], keep=False)]['industry_description'].nunique())\n",
    "\n",
    "print('Number of duplicate values and their count :', dataset_2020['industry_description'].value_counts()[dataset_2020['industry_description'].value_counts() > 1])"
   ]
  },
  {
   "cell_type": "markdown",
   "metadata": {},
   "source": [
    "We conclude that this column contains the industry descirption in details since it contains 13768 different descriptions."
   ]
  },
  {
   "cell_type": "markdown",
   "metadata": {},
   "source": [
    "The industry is an important feauture to predict accidents but we can't use it liek this with this big number of different categories."
   ]
  },
  {
   "cell_type": "code",
   "execution_count": 34,
   "metadata": {},
   "outputs": [
    {
     "name": "stdout",
     "output_type": "stream",
     "text": [
      "Number of duplicate values and their count : industry_description\n",
      "Mail and Parcel Delivery                                      7604\n",
      "Office Equipment                                              4397\n",
      "Warehouse Clubs and Supercenters                              4150\n",
      " Skilled nursing facilities                                   3507\n",
      "Supermarkets and Other Grocery (except Convenience) Stores    3351\n",
      "Facilities Support Services                                   2829\n",
      " Grocery stores                                               2759\n",
      " Hotels (except casino hotels)                                2404\n",
      " Nursing homes                                                2365\n",
      "Retail grocery not including convenience stores               2349\n",
      " General warehousing and storage                              2225\n",
      "Name: count, dtype: int64\n"
     ]
    }
   ],
   "source": [
    "# Showing the top 10 duplicates :\n",
    " \n",
    "duplicates= dataset_2020['industry_description'].value_counts()[dataset_2020['industry_description'].value_counts() > 2200]\n",
    "print('Number of duplicate values and their count :', duplicates)"
   ]
  },
  {
   "cell_type": "code",
   "execution_count": 35,
   "metadata": {},
   "outputs": [
    {
     "data": {
      "image/png": "[encoded data removed]",
      "text/plain": [
       "<Figure size 1000x500 with 1 Axes>"
      ]
     },
     "metadata": {},
     "output_type": "display_data"
    }
   ],
   "source": [
    "# Plot in a bar graph :\n",
    "\n",
    "plt.figure(figsize=(10, 5))\n",
    "duplicates.plot(kind='bar', color='skyblue')\n",
    "plt.title('Top 10 Duplicate Industry Descriptions')\n",
    "plt.xlabel('Industry Description')\n",
    "plt.ylabel('Count')\n",
    "plt.xticks(rotation=45, ha='right')\n",
    "plt.grid(axis='y', linestyle='--', alpha=0.7)\n",
    "plt.show()"
   ]
  },
  {
   "cell_type": "code",
   "execution_count": 36,
   "metadata": {},
   "outputs": [
    {
     "data": {
      "image/png": "[encoded data removed]",
      "text/plain": [
       "<Figure size 800x800 with 1 Axes>"
      ]
     },
     "metadata": {},
     "output_type": "display_data"
    }
   ],
   "source": [
    "# Plot the percentage of these duplicates in a pie chart :\n",
    "\n",
    "colors = plt.cm.Blues_r(np.linspace(0.2, 0.8, len(duplicates)))\n",
    "\n",
    "plt.figure(figsize=(8, 8))\n",
    "plt.pie(duplicates, labels=duplicates.index, autopct='%1.1f%%', colors=colors)\n",
    "plt.title('Top 10 Duplicate Industry Descriptions')\n",
    "plt.show()"
   ]
  },
  {
   "cell_type": "markdown",
   "metadata": {},
   "source": [
    "### Exploring the column naics code "
   ]
  },
  {
   "cell_type": "markdown",
   "metadata": {},
   "source": [
    "This column contains industry sectors codes, this codes can have from 2 to 6 digits : \n",
    "* 2 digits : The sector : there are 20 sectors\n",
    "* 3 digits : Subsectors : there are 96 subsectors\n",
    "* 4 digits : Industry groups : there 308 industry groups\n",
    "* 5 digits : Industry details : there are 689 industry details \n",
    "* 6 digits : Country specific detail (US, Canada or Mexico) : there are 1012 "
   ]
  },
  {
   "cell_type": "code",
   "execution_count": 37,
   "metadata": {},
   "outputs": [
    {
     "name": "stdout",
     "output_type": "stream",
     "text": [
      "Number of unique naics code : 1200\n"
     ]
    }
   ],
   "source": [
    "# Calculating unique values :\n",
    "\n",
    "print(\"Number of unique naics code :\", dataset_2020['naics_code'].nunique())\n"
   ]
  },
  {
   "cell_type": "code",
   "execution_count": 38,
   "metadata": {},
   "outputs": [
    {
     "name": "stdout",
     "output_type": "stream",
     "text": [
      "Number of duplicates naics code: 1056\n",
      "Number of duplicate values and their count : naics_code\n",
      "445110    16223\n",
      "491110     7657\n",
      "623110     7390\n",
      "721110     5309\n",
      "493110     5272\n",
      "          ...  \n",
      "711510        2\n",
      "482111        2\n",
      "212391        2\n",
      "336121        2\n",
      "561622        2\n",
      "Name: count, Length: 1056, dtype: int64\n"
     ]
    }
   ],
   "source": [
    "# Calculating duplicates : \n",
    "\n",
    "print(\"Number of duplicates naics code:\", dataset_2020[dataset_2020.duplicated(['naics_code'], keep=False)]['naics_code'].nunique())\n",
    "\n",
    "print('Number of duplicate values and their count :', dataset_2020['naics_code'].value_counts()[dataset_2020['naics_code'].value_counts() > 1])"
   ]
  },
  {
   "cell_type": "markdown",
   "metadata": {},
   "source": [
    "We will then use this column to know the industry instead of the column industry_description."
   ]
  },
  {
   "cell_type": "markdown",
   "metadata": {},
   "source": [
    "As a first try, we wil only use the sectors, so the 2 first digits of the codes. There are 20 sectors."
   ]
  },
  {
   "cell_type": "code",
   "execution_count": 39,
   "metadata": {},
   "outputs": [],
   "source": [
    "# Extracting the 2 first digits from the codes in the column naics_code and placing them in column called sectors_code :\n",
    "\n",
    "dataset_2020['sectors_code'] = dataset_2020['naics_code'].astype(str).str[:2]"
   ]
  },
  {
   "cell_type": "code",
   "execution_count": 40,
   "metadata": {},
   "outputs": [
    {
     "name": "stdout",
     "output_type": "stream",
     "text": [
      "Number of unique sectors code : 35\n"
     ]
    }
   ],
   "source": [
    "# Calculating the unique values :\n",
    "\n",
    "print(\"Number of unique sectors code :\", dataset_2020['sectors_code'].nunique())"
   ]
  },
  {
   "cell_type": "markdown",
   "metadata": {},
   "source": [
    "There should be 20 values because we only have 20 sectors. So we should check the values and clean them."
   ]
  },
  {
   "cell_type": "code",
   "execution_count": 41,
   "metadata": {},
   "outputs": [
    {
     "name": "stdout",
     "output_type": "stream",
     "text": [
      "Unique sectors codes: ['71' '33' '62' '23' '11' '48' '42' '49' '44' '53' '61' '32' '22' '81'\n",
      " '72' '31' '52' '45' '56' '92' '21' '54' '19' '55' '99' '51' '39' '16'\n",
      " '35' '43' '34' '29' '87' '79' '50']\n"
     ]
    }
   ],
   "source": [
    "# Showing these 35 unique values :\n",
    "\n",
    "print(\"Unique sectors codes:\", dataset_2020['sectors_code'].unique())"
   ]
  },
  {
   "cell_type": "markdown",
   "metadata": {},
   "source": [
    "There are some codes that represent the same sector, for example, the construction sector has a code from 31 to 33 so we sould group them to be considered as one sector"
   ]
  },
  {
   "cell_type": "code",
   "execution_count": 42,
   "metadata": {},
   "outputs": [],
   "source": [
    "# Convert NAICS codes 31 or 32 to 33\n",
    "dataset_2020['sectors_code'].replace(['31', '32'], '33', inplace=True)\n",
    "\n",
    "# Convert NAICS code 44 to 45\n",
    "dataset_2020['sectors_code'].replace('44', '45', inplace=True)\n",
    "\n",
    "# Convert NAICS code 48 to 49\n",
    "dataset_2020['sectors_code'].replace('48', '49', inplace=True)"
   ]
  },
  {
   "cell_type": "code",
   "execution_count": 43,
   "metadata": {},
   "outputs": [
    {
     "name": "stdout",
     "output_type": "stream",
     "text": [
      "Number of unique sectors code : 31\n"
     ]
    }
   ],
   "source": [
    "# Recalculating the unique values :\n",
    "\n",
    "print(\"Number of unique sectors code :\", dataset_2020['sectors_code'].nunique())"
   ]
  },
  {
   "cell_type": "markdown",
   "metadata": {},
   "source": [
    "We still have 31 values and it should be 20, so let's dive more into the column."
   ]
  },
  {
   "cell_type": "code",
   "execution_count": 44,
   "metadata": {},
   "outputs": [
    {
     "data": {
      "image/png": "[encoded data removed]",
      "text/plain": [
       "<Figure size 1000x600 with 1 Axes>"
      ]
     },
     "metadata": {},
     "output_type": "display_data"
    }
   ],
   "source": [
    "# Showing the distribution of every code :\n",
    "\n",
    "plt.figure(figsize=(10, 6))\n",
    "ax=dataset_2020['sectors_code'].value_counts().plot(kind='bar', color='skyblue')\n",
    "\n",
    "for p in ax.patches:\n",
    "    ax.annotate(str(p.get_height()), (p.get_x() + p.get_width() / 2, p.get_height()), ha='center', va='bottom')\n",
    "\n",
    "plt.title('Distirubution of sectors codes')\n",
    "plt.xlabel('Sectors code')\n",
    "plt.ylabel('Count')\n",
    "plt.xticks(rotation=90)\n",
    "plt.grid(axis='y', linestyle='--', alpha=0.7)\n",
    "plt.show()"
   ]
  },
  {
   "cell_type": "markdown",
   "metadata": {},
   "source": [
    "The 11 extra codes we have are the last ones who represent a count under 5 + the code 99 who represent 270 rows and this code is the nonclassifiable establishments so we are going to delete them all"
   ]
  },
  {
   "cell_type": "code",
   "execution_count": 45,
   "metadata": {},
   "outputs": [],
   "source": [
    "# Defining the list of the real sectors codes :\n",
    "\n",
    "sectors_code= ['11', '21', '22', '23', '31', '32', '33', '42', '44', '45', \n",
    "                 '48', '49', '51', '52', '53', '54', '55', '56', '61', '62', \n",
    "                 '71', '72', '81', '92']\n",
    "\n",
    "# Cleaning the dataset by deleting the rows that don't have one of the values in the list :\n",
    "\n",
    "dataset_2020 = dataset_2020[dataset_2020['sectors_code'].isin(sectors_code)]"
   ]
  },
  {
   "cell_type": "code",
   "execution_count": 46,
   "metadata": {},
   "outputs": [
    {
     "name": "stdout",
     "output_type": "stream",
     "text": [
      "Number of unique sectors code : 20\n"
     ]
    }
   ],
   "source": [
    "# Recalculating the unique values :\n",
    "\n",
    "print(\"Number of unique sectors code :\", dataset_2020['sectors_code'].nunique())"
   ]
  },
  {
   "cell_type": "markdown",
   "metadata": {},
   "source": [
    "Let's now create another column with the subsectors codes (3 digits code). There are 96 subsectors."
   ]
  },
  {
   "cell_type": "code",
   "execution_count": 47,
   "metadata": {},
   "outputs": [],
   "source": [
    "# Extracting the 3 first digits from the codes in the column naics_code and placing them in column called subsectors_code :\n",
    "\n",
    "dataset_2020['subsectors_code'] = dataset_2020['naics_code'].astype(str).str[:3]"
   ]
  },
  {
   "cell_type": "code",
   "execution_count": 48,
   "metadata": {},
   "outputs": [
    {
     "name": "stdout",
     "output_type": "stream",
     "text": [
      "Number of unique subsectors code : 105\n"
     ]
    }
   ],
   "source": [
    "# Calculating the unique values :\n",
    "\n",
    "print(\"Number of unique subsectors code :\", dataset_2020['subsectors_code'].nunique())"
   ]
  },
  {
   "cell_type": "markdown",
   "metadata": {},
   "source": [
    "There should be maximum 96 values because we only have 96 subsectors. So we should check the values and clean them."
   ]
  },
  {
   "cell_type": "code",
   "execution_count": 49,
   "metadata": {},
   "outputs": [
    {
     "name": "stdout",
     "output_type": "stream",
     "text": [
      "Unique subsectors codes: ['713' '336' '621' '236' '238' '112' '485' '424' '493' '333' '444' '441'\n",
      " '532' '445' '332' '611' '326' '423' '221' '812' '721' '484' '311' '237'\n",
      " '722' '327' '524' '452' '453' '561' '312' '111' '486' '623' '813' '323'\n",
      " '321' '325' '331' '622' '334' '712' '924' '922' '624' '213' '492' '811'\n",
      " '541' '522' '442' '447' '551' '443' '531' '446' '921' '448' '491' '339'\n",
      " '481' '314' '488' '315' '517' '562' '511' '337' '525' '454' '324' '335'\n",
      " '115' '519' '926' '322' '425' '518' '927' '925' '711' '512' '451' '211'\n",
      " '923' '533' '313' '316' '113' '212' '483' '928' '515' '114' '422' '523'\n",
      " '487' '222' '521' '814' '818' '555' '440' '228' '482']\n"
     ]
    }
   ],
   "source": [
    "# Showing these unique values :\n",
    "\n",
    "print(\"Unique subsectors codes:\", dataset_2020['subsectors_code'].unique())"
   ]
  },
  {
   "cell_type": "code",
   "execution_count": 50,
   "metadata": {},
   "outputs": [
    {
     "data": {
      "image/png": "[encoded data removed]",
      "text/plain": [
       "<Figure size 1000x600 with 1 Axes>"
      ]
     },
     "metadata": {},
     "output_type": "display_data"
    }
   ],
   "source": [
    "# Showing the distribution of every code :\n",
    "\n",
    "plt.figure(figsize=(10, 6))\n",
    "ax=dataset_2020['subsectors_code'].value_counts().plot(kind='bar', color='skyblue')\n",
    "\n",
    "for p in ax.patches:\n",
    "    ax.annotate(str(p.get_height()), (p.get_x() + p.get_width() / 2, p.get_height()), ha='center', va='bottom')\n",
    "\n",
    "plt.title('Distirubution of subsectors codes')\n",
    "plt.xlabel('Subsectors code')\n",
    "plt.ylabel('Count')\n",
    "plt.xticks(rotation=90)\n",
    "plt.grid(axis='y', linestyle='--', alpha=0.7)\n",
    "plt.show()"
   ]
  },
  {
   "cell_type": "markdown",
   "metadata": {},
   "source": [
    "The 9 extra codes we have are the last ones who represent a count under 5 so we are goig to delete them all"
   ]
  },
  {
   "cell_type": "code",
   "execution_count": 51,
   "metadata": {},
   "outputs": [],
   "source": [
    "# Defining the list of the real subsectors codes :\n",
    "\n",
    "subsectors_code= [\n",
    "    '111', '112', '113', '114', '115', '211', '212', '213', '221', '236', '237', '238', \n",
    "    '311', '312', '313', '314', '315', '316', '321', '322', '323', '324', '325', '326', \n",
    "    '327', '331', '332', '333', '334', '335', '336', '337', '339', '423', '424', '425', \n",
    "    '441', '444', '445', '449', '455', '456', '457', '458', '459', '481', '482', '483', \n",
    "    '484', '485', '486', '487', '488', '491', '492', '493', '512', '513', '516', '517', \n",
    "    '518', '519', '521', '522', '523', '524', '525', '531', '532', '533', '541', '551', \n",
    "    '561', '562', '611', '621', '622', '623', '624', '711', '712', '713', '721', '722', \n",
    "    '811', '812', '813', '814', '921', '922', '923', '924', '925', '926', '927', '928'\n",
    "]\n",
    "\n",
    "# Cleaning the dataset by deleting the rows that don't have one of the values in the list :\n",
    "\n",
    "dataset_2020 = dataset_2020[dataset_2020['subsectors_code'].isin(subsectors_code)]"
   ]
  },
  {
   "cell_type": "code",
   "execution_count": 52,
   "metadata": {},
   "outputs": [
    {
     "name": "stdout",
     "output_type": "stream",
     "text": [
      "Number of unique subsectors code : 88\n"
     ]
    }
   ],
   "source": [
    "# Recalculating the unique values :\n",
    "\n",
    "print(\"Number of unique subsectors code :\", dataset_2020['subsectors_code'].nunique())"
   ]
  },
  {
   "cell_type": "markdown",
   "metadata": {},
   "source": [
    "### Correlations "
   ]
  },
  {
   "cell_type": "code",
   "execution_count": 53,
   "metadata": {},
   "outputs": [
    {
     "data": {
      "image/png": "[encoded data removed]",
      "text/plain": [
       "<Figure size 1200x800 with 2 Axes>"
      ]
     },
     "metadata": {},
     "output_type": "display_data"
    }
   ],
   "source": [
    "# Select the columns for correlation analysis\n",
    "columns = ['sectors_code','subsectors_code', 'annual_average_employees', 'establishment_type', \n",
    "           'total_hours_worked', 'total_deaths', 'total_dafw_cases', 'total_djtr_cases', 'total_other_cases', 'total_cases']\n",
    "\n",
    "# Compute the correlation matrix\n",
    "correlation_matrix = dataset_2020[columns].corr()\n",
    "\n",
    "# Plot the correlation heatmap\n",
    "plt.figure(figsize=(12, 8))\n",
    "sns.heatmap(correlation_matrix, cmap='coolwarm', annot=False, center=0, vmin=-1, vmax=1)\n",
    "\n",
    "# Add annotations manually\n",
    "for i in range(len(correlation_matrix)):\n",
    "    for j in range(len(correlation_matrix.columns)):\n",
    "        plt.text(j+0.5, i+0.5, '{:.2f}'.format(correlation_matrix.iloc[i, j]), ha='center', va='center', color='black')\n",
    "\n",
    "plt.title('Correlation Heatmap')\n",
    "plt.xticks(ticks=np.arange(len(correlation_matrix.columns)) + 0.5, labels=correlation_matrix.columns)\n",
    "plt.yticks(ticks=np.arange(len(correlation_matrix.index)) + 0.5, labels=correlation_matrix.index)\n",
    "plt.show()"
   ]
  },
  {
   "cell_type": "code",
   "execution_count": 54,
   "metadata": {},
   "outputs": [
    {
     "data": {
      "application/vnd.plotly.v1+json": {
       "config": {
        "plotlyServerURL": "https://plot.ly"
       },
       "data": [
        {
         "name": "total_deaths",
         "type": "bar",
         "x": [
          "11",
          "21",
          "22",
          "23",
          "33",
          "42",
          "45",
          "49",
          "51",
          "52",
          "53",
          "54",
          "55",
          "56",
          "61",
          "62",
          "71",
          "72",
          "81",
          "92"
         ],
         "y": [
          36,
          5,
          14,
          156,
          269,
          56,
          37,
          171,
          0,
          1,
          18,
          10,
          5,
          39,
          6,
          514,
          4,
          12,
          3,
          75
         ]
        },
        {
         "name": "total_dafw_cases",
         "type": "bar",
         "x": [
          "11",
          "21",
          "22",
          "23",
          "33",
          "42",
          "45",
          "49",
          "51",
          "52",
          "53",
          "54",
          "55",
          "56",
          "61",
          "62",
          "71",
          "72",
          "81",
          "92"
         ],
         "y": [
          7441,
          336,
          3930,
          22029,
          86201,
          19785,
          40684,
          89698,
          467,
          309,
          2712,
          1332,
          789,
          10847,
          3261,
          256673,
          2142,
          6642,
          2324,
          28624
         ]
        },
        {
         "name": "total_djtr_cases",
         "type": "bar",
         "x": [
          "11",
          "21",
          "22",
          "23",
          "33",
          "42",
          "45",
          "49",
          "51",
          "52",
          "53",
          "54",
          "55",
          "56",
          "61",
          "62",
          "71",
          "72",
          "81",
          "92"
         ],
         "y": [
          5205,
          268,
          2774,
          17664,
          76126,
          17960,
          29185,
          65287,
          231,
          97,
          1351,
          729,
          492,
          8165,
          1997,
          56404,
          2198,
          4655,
          2071,
          7421
         ]
        },
        {
         "name": "total_other_cases",
         "type": "bar",
         "x": [
          "11",
          "21",
          "22",
          "23",
          "33",
          "42",
          "45",
          "49",
          "51",
          "52",
          "53",
          "54",
          "55",
          "56",
          "61",
          "62",
          "71",
          "72",
          "81",
          "92"
         ],
         "y": [
          5819,
          378,
          4100,
          23891,
          75834,
          11822,
          25244,
          34857,
          414,
          315,
          2159,
          1909,
          695,
          8404,
          4968,
          138638,
          2998,
          7808,
          3055,
          20162
         ]
        }
       ],
       "layout": {
        "barmode": "group",
        "template": {
         "data": {
          "bar": [
           {
            "error_x": {
             "color": "#2a3f5f"
            },
            "error_y": {
             "color": "#2a3f5f"
            },
            "marker": {
             "line": {
              "color": "#E5ECF6",
              "width": 0.5
             },
             "pattern": {
              "fillmode": "overlay",
              "size": 10,
              "solidity": 0.2
             }
            },
            "type": "bar"
           }
          ],
          "barpolar": [
           {
            "marker": {
             "line": {
              "color": "#E5ECF6",
              "width": 0.5
             },
             "pattern": {
              "fillmode": "overlay",
              "size": 10,
              "solidity": 0.2
             }
            },
            "type": "barpolar"
           }
          ],
          "carpet": [
           {
            "aaxis": {
             "endlinecolor": "#2a3f5f",
             "gridcolor": "white",
             "linecolor": "white",
             "minorgridcolor": "white",
             "startlinecolor": "#2a3f5f"
            },
            "baxis": {
             "endlinecolor": "#2a3f5f",
             "gridcolor": "white",
             "linecolor": "white",
             "minorgridcolor": "white",
             "startlinecolor": "#2a3f5f"
            },
            "type": "carpet"
           }
          ],
          "choropleth": [
           {
            "colorbar": {
             "outlinewidth": 0,
             "ticks": ""
            },
            "type": "choropleth"
           }
          ],
          "contour": [
           {
            "colorbar": {
             "outlinewidth": 0,
             "ticks": ""
            },
            "colorscale": [
             [
              0,
              "#0d0887"
             ],
             [
              0.1111111111111111,
              "#46039f"
             ],
             [
              0.2222222222222222,
              "#7201a8"
             ],
             [
              0.3333333333333333,
              "#9c179e"
             ],
             [
              0.4444444444444444,
              "#bd3786"
             ],
             [
              0.5555555555555556,
              "#d8576b"
             ],
             [
              0.6666666666666666,
              "#ed7953"
             ],
             [
              0.7777777777777778,
              "#fb9f3a"
             ],
             [
              0.8888888888888888,
              "#fdca26"
             ],
             [
              1,
              "#f0f921"
             ]
            ],
            "type": "contour"
           }
          ],
          "contourcarpet": [
           {
            "colorbar": {
             "outlinewidth": 0,
             "ticks": ""
            },
            "type": "contourcarpet"
           }
          ],
          "heatmap": [
           {
            "colorbar": {
             "outlinewidth": 0,
             "ticks": ""
            },
            "colorscale": [
             [
              0,
              "#0d0887"
             ],
             [
              0.1111111111111111,
              "#46039f"
             ],
             [
              0.2222222222222222,
              "#7201a8"
             ],
             [
              0.3333333333333333,
              "#9c179e"
             ],
             [
              0.4444444444444444,
              "#bd3786"
             ],
             [
              0.5555555555555556,
              "#d8576b"
             ],
             [
              0.6666666666666666,
              "#ed7953"
             ],
             [
              0.7777777777777778,
              "#fb9f3a"
             ],
             [
              0.8888888888888888,
              "#fdca26"
             ],
             [
              1,
              "#f0f921"
             ]
            ],
            "type": "heatmap"
           }
          ],
          "heatmapgl": [
           {
            "colorbar": {
             "outlinewidth": 0,
             "ticks": ""
            },
            "colorscale": [
             [
              0,
              "#0d0887"
             ],
             [
              0.1111111111111111,
              "#46039f"
             ],
             [
              0.2222222222222222,
              "#7201a8"
             ],
             [
              0.3333333333333333,
              "#9c179e"
             ],
             [
              0.4444444444444444,
              "#bd3786"
             ],
             [
              0.5555555555555556,
              "#d8576b"
             ],
             [
              0.6666666666666666,
              "#ed7953"
             ],
             [
              0.7777777777777778,
              "#fb9f3a"
             ],
             [
              0.8888888888888888,
              "#fdca26"
             ],
             [
              1,
              "#f0f921"
             ]
            ],
            "type": "heatmapgl"
           }
          ],
          "histogram": [
           {
            "marker": {
             "pattern": {
              "fillmode": "overlay",
              "size": 10,
              "solidity": 0.2
             }
            },
            "type": "histogram"
           }
          ],
          "histogram2d": [
           {
            "colorbar": {
             "outlinewidth": 0,
             "ticks": ""
            },
            "colorscale": [
             [
              0,
              "#0d0887"
             ],
             [
              0.1111111111111111,
              "#46039f"
             ],
             [
              0.2222222222222222,
              "#7201a8"
             ],
             [
              0.3333333333333333,
              "#9c179e"
             ],
             [
              0.4444444444444444,
              "#bd3786"
             ],
             [
              0.5555555555555556,
              "#d8576b"
             ],
             [
              0.6666666666666666,
              "#ed7953"
             ],
             [
              0.7777777777777778,
              "#fb9f3a"
             ],
             [
              0.8888888888888888,
              "#fdca26"
             ],
             [
              1,
              "#f0f921"
             ]
            ],
            "type": "histogram2d"
           }
          ],
          "histogram2dcontour": [
           {
            "colorbar": {
             "outlinewidth": 0,
             "ticks": ""
            },
            "colorscale": [
             [
              0,
              "#0d0887"
             ],
             [
              0.1111111111111111,
              "#46039f"
             ],
             [
              0.2222222222222222,
              "#7201a8"
             ],
             [
              0.3333333333333333,
              "#9c179e"
             ],
             [
              0.4444444444444444,
              "#bd3786"
             ],
             [
              0.5555555555555556,
              "#d8576b"
             ],
             [
              0.6666666666666666,
              "#ed7953"
             ],
             [
              0.7777777777777778,
              "#fb9f3a"
             ],
             [
              0.8888888888888888,
              "#fdca26"
             ],
             [
              1,
              "#f0f921"
             ]
            ],
            "type": "histogram2dcontour"
           }
          ],
          "mesh3d": [
           {
            "colorbar": {
             "outlinewidth": 0,
             "ticks": ""
            },
            "type": "mesh3d"
           }
          ],
          "parcoords": [
           {
            "line": {
             "colorbar": {
              "outlinewidth": 0,
              "ticks": ""
             }
            },
            "type": "parcoords"
           }
          ],
          "pie": [
           {
            "automargin": true,
            "type": "pie"
           }
          ],
          "scatter": [
           {
            "fillpattern": {
             "fillmode": "overlay",
             "size": 10,
             "solidity": 0.2
            },
            "type": "scatter"
           }
          ],
          "scatter3d": [
           {
            "line": {
             "colorbar": {
              "outlinewidth": 0,
              "ticks": ""
             }
            },
            "marker": {
             "colorbar": {
              "outlinewidth": 0,
              "ticks": ""
             }
            },
            "type": "scatter3d"
           }
          ],
          "scattercarpet": [
           {
            "marker": {
             "colorbar": {
              "outlinewidth": 0,
              "ticks": ""
             }
            },
            "type": "scattercarpet"
           }
          ],
          "scattergeo": [
           {
            "marker": {
             "colorbar": {
              "outlinewidth": 0,
              "ticks": ""
             }
            },
            "type": "scattergeo"
           }
          ],
          "scattergl": [
           {
            "marker": {
             "colorbar": {
              "outlinewidth": 0,
              "ticks": ""
             }
            },
            "type": "scattergl"
           }
          ],
          "scattermapbox": [
           {
            "marker": {
             "colorbar": {
              "outlinewidth": 0,
              "ticks": ""
             }
            },
            "type": "scattermapbox"
           }
          ],
          "scatterpolar": [
           {
            "marker": {
             "colorbar": {
              "outlinewidth": 0,
              "ticks": ""
             }
            },
            "type": "scatterpolar"
           }
          ],
          "scatterpolargl": [
           {
            "marker": {
             "colorbar": {
              "outlinewidth": 0,
              "ticks": ""
             }
            },
            "type": "scatterpolargl"
           }
          ],
          "scatterternary": [
           {
            "marker": {
             "colorbar": {
              "outlinewidth": 0,
              "ticks": ""
             }
            },
            "type": "scatterternary"
           }
          ],
          "surface": [
           {
            "colorbar": {
             "outlinewidth": 0,
             "ticks": ""
            },
            "colorscale": [
             [
              0,
              "#0d0887"
             ],
             [
              0.1111111111111111,
              "#46039f"
             ],
             [
              0.2222222222222222,
              "#7201a8"
             ],
             [
              0.3333333333333333,
              "#9c179e"
             ],
             [
              0.4444444444444444,
              "#bd3786"
             ],
             [
              0.5555555555555556,
              "#d8576b"
             ],
             [
              0.6666666666666666,
              "#ed7953"
             ],
             [
              0.7777777777777778,
              "#fb9f3a"
             ],
             [
              0.8888888888888888,
              "#fdca26"
             ],
             [
              1,
              "#f0f921"
             ]
            ],
            "type": "surface"
           }
          ],
          "table": [
           {
            "cells": {
             "fill": {
              "color": "#EBF0F8"
             },
             "line": {
              "color": "white"
             }
            },
            "header": {
             "fill": {
              "color": "#C8D4E3"
             },
             "line": {
              "color": "white"
             }
            },
            "type": "table"
           }
          ]
         },
         "layout": {
          "annotationdefaults": {
           "arrowcolor": "#2a3f5f",
           "arrowhead": 0,
           "arrowwidth": 1
          },
          "autotypenumbers": "strict",
          "coloraxis": {
           "colorbar": {
            "outlinewidth": 0,
            "ticks": ""
           }
          },
          "colorscale": {
           "diverging": [
            [
             0,
             "#8e0152"
            ],
            [
             0.1,
             "#c51b7d"
            ],
            [
             0.2,
             "#de77ae"
            ],
            [
             0.3,
             "#f1b6da"
            ],
            [
             0.4,
             "#fde0ef"
            ],
            [
             0.5,
             "#f7f7f7"
            ],
            [
             0.6,
             "#e6f5d0"
            ],
            [
             0.7,
             "#b8e186"
            ],
            [
             0.8,
             "#7fbc41"
            ],
            [
             0.9,
             "#4d9221"
            ],
            [
             1,
             "#276419"
            ]
           ],
           "sequential": [
            [
             0,
             "#0d0887"
            ],
            [
             0.1111111111111111,
             "#46039f"
            ],
            [
             0.2222222222222222,
             "#7201a8"
            ],
            [
             0.3333333333333333,
             "#9c179e"
            ],
            [
             0.4444444444444444,
             "#bd3786"
            ],
            [
             0.5555555555555556,
             "#d8576b"
            ],
            [
             0.6666666666666666,
             "#ed7953"
            ],
            [
             0.7777777777777778,
             "#fb9f3a"
            ],
            [
             0.8888888888888888,
             "#fdca26"
            ],
            [
             1,
             "#f0f921"
            ]
           ],
           "sequentialminus": [
            [
             0,
             "#0d0887"
            ],
            [
             0.1111111111111111,
             "#46039f"
            ],
            [
             0.2222222222222222,
             "#7201a8"
            ],
            [
             0.3333333333333333,
             "#9c179e"
            ],
            [
             0.4444444444444444,
             "#bd3786"
            ],
            [
             0.5555555555555556,
             "#d8576b"
            ],
            [
             0.6666666666666666,
             "#ed7953"
            ],
            [
             0.7777777777777778,
             "#fb9f3a"
            ],
            [
             0.8888888888888888,
             "#fdca26"
            ],
            [
             1,
             "#f0f921"
            ]
           ]
          },
          "colorway": [
           "#636efa",
           "#EF553B",
           "#00cc96",
           "#ab63fa",
           "#FFA15A",
           "#19d3f3",
           "#FF6692",
           "#B6E880",
           "#FF97FF",
           "#FECB52"
          ],
          "font": {
           "color": "#2a3f5f"
          },
          "geo": {
           "bgcolor": "white",
           "lakecolor": "white",
           "landcolor": "#E5ECF6",
           "showlakes": true,
           "showland": true,
           "subunitcolor": "white"
          },
          "hoverlabel": {
           "align": "left"
          },
          "hovermode": "closest",
          "mapbox": {
           "style": "light"
          },
          "paper_bgcolor": "white",
          "plot_bgcolor": "#E5ECF6",
          "polar": {
           "angularaxis": {
            "gridcolor": "white",
            "linecolor": "white",
            "ticks": ""
           },
           "bgcolor": "#E5ECF6",
           "radialaxis": {
            "gridcolor": "white",
            "linecolor": "white",
            "ticks": ""
           }
          },
          "scene": {
           "xaxis": {
            "backgroundcolor": "#E5ECF6",
            "gridcolor": "white",
            "gridwidth": 2,
            "linecolor": "white",
            "showbackground": true,
            "ticks": "",
            "zerolinecolor": "white"
           },
           "yaxis": {
            "backgroundcolor": "#E5ECF6",
            "gridcolor": "white",
            "gridwidth": 2,
            "linecolor": "white",
            "showbackground": true,
            "ticks": "",
            "zerolinecolor": "white"
           },
           "zaxis": {
            "backgroundcolor": "#E5ECF6",
            "gridcolor": "white",
            "gridwidth": 2,
            "linecolor": "white",
            "showbackground": true,
            "ticks": "",
            "zerolinecolor": "white"
           }
          },
          "shapedefaults": {
           "line": {
            "color": "#2a3f5f"
           }
          },
          "ternary": {
           "aaxis": {
            "gridcolor": "white",
            "linecolor": "white",
            "ticks": ""
           },
           "baxis": {
            "gridcolor": "white",
            "linecolor": "white",
            "ticks": ""
           },
           "bgcolor": "#E5ECF6",
           "caxis": {
            "gridcolor": "white",
            "linecolor": "white",
            "ticks": ""
           }
          },
          "title": {
           "x": 0.05
          },
          "xaxis": {
           "automargin": true,
           "gridcolor": "white",
           "linecolor": "white",
           "ticks": "",
           "title": {
            "standoff": 15
           },
           "zerolinecolor": "white",
           "zerolinewidth": 2
          },
          "yaxis": {
           "automargin": true,
           "gridcolor": "white",
           "linecolor": "white",
           "ticks": "",
           "title": {
            "standoff": 15
           },
           "zerolinecolor": "white",
           "zerolinewidth": 2
          }
         }
        },
        "title": {
         "text": "Distribution of accidents by sector in 2020"
        },
        "xaxis": {
         "title": {
          "text": "Sectors code"
         }
        },
        "yaxis": {
         "title": {
          "text": "Count"
         }
        }
       }
      }
     },
     "metadata": {},
     "output_type": "display_data"
    }
   ],
   "source": [
    "import plotly.graph_objects as go\n",
    "\n",
    "# Group dataset by 'sectors_code' and sum the accidents for each sector\n",
    "accidents_by_sector = dataset_2020.groupby('sectors_code')[accident_columns].sum()\n",
    "\n",
    "# Plot grouped bar chart for accidents by sector\n",
    "fig = go.Figure()\n",
    "\n",
    "for col in accident_columns:\n",
    "    fig.add_trace(go.Bar(x=accidents_by_sector.index, y=accidents_by_sector[col], name=col))\n",
    "\n",
    "fig.update_layout(title='Distribution of accidents by sector in 2020',\n",
    "                  xaxis_title='Sectors code',\n",
    "                  yaxis_title='Count',\n",
    "                  barmode='group')\n",
    "\n",
    "fig.show()"
   ]
  },
  {
   "cell_type": "code",
   "execution_count": 55,
   "metadata": {},
   "outputs": [
    {
     "data": {
      "application/vnd.plotly.v1+json": {
       "config": {
        "plotlyServerURL": "https://plot.ly"
       },
       "data": [
        {
         "name": "total_deaths",
         "type": "bar",
         "x": [
          "111",
          "112",
          "113",
          "114",
          "115",
          "211",
          "212",
          "213",
          "221",
          "236",
          "237",
          "238",
          "311",
          "312",
          "313",
          "314",
          "315",
          "316",
          "321",
          "322",
          "323",
          "324",
          "325",
          "326",
          "327",
          "331",
          "332",
          "333",
          "334",
          "335",
          "336",
          "337",
          "339",
          "423",
          "424",
          "425",
          "441",
          "444",
          "445",
          "481",
          "482",
          "483",
          "484",
          "485",
          "486",
          "487",
          "488",
          "491",
          "492",
          "493",
          "512",
          "517",
          "518",
          "519",
          "521",
          "522",
          "523",
          "524",
          "525",
          "531",
          "532",
          "533",
          "541",
          "551",
          "561",
          "562",
          "611",
          "621",
          "622",
          "623",
          "624",
          "711",
          "712",
          "713",
          "721",
          "722",
          "811",
          "812",
          "813",
          "814",
          "921",
          "922",
          "923",
          "924",
          "925",
          "926",
          "927",
          "928"
         ],
         "y": [
          18,
          2,
          1,
          1,
          14,
          0,
          1,
          4,
          14,
          20,
          71,
          65,
          121,
          8,
          1,
          2,
          1,
          0,
          17,
          4,
          9,
          3,
          9,
          9,
          13,
          10,
          20,
          15,
          4,
          3,
          9,
          10,
          1,
          27,
          26,
          3,
          5,
          3,
          29,
          3,
          0,
          0,
          77,
          4,
          2,
          0,
          10,
          32,
          27,
          16,
          0,
          0,
          0,
          0,
          0,
          1,
          0,
          0,
          0,
          11,
          7,
          0,
          10,
          5,
          24,
          15,
          6,
          19,
          211,
          275,
          9,
          0,
          1,
          3,
          12,
          0,
          3,
          0,
          0,
          0,
          22,
          46,
          1,
          1,
          1,
          2,
          0,
          2
         ]
        },
        {
         "name": "total_dafw_cases",
         "type": "bar",
         "x": [
          "111",
          "112",
          "113",
          "114",
          "115",
          "211",
          "212",
          "213",
          "221",
          "236",
          "237",
          "238",
          "311",
          "312",
          "313",
          "314",
          "315",
          "316",
          "321",
          "322",
          "323",
          "324",
          "325",
          "326",
          "327",
          "331",
          "332",
          "333",
          "334",
          "335",
          "336",
          "337",
          "339",
          "423",
          "424",
          "425",
          "441",
          "444",
          "445",
          "481",
          "482",
          "483",
          "484",
          "485",
          "486",
          "487",
          "488",
          "491",
          "492",
          "493",
          "512",
          "517",
          "518",
          "519",
          "521",
          "522",
          "523",
          "524",
          "525",
          "531",
          "532",
          "533",
          "541",
          "551",
          "561",
          "562",
          "611",
          "621",
          "622",
          "623",
          "624",
          "711",
          "712",
          "713",
          "721",
          "722",
          "811",
          "812",
          "813",
          "814",
          "921",
          "922",
          "923",
          "924",
          "925",
          "926",
          "927",
          "928"
         ],
         "y": [
          2360,
          1711,
          142,
          85,
          3143,
          77,
          72,
          187,
          3930,
          3769,
          5646,
          12614,
          29163,
          1677,
          627,
          323,
          194,
          215,
          3872,
          1754,
          1345,
          475,
          4203,
          4764,
          2733,
          2928,
          7433,
          5584,
          2046,
          1630,
          11201,
          2181,
          1853,
          7356,
          11932,
          497,
          2670,
          7186,
          30828,
          5909,
          0,
          181,
          14875,
          3240,
          15,
          19,
          3854,
          18836,
          19634,
          23135,
          74,
          363,
          10,
          20,
          0,
          128,
          1,
          149,
          31,
          1718,
          993,
          1,
          1332,
          789,
          8095,
          2752,
          3261,
          16746,
          115621,
          120771,
          3535,
          520,
          423,
          1199,
          5389,
          1253,
          1294,
          790,
          239,
          1,
          8302,
          17558,
          1046,
          488,
          26,
          481,
          0,
          723
         ]
        },
        {
         "name": "total_djtr_cases",
         "type": "bar",
         "x": [
          "111",
          "112",
          "113",
          "114",
          "115",
          "211",
          "212",
          "213",
          "221",
          "236",
          "237",
          "238",
          "311",
          "312",
          "313",
          "314",
          "315",
          "316",
          "321",
          "322",
          "323",
          "324",
          "325",
          "326",
          "327",
          "331",
          "332",
          "333",
          "334",
          "335",
          "336",
          "337",
          "339",
          "423",
          "424",
          "425",
          "441",
          "444",
          "445",
          "481",
          "482",
          "483",
          "484",
          "485",
          "486",
          "487",
          "488",
          "491",
          "492",
          "493",
          "512",
          "517",
          "518",
          "519",
          "521",
          "522",
          "523",
          "524",
          "525",
          "531",
          "532",
          "533",
          "541",
          "551",
          "561",
          "562",
          "611",
          "621",
          "622",
          "623",
          "624",
          "711",
          "712",
          "713",
          "721",
          "722",
          "811",
          "812",
          "813",
          "814",
          "921",
          "922",
          "923",
          "924",
          "925",
          "926",
          "927",
          "928"
         ],
         "y": [
          1915,
          1149,
          27,
          9,
          2105,
          35,
          78,
          155,
          2774,
          3418,
          4220,
          10026,
          17513,
          2245,
          611,
          421,
          222,
          135,
          4082,
          1477,
          1072,
          297,
          3316,
          5024,
          3071,
          2996,
          7540,
          5083,
          1472,
          1882,
          13398,
          2443,
          1826,
          6671,
          11129,
          160,
          1882,
          7741,
          19562,
          1797,
          0,
          18,
          5886,
          1184,
          22,
          5,
          2238,
          9498,
          18635,
          26004,
          32,
          145,
          21,
          33,
          0,
          17,
          0,
          31,
          49,
          663,
          688,
          0,
          729,
          492,
          5466,
          2699,
          1997,
          3668,
          29326,
          21667,
          1743,
          790,
          284,
          1124,
          3936,
          719,
          1098,
          847,
          125,
          1,
          3367,
          3199,
          203,
          357,
          25,
          231,
          0,
          39
         ]
        },
        {
         "name": "total_other_cases",
         "type": "bar",
         "x": [
          "111",
          "112",
          "113",
          "114",
          "115",
          "211",
          "212",
          "213",
          "221",
          "236",
          "237",
          "238",
          "311",
          "312",
          "313",
          "314",
          "315",
          "316",
          "321",
          "322",
          "323",
          "324",
          "325",
          "326",
          "327",
          "331",
          "332",
          "333",
          "334",
          "335",
          "336",
          "337",
          "339",
          "423",
          "424",
          "425",
          "441",
          "444",
          "445",
          "481",
          "482",
          "483",
          "484",
          "485",
          "486",
          "487",
          "488",
          "491",
          "492",
          "493",
          "512",
          "517",
          "518",
          "519",
          "521",
          "522",
          "523",
          "524",
          "525",
          "531",
          "532",
          "533",
          "541",
          "551",
          "561",
          "562",
          "611",
          "621",
          "622",
          "623",
          "624",
          "711",
          "712",
          "713",
          "721",
          "722",
          "811",
          "812",
          "813",
          "814",
          "921",
          "922",
          "923",
          "924",
          "925",
          "926",
          "927",
          "928"
         ],
         "y": [
          2380,
          1083,
          129,
          24,
          2203,
          61,
          105,
          212,
          4100,
          4330,
          6922,
          12639,
          11501,
          1240,
          603,
          550,
          246,
          129,
          4647,
          1557,
          1364,
          332,
          3536,
          4876,
          2545,
          3685,
          10284,
          6799,
          2070,
          2011,
          13290,
          2397,
          2172,
          5928,
          5662,
          232,
          2715,
          4738,
          17791,
          2001,
          0,
          69,
          7108,
          1583,
          24,
          6,
          2747,
          2687,
          10673,
          7959,
          141,
          228,
          18,
          27,
          2,
          112,
          0,
          160,
          41,
          1100,
          1057,
          2,
          1909,
          695,
          6254,
          2150,
          4968,
          12332,
          93785,
          29189,
          3332,
          1057,
          531,
          1410,
          6183,
          1625,
          1595,
          939,
          521,
          0,
          7848,
          10252,
          708,
          701,
          47,
          521,
          4,
          81
         ]
        }
       ],
       "layout": {
        "barmode": "group",
        "template": {
         "data": {
          "bar": [
           {
            "error_x": {
             "color": "#2a3f5f"
            },
            "error_y": {
             "color": "#2a3f5f"
            },
            "marker": {
             "line": {
              "color": "#E5ECF6",
              "width": 0.5
             },
             "pattern": {
              "fillmode": "overlay",
              "size": 10,
              "solidity": 0.2
             }
            },
            "type": "bar"
           }
          ],
          "barpolar": [
           {
            "marker": {
             "line": {
              "color": "#E5ECF6",
              "width": 0.5
             },
             "pattern": {
              "fillmode": "overlay",
              "size": 10,
              "solidity": 0.2
             }
            },
            "type": "barpolar"
           }
          ],
          "carpet": [
           {
            "aaxis": {
             "endlinecolor": "#2a3f5f",
             "gridcolor": "white",
             "linecolor": "white",
             "minorgridcolor": "white",
             "startlinecolor": "#2a3f5f"
            },
            "baxis": {
             "endlinecolor": "#2a3f5f",
             "gridcolor": "white",
             "linecolor": "white",
             "minorgridcolor": "white",
             "startlinecolor": "#2a3f5f"
            },
            "type": "carpet"
           }
          ],
          "choropleth": [
           {
            "colorbar": {
             "outlinewidth": 0,
             "ticks": ""
            },
            "type": "choropleth"
           }
          ],
          "contour": [
           {
            "colorbar": {
             "outlinewidth": 0,
             "ticks": ""
            },
            "colorscale": [
             [
              0,
              "#0d0887"
             ],
             [
              0.1111111111111111,
              "#46039f"
             ],
             [
              0.2222222222222222,
              "#7201a8"
             ],
             [
              0.3333333333333333,
              "#9c179e"
             ],
             [
              0.4444444444444444,
              "#bd3786"
             ],
             [
              0.5555555555555556,
              "#d8576b"
             ],
             [
              0.6666666666666666,
              "#ed7953"
             ],
             [
              0.7777777777777778,
              "#fb9f3a"
             ],
             [
              0.8888888888888888,
              "#fdca26"
             ],
             [
              1,
              "#f0f921"
             ]
            ],
            "type": "contour"
           }
          ],
          "contourcarpet": [
           {
            "colorbar": {
             "outlinewidth": 0,
             "ticks": ""
            },
            "type": "contourcarpet"
           }
          ],
          "heatmap": [
           {
            "colorbar": {
             "outlinewidth": 0,
             "ticks": ""
            },
            "colorscale": [
             [
              0,
              "#0d0887"
             ],
             [
              0.1111111111111111,
              "#46039f"
             ],
             [
              0.2222222222222222,
              "#7201a8"
             ],
             [
              0.3333333333333333,
              "#9c179e"
             ],
             [
              0.4444444444444444,
              "#bd3786"
             ],
             [
              0.5555555555555556,
              "#d8576b"
             ],
             [
              0.6666666666666666,
              "#ed7953"
             ],
             [
              0.7777777777777778,
              "#fb9f3a"
             ],
             [
              0.8888888888888888,
              "#fdca26"
             ],
             [
              1,
              "#f0f921"
             ]
            ],
            "type": "heatmap"
           }
          ],
          "heatmapgl": [
           {
            "colorbar": {
             "outlinewidth": 0,
             "ticks": ""
            },
            "colorscale": [
             [
              0,
              "#0d0887"
             ],
             [
              0.1111111111111111,
              "#46039f"
             ],
             [
              0.2222222222222222,
              "#7201a8"
             ],
             [
              0.3333333333333333,
              "#9c179e"
             ],
             [
              0.4444444444444444,
              "#bd3786"
             ],
             [
              0.5555555555555556,
              "#d8576b"
             ],
             [
              0.6666666666666666,
              "#ed7953"
             ],
             [
              0.7777777777777778,
              "#fb9f3a"
             ],
             [
              0.8888888888888888,
              "#fdca26"
             ],
             [
              1,
              "#f0f921"
             ]
            ],
            "type": "heatmapgl"
           }
          ],
          "histogram": [
           {
            "marker": {
             "pattern": {
              "fillmode": "overlay",
              "size": 10,
              "solidity": 0.2
             }
            },
            "type": "histogram"
           }
          ],
          "histogram2d": [
           {
            "colorbar": {
             "outlinewidth": 0,
             "ticks": ""
            },
            "colorscale": [
             [
              0,
              "#0d0887"
             ],
             [
              0.1111111111111111,
              "#46039f"
             ],
             [
              0.2222222222222222,
              "#7201a8"
             ],
             [
              0.3333333333333333,
              "#9c179e"
             ],
             [
              0.4444444444444444,
              "#bd3786"
             ],
             [
              0.5555555555555556,
              "#d8576b"
             ],
             [
              0.6666666666666666,
              "#ed7953"
             ],
             [
              0.7777777777777778,
              "#fb9f3a"
             ],
             [
              0.8888888888888888,
              "#fdca26"
             ],
             [
              1,
              "#f0f921"
             ]
            ],
            "type": "histogram2d"
           }
          ],
          "histogram2dcontour": [
           {
            "colorbar": {
             "outlinewidth": 0,
             "ticks": ""
            },
            "colorscale": [
             [
              0,
              "#0d0887"
             ],
             [
              0.1111111111111111,
              "#46039f"
             ],
             [
              0.2222222222222222,
              "#7201a8"
             ],
             [
              0.3333333333333333,
              "#9c179e"
             ],
             [
              0.4444444444444444,
              "#bd3786"
             ],
             [
              0.5555555555555556,
              "#d8576b"
             ],
             [
              0.6666666666666666,
              "#ed7953"
             ],
             [
              0.7777777777777778,
              "#fb9f3a"
             ],
             [
              0.8888888888888888,
              "#fdca26"
             ],
             [
              1,
              "#f0f921"
             ]
            ],
            "type": "histogram2dcontour"
           }
          ],
          "mesh3d": [
           {
            "colorbar": {
             "outlinewidth": 0,
             "ticks": ""
            },
            "type": "mesh3d"
           }
          ],
          "parcoords": [
           {
            "line": {
             "colorbar": {
              "outlinewidth": 0,
              "ticks": ""
             }
            },
            "type": "parcoords"
           }
          ],
          "pie": [
           {
            "automargin": true,
            "type": "pie"
           }
          ],
          "scatter": [
           {
            "fillpattern": {
             "fillmode": "overlay",
             "size": 10,
             "solidity": 0.2
            },
            "type": "scatter"
           }
          ],
          "scatter3d": [
           {
            "line": {
             "colorbar": {
              "outlinewidth": 0,
              "ticks": ""
             }
            },
            "marker": {
             "colorbar": {
              "outlinewidth": 0,
              "ticks": ""
             }
            },
            "type": "scatter3d"
           }
          ],
          "scattercarpet": [
           {
            "marker": {
             "colorbar": {
              "outlinewidth": 0,
              "ticks": ""
             }
            },
            "type": "scattercarpet"
           }
          ],
          "scattergeo": [
           {
            "marker": {
             "colorbar": {
              "outlinewidth": 0,
              "ticks": ""
             }
            },
            "type": "scattergeo"
           }
          ],
          "scattergl": [
           {
            "marker": {
             "colorbar": {
              "outlinewidth": 0,
              "ticks": ""
             }
            },
            "type": "scattergl"
           }
          ],
          "scattermapbox": [
           {
            "marker": {
             "colorbar": {
              "outlinewidth": 0,
              "ticks": ""
             }
            },
            "type": "scattermapbox"
           }
          ],
          "scatterpolar": [
           {
            "marker": {
             "colorbar": {
              "outlinewidth": 0,
              "ticks": ""
             }
            },
            "type": "scatterpolar"
           }
          ],
          "scatterpolargl": [
           {
            "marker": {
             "colorbar": {
              "outlinewidth": 0,
              "ticks": ""
             }
            },
            "type": "scatterpolargl"
           }
          ],
          "scatterternary": [
           {
            "marker": {
             "colorbar": {
              "outlinewidth": 0,
              "ticks": ""
             }
            },
            "type": "scatterternary"
           }
          ],
          "surface": [
           {
            "colorbar": {
             "outlinewidth": 0,
             "ticks": ""
            },
            "colorscale": [
             [
              0,
              "#0d0887"
             ],
             [
              0.1111111111111111,
              "#46039f"
             ],
             [
              0.2222222222222222,
              "#7201a8"
             ],
             [
              0.3333333333333333,
              "#9c179e"
             ],
             [
              0.4444444444444444,
              "#bd3786"
             ],
             [
              0.5555555555555556,
              "#d8576b"
             ],
             [
              0.6666666666666666,
              "#ed7953"
             ],
             [
              0.7777777777777778,
              "#fb9f3a"
             ],
             [
              0.8888888888888888,
              "#fdca26"
             ],
             [
              1,
              "#f0f921"
             ]
            ],
            "type": "surface"
           }
          ],
          "table": [
           {
            "cells": {
             "fill": {
              "color": "#EBF0F8"
             },
             "line": {
              "color": "white"
             }
            },
            "header": {
             "fill": {
              "color": "#C8D4E3"
             },
             "line": {
              "color": "white"
             }
            },
            "type": "table"
           }
          ]
         },
         "layout": {
          "annotationdefaults": {
           "arrowcolor": "#2a3f5f",
           "arrowhead": 0,
           "arrowwidth": 1
          },
          "autotypenumbers": "strict",
          "coloraxis": {
           "colorbar": {
            "outlinewidth": 0,
            "ticks": ""
           }
          },
          "colorscale": {
           "diverging": [
            [
             0,
             "#8e0152"
            ],
            [
             0.1,
             "#c51b7d"
            ],
            [
             0.2,
             "#de77ae"
            ],
            [
             0.3,
             "#f1b6da"
            ],
            [
             0.4,
             "#fde0ef"
            ],
            [
             0.5,
             "#f7f7f7"
            ],
            [
             0.6,
             "#e6f5d0"
            ],
            [
             0.7,
             "#b8e186"
            ],
            [
             0.8,
             "#7fbc41"
            ],
            [
             0.9,
             "#4d9221"
            ],
            [
             1,
             "#276419"
            ]
           ],
           "sequential": [
            [
             0,
             "#0d0887"
            ],
            [
             0.1111111111111111,
             "#46039f"
            ],
            [
             0.2222222222222222,
             "#7201a8"
            ],
            [
             0.3333333333333333,
             "#9c179e"
            ],
            [
             0.4444444444444444,
             "#bd3786"
            ],
            [
             0.5555555555555556,
             "#d8576b"
            ],
            [
             0.6666666666666666,
             "#ed7953"
            ],
            [
             0.7777777777777778,
             "#fb9f3a"
            ],
            [
             0.8888888888888888,
             "#fdca26"
            ],
            [
             1,
             "#f0f921"
            ]
           ],
           "sequentialminus": [
            [
             0,
             "#0d0887"
            ],
            [
             0.1111111111111111,
             "#46039f"
            ],
            [
             0.2222222222222222,
             "#7201a8"
            ],
            [
             0.3333333333333333,
             "#9c179e"
            ],
            [
             0.4444444444444444,
             "#bd3786"
            ],
            [
             0.5555555555555556,
             "#d8576b"
            ],
            [
             0.6666666666666666,
             "#ed7953"
            ],
            [
             0.7777777777777778,
             "#fb9f3a"
            ],
            [
             0.8888888888888888,
             "#fdca26"
            ],
            [
             1,
             "#f0f921"
            ]
           ]
          },
          "colorway": [
           "#636efa",
           "#EF553B",
           "#00cc96",
           "#ab63fa",
           "#FFA15A",
           "#19d3f3",
           "#FF6692",
           "#B6E880",
           "#FF97FF",
           "#FECB52"
          ],
          "font": {
           "color": "#2a3f5f"
          },
          "geo": {
           "bgcolor": "white",
           "lakecolor": "white",
           "landcolor": "#E5ECF6",
           "showlakes": true,
           "showland": true,
           "subunitcolor": "white"
          },
          "hoverlabel": {
           "align": "left"
          },
          "hovermode": "closest",
          "mapbox": {
           "style": "light"
          },
          "paper_bgcolor": "white",
          "plot_bgcolor": "#E5ECF6",
          "polar": {
           "angularaxis": {
            "gridcolor": "white",
            "linecolor": "white",
            "ticks": ""
           },
           "bgcolor": "#E5ECF6",
           "radialaxis": {
            "gridcolor": "white",
            "linecolor": "white",
            "ticks": ""
           }
          },
          "scene": {
           "xaxis": {
            "backgroundcolor": "#E5ECF6",
            "gridcolor": "white",
            "gridwidth": 2,
            "linecolor": "white",
            "showbackground": true,
            "ticks": "",
            "zerolinecolor": "white"
           },
           "yaxis": {
            "backgroundcolor": "#E5ECF6",
            "gridcolor": "white",
            "gridwidth": 2,
            "linecolor": "white",
            "showbackground": true,
            "ticks": "",
            "zerolinecolor": "white"
           },
           "zaxis": {
            "backgroundcolor": "#E5ECF6",
            "gridcolor": "white",
            "gridwidth": 2,
            "linecolor": "white",
            "showbackground": true,
            "ticks": "",
            "zerolinecolor": "white"
           }
          },
          "shapedefaults": {
           "line": {
            "color": "#2a3f5f"
           }
          },
          "ternary": {
           "aaxis": {
            "gridcolor": "white",
            "linecolor": "white",
            "ticks": ""
           },
           "baxis": {
            "gridcolor": "white",
            "linecolor": "white",
            "ticks": ""
           },
           "bgcolor": "#E5ECF6",
           "caxis": {
            "gridcolor": "white",
            "linecolor": "white",
            "ticks": ""
           }
          },
          "title": {
           "x": 0.05
          },
          "xaxis": {
           "automargin": true,
           "gridcolor": "white",
           "linecolor": "white",
           "ticks": "",
           "title": {
            "standoff": 15
           },
           "zerolinecolor": "white",
           "zerolinewidth": 2
          },
          "yaxis": {
           "automargin": true,
           "gridcolor": "white",
           "linecolor": "white",
           "ticks": "",
           "title": {
            "standoff": 15
           },
           "zerolinecolor": "white",
           "zerolinewidth": 2
          }
         }
        },
        "title": {
         "text": "Distribution of accidents by subsector in 2020"
        },
        "xaxis": {
         "title": {
          "text": "Subsectors code"
         }
        },
        "yaxis": {
         "title": {
          "text": "Count"
         }
        }
       }
      }
     },
     "metadata": {},
     "output_type": "display_data"
    }
   ],
   "source": [
    "# Group dataset by 'subsectors_code' and sum the accidents for each subsector\n",
    "accidents_by_sector = dataset_2020.groupby('subsectors_code')[accident_columns].sum()\n",
    "\n",
    "# Plot grouped bar chart for accidents by sector\n",
    "fig = go.Figure()\n",
    "\n",
    "for col in accident_columns:\n",
    "    fig.add_trace(go.Bar(x=accidents_by_sector.index, y=accidents_by_sector[col], name=col))\n",
    "\n",
    "fig.update_layout(title='Distribution of accidents by subsector in 2020',\n",
    "                  xaxis_title='Subsectors code',\n",
    "                  yaxis_title='Count',\n",
    "                  barmode='group')\n",
    "\n",
    "fig.show()"
   ]
  },
  {
   "cell_type": "code",
   "execution_count": 56,
   "metadata": {},
   "outputs": [
    {
     "data": {
      "text/plain": [
       "Index(['establishment_name', 'city', 'state', 'establishment_type',\n",
       "       'created_timestamp', 'naics_code', 'industry_description',\n",
       "       'annual_average_employees', 'total_hours_worked', 'total_deaths',\n",
       "       'total_dafw_cases', 'total_djtr_cases', 'total_other_cases',\n",
       "       'total_injuries', 'lat', 'lon', 'total_cases', 'is_correct',\n",
       "       'sectors_code', 'subsectors_code'],\n",
       "      dtype='object')"
      ]
     },
     "execution_count": 56,
     "metadata": {},
     "output_type": "execute_result"
    }
   ],
   "source": [
    "dataset_2020.columns"
   ]
  },
  {
   "cell_type": "code",
   "execution_count": 57,
   "metadata": {},
   "outputs": [
    {
     "data": {
      "text/plain": [
       "(242529, 20)"
      ]
     },
     "execution_count": 57,
     "metadata": {},
     "output_type": "execute_result"
    }
   ],
   "source": [
    "dataset_2020.shape"
   ]
  },
  {
   "cell_type": "markdown",
   "metadata": {},
   "source": [
    "## Taking a sample of our dataset "
   ]
  },
  {
   "cell_type": "code",
   "execution_count": 58,
   "metadata": {},
   "outputs": [],
   "source": [
    "\n",
    "dataset_2020=dataset_2020.sample(n=10000, random_state=42)"
   ]
  },
  {
   "cell_type": "markdown",
   "metadata": {},
   "source": [
    "# PREPROCESSING "
   ]
  },
  {
   "cell_type": "markdown",
   "metadata": {},
   "source": [
    "### Preprocessing with sklearn"
   ]
  },
  {
   "cell_type": "code",
   "execution_count": 59,
   "metadata": {},
   "outputs": [
    {
     "name": "stdout",
     "output_type": "stream",
     "text": [
      "Separating labels from features...\n",
      "Done...\n"
     ]
    },
    {
     "data": {
      "text/html": [
       "<div>\n",
       "<style scoped>\n",
       "    .dataframe tbody tr th:only-of-type {\n",
       "        vertical-align: middle;\n",
       "    }\n",
       "\n",
       "    .dataframe tbody tr th {\n",
       "        vertical-align: top;\n",
       "    }\n",
       "\n",
       "    .dataframe thead th {\n",
       "        text-align: right;\n",
       "    }\n",
       "</style>\n",
       "<table border=\"1\" class=\"dataframe\">\n",
       "  <thead>\n",
       "    <tr style=\"text-align: right;\">\n",
       "      <th></th>\n",
       "      <th>subsectors_code</th>\n",
       "      <th>total_deaths</th>\n",
       "      <th>total_djtr_cases</th>\n",
       "      <th>total_other_cases</th>\n",
       "    </tr>\n",
       "  </thead>\n",
       "  <tbody>\n",
       "    <tr>\n",
       "      <th>175652</th>\n",
       "      <td>484</td>\n",
       "      <td>0</td>\n",
       "      <td>0</td>\n",
       "      <td>1</td>\n",
       "    </tr>\n",
       "    <tr>\n",
       "      <th>111906</th>\n",
       "      <td>561</td>\n",
       "      <td>0</td>\n",
       "      <td>0</td>\n",
       "      <td>0</td>\n",
       "    </tr>\n",
       "    <tr>\n",
       "      <th>38257</th>\n",
       "      <td>445</td>\n",
       "      <td>0</td>\n",
       "      <td>0</td>\n",
       "      <td>0</td>\n",
       "    </tr>\n",
       "    <tr>\n",
       "      <th>224239</th>\n",
       "      <td>325</td>\n",
       "      <td>0</td>\n",
       "      <td>0</td>\n",
       "      <td>0</td>\n",
       "    </tr>\n",
       "    <tr>\n",
       "      <th>50929</th>\n",
       "      <td>811</td>\n",
       "      <td>0</td>\n",
       "      <td>0</td>\n",
       "      <td>0</td>\n",
       "    </tr>\n",
       "  </tbody>\n",
       "</table>\n",
       "</div>"
      ],
      "text/plain": [
       "       subsectors_code  total_deaths  total_djtr_cases  total_other_cases\n",
       "175652             484             0                 0                  1\n",
       "111906             561             0                 0                  0\n",
       "38257              445             0                 0                  0\n",
       "224239             325             0                 0                  0\n",
       "50929              811             0                 0                  0"
      ]
     },
     "metadata": {},
     "output_type": "display_data"
    },
    {
     "data": {
      "text/plain": [
       "175652    5\n",
       "111906    0\n",
       "38257     1\n",
       "224239    0\n",
       "50929     2\n",
       "Name: total_dafw_cases, dtype: int64"
      ]
     },
     "metadata": {},
     "output_type": "display_data"
    }
   ],
   "source": [
    "# Separating target from features :\n",
    "\n",
    "features='subsectors_code','total_deaths', 'total_djtr_cases', 'total_other_cases' \n",
    "\n",
    "target = 'total_dafw_cases'\n",
    "\n",
    "print(\"Separating labels from features...\")\n",
    "X=dataset_2020.loc[:,features]\n",
    "Y=dataset_2020.loc[:,target]\n",
    "\n",
    "\n",
    "print(\"Done...\")\n",
    "display(X.head())\n",
    "display(Y.head())\n"
   ]
  },
  {
   "cell_type": "code",
   "execution_count": 60,
   "metadata": {},
   "outputs": [
    {
     "name": "stdout",
     "output_type": "stream",
     "text": [
      "Dividing into train and test sets...\n",
      "...Done.\n"
     ]
    }
   ],
   "source": [
    "# Dividing into train and test sets :\n",
    "\n",
    "print(\"Dividing into train and test sets...\")\n",
    "X_train, X_test, Y_train, Y_test = train_test_split(X, Y, test_size=0.2, random_state=0)\n",
    "print(\"...Done.\")"
   ]
  },
  {
   "cell_type": "code",
   "execution_count": 61,
   "metadata": {},
   "outputs": [],
   "source": [
    "# Encoding categorical features and standardizing numeric features :\n",
    "\n",
    "numeric_features =['total_deaths', 'total_djtr_cases', 'total_other_cases']\n",
    "numeric_transformer = Pipeline(\n",
    "    steps=[\n",
    "        (\"scaler\", StandardScaler()),\n",
    "    ]\n",
    ")\n",
    "\n",
    "categorical_features= ['subsectors_code']\n",
    "categorical_transformer= Pipeline(\n",
    "    steps = [\n",
    "        (\"encoder\", OneHotEncoder(drop=\"first\", handle_unknown='ignore'))\n",
    "    ]\n",
    ")\n",
    "\n",
    "preprocessor= ColumnTransformer(\n",
    "    transformers=[\n",
    "        (\"num\", numeric_transformer, numeric_features),\n",
    "        (\"cat\", categorical_transformer, categorical_features)\n",
    "    ]\n",
    ")"
   ]
  },
  {
   "cell_type": "code",
   "execution_count": 62,
   "metadata": {},
   "outputs": [
    {
     "name": "stdout",
     "output_type": "stream",
     "text": [
      "Performing preprocessing on train set...\n",
      "       subsectors_code  total_deaths  total_djtr_cases  total_other_cases\n",
      "92551              332             0                 0                  6\n",
      "73848              238             0                 0                  0\n",
      "258574             423             0                 0                  0\n",
      "147957             493             0                 0                  1\n",
      "250761             238             0                 1                  0\n",
      "Done...\n",
      "  (0, 0)\t-0.057101636929734155\n",
      "  (0, 1)\t-0.2389429099120746\n",
      "  (0, 2)\t0.7748217444817288\n",
      "  (0, 28)\t1.0\n",
      "  (1, 0)\t-0.057101636929734155\n",
      "  (1, 1)\t-0.2389429099120746\n",
      "  (1, 2)\t-0.23674991779110435\n",
      "  (1, 13)\t1.0\n",
      "  (2, 0)\t-0.057101636929734155\n",
      "  (2, 1)\t-0.2389429099120746\n",
      "  (2, 2)\t-0.23674991779110435\n",
      "  (2, 35)\t1.0\n",
      "  (3, 0)\t-0.057101636929734155\n",
      "  (3, 1)\t-0.2389429099120746\n",
      "  (3, 2)\t-0.06815464074563214\n",
      "  (3, 49)\t1.0\n",
      "  (4, 0)\t-0.057101636929734155\n",
      "  (4, 1)\t-0.024716385279485022\n",
      "  (4, 2)\t-0.23674991779110435\n",
      "  (4, 13)\t1.0\n",
      "Performing preprocessing on test set...\n",
      "       subsectors_code  total_deaths  total_djtr_cases  total_other_cases\n",
      "158307             321             0                 0                  0\n",
      "135566             721             0                 0                  0\n",
      "15693              623             0                 0                  0\n",
      "170456             519             0                 0                  0\n",
      "133191             237             0                 1                  2\n",
      "Done...\n",
      "  (0, 0)\t-0.057101636929734155\n",
      "  (0, 1)\t-0.2389429099120746\n",
      "  (0, 2)\t-0.23674991779110435\n",
      "  (0, 20)\t1.0\n",
      "  (1, 0)\t-0.057101636929734155\n",
      "  (1, 1)\t-0.2389429099120746\n",
      "  (1, 2)\t-0.23674991779110435\n",
      "  (1, 72)\t1.0\n",
      "  (2, 0)\t-0.057101636929734155\n",
      "  (2, 1)\t-0.2389429099120746\n",
      "  (2, 2)\t-0.23674991779110435\n",
      "  (2, 67)\t1.0\n",
      "  (3, 0)\t-0.057101636929734155\n",
      "  (3, 1)\t-0.2389429099120746\n",
      "  (3, 2)\t-0.23674991779110435\n",
      "  (3, 53)\t1.0\n",
      "  (4, 0)\t-0.057101636929734155\n",
      "  (4, 1)\t-0.024716385279485022\n",
      "  (4, 2)\t0.10044063629984007\n",
      "  (4, 12)\t1.0\n"
     ]
    },
    {
     "name": "stderr",
     "output_type": "stream",
     "text": [
      "c:\\Users\\yousr\\Anaconda3\\Lib\\site-packages\\sklearn\\preprocessing\\_encoders.py:202: UserWarning:\n",
      "\n",
      "Found unknown categories in columns [0] during transform. These unknown categories will be encoded as all zeros\n",
      "\n"
     ]
    }
   ],
   "source": [
    "# Applying the preprocessing on the train and test sets :\n",
    "\n",
    "print(\"Performing preprocessing on train set...\")\n",
    "print(X_train.head())\n",
    "X_train_preprocessed= preprocessor.fit_transform(X_train)\n",
    "print(\"Done...\")\n",
    "print(X_train_preprocessed[0:5,:])\n",
    "\n",
    "print(\"Performing preprocessing on test set...\")\n",
    "print(X_test.head())\n",
    "X_test_preprocessed=preprocessor.transform(X_test)\n",
    "print(\"Done...\")\n",
    "print(X_test_preprocessed[0:5,:])"
   ]
  },
  {
   "cell_type": "markdown",
   "metadata": {},
   "source": [
    "# MODEL TRAINING"
   ]
  },
  {
   "cell_type": "markdown",
   "metadata": {},
   "source": [
    "# First model : Linear regression "
   ]
  },
  {
   "cell_type": "code",
   "execution_count": 63,
   "metadata": {},
   "outputs": [
    {
     "name": "stdout",
     "output_type": "stream",
     "text": [
      "Training model...\n",
      "...Done.\n"
     ]
    }
   ],
   "source": [
    "# Train model\n",
    "\n",
    "model_1 = LinearRegression()\n",
    "\n",
    "print(\"Training model...\")\n",
    "model_1.fit(X_train_preprocessed, Y_train)\n",
    "print(\"...Done.\")"
   ]
  },
  {
   "cell_type": "markdown",
   "metadata": {},
   "source": [
    "### Predictions"
   ]
  },
  {
   "cell_type": "code",
   "execution_count": 64,
   "metadata": {},
   "outputs": [
    {
     "name": "stdout",
     "output_type": "stream",
     "text": [
      "Predictions on training set...\n",
      "...Done.\n",
      "[ 3.59245698 -0.01975627  0.04350956  1.04277078  0.40145526]\n"
     ]
    }
   ],
   "source": [
    "# Predictions on training set\n",
    "print(\"Predictions on training set...\")\n",
    "Y_train_pred = model_1.predict(X_train_preprocessed)\n",
    "print(\"...Done.\")\n",
    "print(Y_train_pred[0:5])\n"
   ]
  },
  {
   "cell_type": "code",
   "execution_count": 65,
   "metadata": {},
   "outputs": [
    {
     "name": "stdout",
     "output_type": "stream",
     "text": [
      "Predictions on testing set...\n",
      "...Done.\n",
      "[-0.19414799 -0.41260755  5.81893924  0.22310507  1.44828834]\n"
     ]
    }
   ],
   "source": [
    "# Predictions on testing set\n",
    "print(\"Predictions on testing set...\")\n",
    "Y_test_pred = model_1.predict(X_test_preprocessed)\n",
    "print(\"...Done.\")\n",
    "print(Y_test_pred[0:5])"
   ]
  },
  {
   "cell_type": "markdown",
   "metadata": {},
   "source": [
    "### Performances evaluation"
   ]
  },
  {
   "cell_type": "code",
   "execution_count": 66,
   "metadata": {},
   "outputs": [
    {
     "name": "stdout",
     "output_type": "stream",
     "text": [
      "R2 score on training set :  0.38010266538160165\n",
      "R2 score on test set :  0.44808265050097307\n"
     ]
    }
   ],
   "source": [
    "# Print scores\n",
    "print(\"R2 score on training set : \", r2_score(Y_train, Y_train_pred))\n",
    "print(\"R2 score on test set : \", r2_score(Y_test, Y_test_pred))"
   ]
  },
  {
   "cell_type": "markdown",
   "metadata": {},
   "source": [
    "# Second model : Decision Tree Regressor"
   ]
  },
  {
   "cell_type": "code",
   "execution_count": 67,
   "metadata": {},
   "outputs": [
    {
     "name": "stdout",
     "output_type": "stream",
     "text": [
      "Training model...\n"
     ]
    },
    {
     "name": "stdout",
     "output_type": "stream",
     "text": [
      "...Done.\n"
     ]
    }
   ],
   "source": [
    "# Train model\n",
    "\n",
    "model_2 = DecisionTreeRegressor()\n",
    "\n",
    "print(\"Training model...\")\n",
    "model_2.fit(X_train_preprocessed, Y_train)\n",
    "print(\"...Done.\")"
   ]
  },
  {
   "cell_type": "markdown",
   "metadata": {},
   "source": [
    "### Predictions"
   ]
  },
  {
   "cell_type": "code",
   "execution_count": 68,
   "metadata": {},
   "outputs": [
    {
     "name": "stdout",
     "output_type": "stream",
     "text": [
      "Predictions on training set...\n",
      "...Done.\n",
      "[3.5        0.43617021 0.24157303 1.88888889 1.03030303]\n"
     ]
    }
   ],
   "source": [
    "# Predictions on training set\n",
    "print(\"Predictions on training set...\")\n",
    "Y_train_pred = model_2.predict(X_train_preprocessed)\n",
    "print(\"...Done.\")\n",
    "print(Y_train_pred[0:5])\n"
   ]
  },
  {
   "cell_type": "code",
   "execution_count": 69,
   "metadata": {},
   "outputs": [
    {
     "name": "stdout",
     "output_type": "stream",
     "text": [
      "Predictions on testing set...\n",
      "...Done.\n",
      "[0.84210526 0.28571429 4.68159204 0.16666667 2.66666667]\n"
     ]
    }
   ],
   "source": [
    "# Predictions on testing set\n",
    "print(\"Predictions on testing set...\")\n",
    "Y_test_pred = model_2.predict(X_test_preprocessed)\n",
    "print(\"...Done.\")\n",
    "print(Y_test_pred[0:5])"
   ]
  },
  {
   "cell_type": "markdown",
   "metadata": {},
   "source": [
    "### Performances evaluation"
   ]
  },
  {
   "cell_type": "code",
   "execution_count": 70,
   "metadata": {},
   "outputs": [
    {
     "name": "stdout",
     "output_type": "stream",
     "text": [
      "R2 score on training set :  0.8399084891057936\n",
      "R2 score on test set :  0.3139594302823764\n"
     ]
    }
   ],
   "source": [
    "# Print scores\n",
    "print(\"R2 score on training set : \", r2_score(Y_train, Y_train_pred))\n",
    "print(\"R2 score on test set : \", r2_score(Y_test, Y_test_pred))"
   ]
  },
  {
   "cell_type": "markdown",
   "metadata": {},
   "source": [
    "# Third model : Random Forest regressor"
   ]
  },
  {
   "cell_type": "code",
   "execution_count": 71,
   "metadata": {},
   "outputs": [
    {
     "name": "stdout",
     "output_type": "stream",
     "text": [
      "Training model...\n"
     ]
    },
    {
     "name": "stdout",
     "output_type": "stream",
     "text": [
      "...Done.\n"
     ]
    }
   ],
   "source": [
    "# Train model\n",
    "\n",
    "model_3 = RandomForestRegressor()\n",
    "\n",
    "print(\"Training model...\")\n",
    "model_3.fit(X_train_preprocessed, Y_train)\n",
    "print(\"...Done.\")"
   ]
  },
  {
   "cell_type": "markdown",
   "metadata": {},
   "source": [
    "### Predictions"
   ]
  },
  {
   "cell_type": "code",
   "execution_count": 72,
   "metadata": {},
   "outputs": [
    {
     "name": "stdout",
     "output_type": "stream",
     "text": [
      "Predictions on training set...\n",
      "...Done.\n",
      "[3.17869048 0.44341742 0.23293097 1.98975563 1.05983285]\n"
     ]
    }
   ],
   "source": [
    "# Predictions on training set\n",
    "print(\"Predictions on training set...\")\n",
    "Y_train_pred = model_3.predict(X_train_preprocessed)\n",
    "print(\"...Done.\")\n",
    "print(Y_train_pred[0:5])\n"
   ]
  },
  {
   "cell_type": "code",
   "execution_count": 73,
   "metadata": {},
   "outputs": [
    {
     "name": "stdout",
     "output_type": "stream",
     "text": [
      "Predictions on testing set...\n",
      "...Done.\n",
      "[0.84880681 0.27948945 4.72423812 0.19694877 2.41471356]\n"
     ]
    }
   ],
   "source": [
    "# Predictions on testing set\n",
    "print(\"Predictions on testing set...\")\n",
    "Y_test_pred = model_3.predict(X_test_preprocessed)\n",
    "print(\"...Done.\")\n",
    "print(Y_test_pred[0:5])"
   ]
  },
  {
   "cell_type": "markdown",
   "metadata": {},
   "source": [
    "### Performances evaluation"
   ]
  },
  {
   "cell_type": "code",
   "execution_count": 74,
   "metadata": {},
   "outputs": [
    {
     "name": "stdout",
     "output_type": "stream",
     "text": [
      "R2 score on training set :  0.7507958349776938\n",
      "R2 score on test set :  0.3374832483721598\n"
     ]
    }
   ],
   "source": [
    "# Print scores\n",
    "print(\"R2 score on training set : \", r2_score(Y_train, Y_train_pred))\n",
    "print(\"R2 score on test set : \", r2_score(Y_test, Y_test_pred))"
   ]
  },
  {
   "cell_type": "markdown",
   "metadata": {},
   "source": [
    "### DecisionTreeRegressor and RandomForestRegressor perfom better. So let's dive more into these 2 models and performs some gridSearch"
   ]
  },
  {
   "cell_type": "code",
   "execution_count": 75,
   "metadata": {},
   "outputs": [
    {
     "name": "stdout",
     "output_type": "stream",
     "text": [
      "Grid search...\n",
      "...Done.\n",
      "Best hyperparameters :  {'max_depth': 6, 'min_samples_leaf': 2, 'min_samples_split': 15}\n",
      "Best validation score :  0.18917629062354313\n"
     ]
    }
   ],
   "source": [
    "# Perform grid search\n",
    "print(\"Grid search...\")\n",
    "model_2 = DecisionTreeRegressor()\n",
    "\n",
    "# Grid of values to be tested\n",
    "\n",
    "params = {\n",
    "    \"max_depth\": [4, 6, 8, 10,20, 30, 40],\n",
    "    \"min_samples_leaf\": [1, 2, 5, 6, 8, 10],\n",
    "    \"min_samples_split\": [2, 4, 8, 10, 12, 15],\n",
    "}\n",
    "gridsearch = GridSearchCV(\n",
    "    model_2, param_grid=params, cv=3\n",
    ") \n",
    "\n",
    "\n",
    "gridsearch.fit(X_train_preprocessed, Y_train)\n",
    "print(\"...Done.\")\n",
    "print(\"Best hyperparameters : \", gridsearch.best_params_)\n",
    "print(\"Best validation score : \", gridsearch.best_score_)"
   ]
  },
  {
   "cell_type": "code",
   "execution_count": 76,
   "metadata": {},
   "outputs": [
    {
     "name": "stdout",
     "output_type": "stream",
     "text": [
      "Predictions on training set...\n",
      "...Done.\n",
      "[3.09966777 0.82962612 0.82962612 ... 3.09966777 7.82926829 0.82962612]\n",
      "\n"
     ]
    }
   ],
   "source": [
    "# Predictions on training set\n",
    "print(\"Predictions on training set...\")\n",
    "Y_train_pred = gridsearch.predict(X_train_preprocessed)\n",
    "print(\"...Done.\")\n",
    "print(Y_train_pred)\n",
    "print()\n"
   ]
  },
  {
   "cell_type": "code",
   "execution_count": 77,
   "metadata": {},
   "outputs": [
    {
     "name": "stdout",
     "output_type": "stream",
     "text": [
      "Predictions on test set...\n",
      "...Done.\n",
      "[0.82962612 0.82962612 5.4754522  ... 0.82962612 0.82962612 4.25352113]\n",
      "\n"
     ]
    }
   ],
   "source": [
    "# Predictions on test set\n",
    "print(\"Predictions on test set...\")\n",
    "Y_test_pred = gridsearch.predict(X_test_preprocessed)\n",
    "print(\"...Done.\")\n",
    "print(Y_test_pred)\n",
    "print()\n"
   ]
  },
  {
   "cell_type": "code",
   "execution_count": 78,
   "metadata": {},
   "outputs": [
    {
     "name": "stdout",
     "output_type": "stream",
     "text": [
      "R2 score on training set :  0.45282365328441077\n",
      "R2 score on test set :  0.34504260587630264\n",
      "\n"
     ]
    }
   ],
   "source": [
    "# Print scores\n",
    "print(\"R2 score on training set : \", r2_score(Y_train, Y_train_pred))\n",
    "print(\"R2 score on test set : \", r2_score(Y_test, Y_test_pred))\n",
    "print()\n"
   ]
  },
  {
   "cell_type": "code",
   "execution_count": 79,
   "metadata": {},
   "outputs": [
    {
     "name": "stdout",
     "output_type": "stream",
     "text": [
      "Grid search...\n",
      "...Done.\n",
      "Best hyperparameters :  {'max_depth': 10, 'min_samples_leaf': 10, 'min_samples_split': 2, 'n_estimators': 10}\n",
      "Best validation score :  0.24986646718344185\n"
     ]
    }
   ],
   "source": [
    "# Perform grid search\n",
    "print(\"Grid search...\")\n",
    "model_3 = RandomForestRegressor()\n",
    "\n",
    "# Grid of values to be tested\n",
    "\n",
    "params = {\n",
    "    \"max_depth\": [2, 4, 6, 8, 10, 20, 30, 40],\n",
    "    \"min_samples_leaf\": [1, 2, 5, 6, 8, 10],\n",
    "    \"min_samples_split\": [2, 4, 8,10, 12, 15],\n",
    "    \"n_estimators\": [10, 20, 40, 60, 80, 100],\n",
    "}\n",
    "gridsearch = GridSearchCV(\n",
    "    model_3, param_grid=params, cv=3\n",
    ")  \n",
    "\n",
    "\n",
    "gridsearch.fit(X_train_preprocessed, Y_train)\n",
    "print(\"...Done.\")\n",
    "print(\"Best hyperparameters : \", gridsearch.best_params_)\n",
    "print(\"Best validation score : \", gridsearch.best_score_)"
   ]
  },
  {
   "cell_type": "code",
   "execution_count": 80,
   "metadata": {},
   "outputs": [
    {
     "name": "stdout",
     "output_type": "stream",
     "text": [
      "Predictions on training set...\n",
      "...Done.\n",
      "[ 2.62159552  0.42471533  0.42471533 ...  5.33388223 15.79006692\n",
      "  1.15072116]\n",
      "\n"
     ]
    }
   ],
   "source": [
    "# Predictions on training set\n",
    "print(\"Predictions on training set...\")\n",
    "Y_train_pred = gridsearch.predict(X_train_preprocessed)\n",
    "print(\"...Done.\")\n",
    "print(Y_train_pred)\n",
    "print()\n"
   ]
  },
  {
   "cell_type": "code",
   "execution_count": 81,
   "metadata": {},
   "outputs": [
    {
     "name": "stdout",
     "output_type": "stream",
     "text": [
      "Predictions on test set...\n",
      "...Done.\n",
      "[0.42471533 0.42471533 4.80969676 ... 0.42471533 0.42471533 7.1123079 ]\n",
      "\n"
     ]
    }
   ],
   "source": [
    "# Predictions on test set\n",
    "print(\"Predictions on test set...\")\n",
    "Y_test_pred = gridsearch.predict(X_test_preprocessed)\n",
    "print(\"...Done.\")\n",
    "print(Y_test_pred)\n",
    "print()\n",
    "\n"
   ]
  },
  {
   "cell_type": "code",
   "execution_count": 82,
   "metadata": {},
   "outputs": [
    {
     "name": "stdout",
     "output_type": "stream",
     "text": [
      "R2 score on training set :  0.36124699014136785\n",
      "R2 score on test set :  0.36462394841667056\n",
      "\n"
     ]
    }
   ],
   "source": [
    "# Print scores\n",
    "print(\"R2 score on training set : \", r2_score(Y_train, Y_train_pred))\n",
    "print(\"R2 score on test set : \", r2_score(Y_test, Y_test_pred))\n",
    "print()"
   ]
  },
  {
   "cell_type": "markdown",
   "metadata": {},
   "source": [
    "#  STACKING"
   ]
  },
  {
   "cell_type": "code",
   "execution_count": 83,
   "metadata": {},
   "outputs": [
    {
     "name": "stdout",
     "output_type": "stream",
     "text": [
      "Training stacking regressor...\n",
      "...Done.\n"
     ]
    },
    {
     "data": {
      "text/html": [
       "<div>\n",
       "<style scoped>\n",
       "    .dataframe tbody tr th:only-of-type {\n",
       "        vertical-align: middle;\n",
       "    }\n",
       "\n",
       "    .dataframe tbody tr th {\n",
       "        vertical-align: top;\n",
       "    }\n",
       "\n",
       "    .dataframe thead th {\n",
       "        text-align: right;\n",
       "    }\n",
       "</style>\n",
       "<table border=\"1\" class=\"dataframe\">\n",
       "  <thead>\n",
       "    <tr style=\"text-align: right;\">\n",
       "      <th></th>\n",
       "      <th>random_forest</th>\n",
       "      <th>tree</th>\n",
       "      <th>linear</th>\n",
       "    </tr>\n",
       "  </thead>\n",
       "  <tbody>\n",
       "    <tr>\n",
       "      <th>0</th>\n",
       "      <td>3.099583</td>\n",
       "      <td>3.500000</td>\n",
       "      <td>3.592457</td>\n",
       "    </tr>\n",
       "    <tr>\n",
       "      <th>1</th>\n",
       "      <td>0.448447</td>\n",
       "      <td>0.436170</td>\n",
       "      <td>-0.019756</td>\n",
       "    </tr>\n",
       "    <tr>\n",
       "      <th>2</th>\n",
       "      <td>0.248970</td>\n",
       "      <td>0.241573</td>\n",
       "      <td>0.043510</td>\n",
       "    </tr>\n",
       "    <tr>\n",
       "      <th>3</th>\n",
       "      <td>1.950909</td>\n",
       "      <td>1.888889</td>\n",
       "      <td>1.042771</td>\n",
       "    </tr>\n",
       "    <tr>\n",
       "      <th>4</th>\n",
       "      <td>1.024141</td>\n",
       "      <td>1.030303</td>\n",
       "      <td>0.401455</td>\n",
       "    </tr>\n",
       "    <tr>\n",
       "      <th>...</th>\n",
       "      <td>...</td>\n",
       "      <td>...</td>\n",
       "      <td>...</td>\n",
       "    </tr>\n",
       "    <tr>\n",
       "      <th>7995</th>\n",
       "      <td>8.107286</td>\n",
       "      <td>8.333333</td>\n",
       "      <td>8.009149</td>\n",
       "    </tr>\n",
       "    <tr>\n",
       "      <th>7996</th>\n",
       "      <td>0.155918</td>\n",
       "      <td>0.155556</td>\n",
       "      <td>0.554095</td>\n",
       "    </tr>\n",
       "    <tr>\n",
       "      <th>7997</th>\n",
       "      <td>6.010333</td>\n",
       "      <td>4.000000</td>\n",
       "      <td>11.576829</td>\n",
       "    </tr>\n",
       "    <tr>\n",
       "      <th>7998</th>\n",
       "      <td>15.160000</td>\n",
       "      <td>9.000000</td>\n",
       "      <td>19.042920</td>\n",
       "    </tr>\n",
       "    <tr>\n",
       "      <th>7999</th>\n",
       "      <td>1.052043</td>\n",
       "      <td>1.090909</td>\n",
       "      <td>1.233316</td>\n",
       "    </tr>\n",
       "  </tbody>\n",
       "</table>\n",
       "<p>8000 rows × 3 columns</p>\n",
       "</div>"
      ],
      "text/plain": [
       "      random_forest      tree     linear\n",
       "0          3.099583  3.500000   3.592457\n",
       "1          0.448447  0.436170  -0.019756\n",
       "2          0.248970  0.241573   0.043510\n",
       "3          1.950909  1.888889   1.042771\n",
       "4          1.024141  1.030303   0.401455\n",
       "...             ...       ...        ...\n",
       "7995       8.107286  8.333333   8.009149\n",
       "7996       0.155918  0.155556   0.554095\n",
       "7997       6.010333  4.000000  11.576829\n",
       "7998      15.160000  9.000000  19.042920\n",
       "7999       1.052043  1.090909   1.233316\n",
       "\n",
       "[8000 rows x 3 columns]"
      ]
     },
     "metadata": {},
     "output_type": "display_data"
    },
    {
     "name": "stdout",
     "output_type": "stream",
     "text": [
      "R2 score on training set :  0.41077357996555264\n",
      "R2 score on test set :  0.4472327083388601\n"
     ]
    }
   ],
   "source": [
    "# Train the model\n",
    "from sklearn.ensemble import StackingRegressor\n",
    "print(\"Training stacking regressor...\")\n",
    "\n",
    "stacking = StackingRegressor(\n",
    "    estimators=[(\"random_forest\", model_3), (\"tree\", model_2), (\"linear\", model_1)], cv=3\n",
    ")\n",
    "\n",
    "preds = stacking.fit_transform(X_train_preprocessed, Y_train)\n",
    "predictions = pd.DataFrame(preds, columns=stacking.named_estimators_.keys())\n",
    "print(\"...Done.\")\n",
    "display(predictions)\n",
    "print(\"R2 score on training set : \", stacking.score(X_train_preprocessed, Y_train))\n",
    "print(\"R2 score on test set : \", stacking.score(X_test_preprocessed, Y_test))"
   ]
  }
 ],
 "metadata": {
  "kernelspec": {
   "display_name": "base",
   "language": "python",
   "name": "python3"
  },
  "language_info": {
   "codemirror_mode": {
    "name": "ipython",
    "version": 3
   },
   "file_extension": ".py",
   "mimetype": "text/x-python",
   "name": "python",
   "nbconvert_exporter": "python",
   "pygments_lexer": "ipython3",
   "version": "3.11.7"
  }
 },
 "nbformat": 4,
 "nbformat_minor": 2
}
